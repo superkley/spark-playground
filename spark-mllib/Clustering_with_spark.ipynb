{
 "cells": [
  {
   "cell_type": "code",
   "execution_count": 1,
   "metadata": {
    "collapsed": true
   },
   "outputs": [],
   "source": [
    "genres = sc.textFile(\"../data/ML_spark/MovieLens/u.genre\")"
   ]
  },
  {
   "cell_type": "code",
   "execution_count": 2,
   "metadata": {},
   "outputs": [
    {
     "name": "stdout",
     "output_type": "stream",
     "text": [
      "unknown|0\n",
      "Action|1\n",
      "Adventure|2\n",
      "Animation|3\n",
      "Children's|4\n"
     ]
    }
   ],
   "source": [
    "for line in genres.take(10):\n",
    "    print line"
   ]
  },
  {
   "cell_type": "code",
   "execution_count": 3,
   "metadata": {},
   "outputs": [],
   "source": [
    "genre_map = genres.filter(lambda x: len(x) > 0).map(lambda line : line.split('|')).map(lambda x:(x[1],x[0])).collectAsMap()"
   ]
  },
  {
   "cell_type": "code",
   "execution_count": 4,
   "metadata": {},
   "outputs": [
    {
     "data": {
      "text/plain": [
       "{u'0': u'unknown',\n",
       " u'1': u'Action',\n",
       " u'10': u'Film-Noir',\n",
       " u'11': u'Horror',\n",
       " u'12': u'Musical',\n",
       " u'13': u'Mystery',\n",
       " u'14': u'Romance',\n",
       " u'15': u'Sci-Fi',\n",
       " u'16': u'Thriller',\n",
       " u'17': u'War',\n",
       " u'18': u'Western',\n",
       " u'2': u'Adventure',\n",
       " u'3': u'Animation',\n",
       " u'4': u\"Children's\",\n",
       " u'5': u'Comedy',\n",
       " u'6': u'Crime',\n",
       " u'7': u'Documentary',\n",
       " u'8': u'Drama',\n",
       " u'9': u'Fantasy'}"
      ]
     },
     "execution_count": 4,
     "metadata": {},
     "output_type": "execute_result"
    }
   ],
   "source": [
    "genre_map"
   ]
  },
  {
   "cell_type": "code",
   "execution_count": 5,
   "metadata": {},
   "outputs": [
    {
     "name": "stdout",
     "output_type": "stream",
     "text": [
      "{u'11': u'Horror', u'10': u'Film-Noir', u'13': u'Mystery', u'12': u'Musical', u'15': u'Sci-Fi', u'14': u'Romance', u'17': u'War', u'16': u'Thriller', u'18': u'Western', u'1': u'Action', u'0': u'unknown', u'3': u'Animation', u'2': u'Adventure', u'5': u'Comedy', u'4': u\"Children's\", u'7': u'Documentary', u'6': u'Crime', u'9': u'Fantasy', u'8': u'Drama'}\n"
     ]
    }
   ],
   "source": [
    "print genre_map"
   ]
  },
  {
   "cell_type": "code",
   "execution_count": 6,
   "metadata": {},
   "outputs": [
    {
     "name": "stdout",
     "output_type": "stream",
     "text": [
      "1|Toy Story (1995)|01-Jan-1995||http://us.imdb.com/M/title-exact?Toy%20Story%20(1995)|0|0|0|1|1|1|0|0|0|0|0|0|0|0|0|0|0|0|0\n"
     ]
    }
   ],
   "source": [
    "movies = sc.textFile('../data/ML_spark/MovieLens/u.item')\n",
    "print movies.first()"
   ]
  },
  {
   "cell_type": "code",
   "execution_count": 7,
   "metadata": {
    "scrolled": false
   },
   "outputs": [
    {
     "data": {
      "text/plain": [
       "(1, u\"Toy Story (1995),Animation,Children's,Comedy\")"
      ]
     },
     "execution_count": 7,
     "metadata": {},
     "output_type": "execute_result"
    }
   ],
   "source": [
    "def func1(array):\n",
    "    genres = array[5:]\n",
    "    genres_assigned = zip(genres, range(len(genres)))\n",
    "    index_1=[]\n",
    "    for x,y in genres_assigned:\n",
    "        if x=='1':\n",
    "            index_1.append(y)\n",
    "    index_1_val = [genre_map[str(i)] for i in index_1]\n",
    "    index_1_val_str = ','.join(index_1_val)\n",
    "    return (int(array[0]),array[1]+','+index_1_val_str)\n",
    "#     return array[0]+','+array[1]+','+\n",
    "titles_and_genres = movies.map(lambda x: x.split('|')).map(lambda x:func1(x))\n",
    "titles_and_genres.first()"
   ]
  },
  {
   "cell_type": "code",
   "execution_count": 8,
   "metadata": {},
   "outputs": [
    {
     "data": {
      "text/plain": [
       "PythonRDD[8] at RDD at PythonRDD.scala:43"
      ]
     },
     "execution_count": 8,
     "metadata": {},
     "output_type": "execute_result"
    }
   ],
   "source": [
    "titles_and_genres"
   ]
  },
  {
   "cell_type": "markdown",
   "metadata": {},
   "source": [
    "#train the recommendation model"
   ]
  },
  {
   "cell_type": "code",
   "execution_count": 9,
   "metadata": {
    "collapsed": true
   },
   "outputs": [],
   "source": [
    "from pyspark.mllib.recommendation import ALS"
   ]
  },
  {
   "cell_type": "code",
   "execution_count": 10,
   "metadata": {
    "collapsed": true
   },
   "outputs": [],
   "source": [
    "from pyspark.mllib.recommendation import Rating"
   ]
  },
  {
   "cell_type": "code",
   "execution_count": 11,
   "metadata": {
    "collapsed": true
   },
   "outputs": [],
   "source": [
    "raw_data = sc.textFile(\"../data/ML_spark/MovieLens/u.data\")"
   ]
  },
  {
   "cell_type": "code",
   "execution_count": 12,
   "metadata": {},
   "outputs": [
    {
     "name": "stdout",
     "output_type": "stream",
     "text": [
      "[u'196', u'242', u'3']\n"
     ]
    }
   ],
   "source": [
    "raw_ratings = raw_data.map(lambda x:x.split('\\t')[:3])\n",
    "print raw_ratings.first()"
   ]
  },
  {
   "cell_type": "code",
   "execution_count": 13,
   "metadata": {
    "collapsed": true
   },
   "outputs": [],
   "source": [
    "ratings = raw_ratings.map(lambda x: Rating(x[0], x[1], x[2]))"
   ]
  },
  {
   "cell_type": "code",
   "execution_count": 14,
   "metadata": {},
   "outputs": [
    {
     "data": {
      "text/plain": [
       "PythonRDD[12] at RDD at PythonRDD.scala:43"
      ]
     },
     "execution_count": 14,
     "metadata": {},
     "output_type": "execute_result"
    }
   ],
   "source": [
    "ratings.cache()"
   ]
  },
  {
   "cell_type": "code",
   "execution_count": 27,
   "metadata": {},
   "outputs": [],
   "source": [
    "als_model = ALS.train(ratings,50,5,0.1)"
   ]
  },
  {
   "cell_type": "code",
   "execution_count": 28,
   "metadata": {
    "collapsed": true
   },
   "outputs": [],
   "source": [
    "from pyspark.mllib.linalg import Vectors"
   ]
  },
  {
   "cell_type": "code",
   "execution_count": 29,
   "metadata": {},
   "outputs": [
    {
     "name": "stdout",
     "output_type": "stream",
     "text": [
      "(1, DenseVector([0.1189, 0.154, -0.1281, 0.0743, 0.3372, -0.0218, -0.1564, -0.0752, -0.3558, -0.129, -0.2035, 0.425, 0.2254, 0.0389, -0.16, 0.1132, -0.0508, -0.2512, 0.3065, -0.3016, 0.2264, -0.1025, 0.594, 0.4342, 0.0976, -0.2594, 0.4988, -0.1878, -0.543, -0.2482, -0.2286, -0.2257, -0.3169, 0.5306, -0.2114, 0.1968, 0.1103, -0.1596, 0.446, 0.13, -0.2431, -0.1562, -0.2451, 0.2605, -0.5239, -0.1533, -0.078, -0.18, 0.0902, -0.2976]))\n",
      "[0.287010610104,-0.306130200624,-0.0110167916864,-0.100282646716,0.402284443378,0.133642598987,-0.17621190846,0.188554614782,-0.327551275492,-0.263691723347,-0.457682311535,0.524626433849,0.15720166266,-0.0829833373427,-0.295744478703,0.105343133211,0.277225226164,-0.273413777351,0.335160762072,-0.185756832361,0.445180237293,-0.600775659084,0.723579525948,-0.00662225764245,0.0986614897847,-0.320296704769,0.743609786034,-0.180224940181,-0.503776729107,-0.422970384359,-0.56777215004,-0.231761977077,0.00380780920386,1.10723686218,-0.27037063241,-0.0452572144568,0.418190091848,-0.00451346393675,0.329894691706,-0.272329092026,-0.151863947511,0.103571020067,-0.465166419744,0.201156660914,-0.603282809258,-0.0489130392671,0.0569526553154,-0.0179597213864,0.0932706743479,0.100327283144]\n"
     ]
    }
   ],
   "source": [
    "movie_factors = als_model.productFeatures().map(lambda (id,factor): (id,Vectors.dense(factor)))\n",
    "print movie_factors.first()\n",
    "movie_vectors = movie_factors.map(lambda (id,vec):vec)\n",
    "user_factors = als_model.userFeatures().map(lambda (id,factor):(id,Vectors.dense(factor)))\n",
    "user_vectors = user_factors.map(lambda (id, vec):vec)\n",
    "print user_vectors.first()"
   ]
  },
  {
   "cell_type": "markdown",
   "metadata": {},
   "source": [
    "# Normalization"
   ]
  },
  {
   "cell_type": "code",
   "execution_count": 30,
   "metadata": {
    "collapsed": true
   },
   "outputs": [],
   "source": [
    "from pyspark.mllib.linalg.distributed import RowMatrix"
   ]
  },
  {
   "cell_type": "code",
   "execution_count": 31,
   "metadata": {},
   "outputs": [],
   "source": [
    "moive_matrix = RowMatrix(movie_vectors)\n",
    "user_matrix = RowMatrix(user_vectors)"
   ]
  },
  {
   "cell_type": "code",
   "execution_count": 32,
   "metadata": {},
   "outputs": [
    {
     "name": "stdout",
     "output_type": "stream",
     "text": [
      "[ 0.18750814  0.01169254 -0.02734478 -0.170362    0.26449361  0.09328681\n",
      " -0.09368825 -0.05455146 -0.31470811 -0.11623462 -0.17735984  0.29497074\n",
      "  0.01358745 -0.03821302 -0.12034573  0.04143458  0.00713291 -0.19282069\n",
      "  0.25698791 -0.11527816  0.27024335 -0.23577561  0.4383614   0.07292199\n",
      "  0.03154241 -0.03207364  0.34252166 -0.11187901 -0.29416202 -0.25259927\n",
      " -0.14792767 -0.03822178 -0.1166447   0.37780763 -0.11059189  0.02250264\n",
      "  0.19376867 -0.18940171  0.31564529 -0.03376821 -0.15598154  0.04339252\n",
      " -0.20381016  0.04950823 -0.31326934 -0.06651079  0.09376307 -0.15284407\n",
      "  0.1306952  -0.19199014]\n",
      "[ 0.28232441 -0.02025034 -0.0503165  -0.20999107  0.43982959  0.135303\n",
      " -0.10612427 -0.13162832 -0.44522603 -0.17735804 -0.26152583  0.46319602\n",
      "  0.04430005 -0.05514997 -0.20189153  0.05529095 -0.00535763 -0.25131599\n",
      "  0.46477523 -0.19353156  0.4080227  -0.33486004  0.69500958  0.08647023\n",
      "  0.06751767 -0.08725915  0.60393113 -0.1492248  -0.50321613 -0.41688217\n",
      " -0.2505031  -0.13129496 -0.13235745  0.60829942 -0.19391345  0.0209759\n",
      "  0.32917328 -0.30137196  0.53311191 -0.05430371 -0.24597011  0.08417378\n",
      " -0.29744264  0.12974126 -0.51846511 -0.10117024  0.16286128 -0.22534439\n",
      "  0.20953906 -0.27966637]\n",
      "[ 0.02892207  0.03438313  0.04186803  0.02695593  0.02083632  0.02474678\n",
      "  0.0253733   0.03960579  0.03340032  0.03039093  0.02906974  0.03089394\n",
      "  0.03240216  0.02442092  0.02853533  0.02470271  0.03486589  0.03570859\n",
      "  0.03583103  0.02629473  0.02823109  0.05062858  0.03884209  0.03225025\n",
      "  0.03051577  0.03312657  0.03718484  0.02655099  0.03043674  0.03074311\n",
      "  0.02611195  0.0248658   0.03405954  0.05311906  0.02862356  0.03933963\n",
      "  0.02798876  0.02457979  0.02819214  0.02894365  0.02935893  0.02863376\n",
      "  0.0294932   0.02484503  0.02623704  0.02536193  0.03738258  0.03314117\n",
      "  0.03302868  0.02940284]\n",
      "[ 0.03585419  0.04234589  0.05370162  0.03917296  0.02541609  0.03264912\n",
      "  0.03202273  0.0498851   0.03508478  0.04914262  0.02959581  0.0275413\n",
      "  0.03805412  0.03855514  0.03557169  0.02978567  0.0413707   0.04402236\n",
      "  0.04809669  0.03024644  0.03384127  0.05928482  0.03756111  0.03677017\n",
      "  0.03348211  0.03739139  0.04276264  0.03257617  0.03640958  0.02682371\n",
      "  0.02515478  0.02780868  0.04107328  0.04266305  0.03716574  0.0450808\n",
      "  0.0292762   0.02995371  0.03178914  0.03617063  0.03134829  0.03841988\n",
      "  0.04344533  0.02719067  0.03056929  0.0294235   0.04788651  0.04157059\n",
      "  0.03548508  0.03310165]\n"
     ]
    }
   ],
   "source": [
    "from pyspark.mllib.stat import MultivariateStatisticalSummary\n",
    "desc_moive_matrix = MultivariateStatisticalSummary(moive_matrix.rows)\n",
    "desc_user_matrix = MultivariateStatisticalSummary(user_matrix.rows)\n",
    "print desc_moive_matrix.mean()\n",
    "print desc_user_matrix.mean()\n",
    "print desc_moive_matrix.variance()\n",
    "print desc_user_matrix.variance()"
   ]
  },
  {
   "cell_type": "markdown",
   "metadata": {},
   "source": [
    "#Training a clustering model"
   ]
  },
  {
   "cell_type": "code",
   "execution_count": 33,
   "metadata": {
    "collapsed": true
   },
   "outputs": [],
   "source": [
    "from pyspark.mllib.clustering import KMeans"
   ]
  },
  {
   "cell_type": "code",
   "execution_count": 34,
   "metadata": {
    "collapsed": true
   },
   "outputs": [],
   "source": [
    "num_clusters = 5\n",
    "num_iterations = 20\n",
    "num_runs =3"
   ]
  },
  {
   "cell_type": "code",
   "execution_count": 35,
   "metadata": {},
   "outputs": [],
   "source": [
    "movie_cluster_model = KMeans.train(movie_vectors,num_clusters, num_iterations, num_runs)"
   ]
  },
  {
   "cell_type": "code",
   "execution_count": 36,
   "metadata": {},
   "outputs": [],
   "source": [
    "movie_cluster_model_coverged = KMeans.train(movie_vectors,num_clusters,100)"
   ]
  },
  {
   "cell_type": "code",
   "execution_count": 37,
   "metadata": {},
   "outputs": [],
   "source": [
    "user_cluster_model = KMeans.train(user_vectors,num_clusters,num_iterations, num_runs)"
   ]
  },
  {
   "cell_type": "code",
   "execution_count": 38,
   "metadata": {},
   "outputs": [
    {
     "name": "stdout",
     "output_type": "stream",
     "text": [
      "4\n"
     ]
    }
   ],
   "source": [
    "movie1 = movie_vectors.first()\n",
    "movie1_cluster = movie_cluster_model.predict(movie1)\n",
    "print movie1_cluster"
   ]
  },
  {
   "cell_type": "code",
   "execution_count": 39,
   "metadata": {},
   "outputs": [
    {
     "name": "stdout",
     "output_type": "stream",
     "text": [
      "4,0,0,3,0,4,3,4,4,3\n"
     ]
    }
   ],
   "source": [
    "predictions = movie_cluster_model.predict(movie_vectors)\n",
    "print \",\".join([str(i) for i in predictions.take(10)])"
   ]
  },
  {
   "cell_type": "code",
   "execution_count": 40,
   "metadata": {},
   "outputs": [],
   "source": [
    "titles_factors = titles_and_genres.join(movie_factors)"
   ]
  },
  {
   "cell_type": "code",
   "execution_count": 41,
   "metadata": {},
   "outputs": [
    {
     "data": {
      "text/plain": [
       "(2,\n",
       " (u'GoldenEye (1995),Action,Adventure,Thriller',\n",
       "  DenseVector([-0.0777, 0.0404, -0.1395, -0.0983, 0.2061, 0.2069, -0.2453, -0.0599, -0.2359, -0.2195, -0.2442, 0.3522, -0.1026, -0.2338, -0.1505, 0.1071, -0.1449, -0.2069, 0.2843, -0.1755, 0.3383, -0.0528, 0.4846, 0.4116, -0.1236, -0.1501, 0.2868, -0.2654, -0.4177, -0.269, -0.1112, -0.0626, -0.2138, 0.3742, -0.2308, -0.0122, 0.2077, -0.2632, 0.4234, -0.0047, 0.0641, 0.2155, -0.214, 0.2074, -0.4964, -0.0304, -0.1361, -0.132, 0.0544, -0.198])))"
      ]
     },
     "execution_count": 41,
     "metadata": {},
     "output_type": "execute_result"
    }
   ],
   "source": [
    "# titles_and_genres.first()\n",
    "movie_factors.first()\n",
    "# titles_and_genres.first()\n",
    "titles_factors.first()"
   ]
  },
  {
   "cell_type": "code",
   "execution_count": 42,
   "metadata": {},
   "outputs": [],
   "source": [
    "def func2(x):\n",
    "    id,(name_genres,vec) = x\n",
    "    pred = movie_cluster_model.predict(vec)\n",
    "    cluster_center = movie_cluster_model.clusterCenters[pred]\n",
    "    cluster_center_vec = Vectors.dense(cluster_center)\n",
    "    \n",
    "#     return str(id)+','+str(pred)+','+name_genres+','+str(dist)\n",
    "    dist = vec.squared_distance(cluster_center_vec)\n",
    "    return str(id)+','+ name_genres+','+str(pred)+','+str(dist)\n",
    "\n",
    "movies_assigned = titles_factors.map(lambda x:func2(x))  "
   ]
  },
  {
   "cell_type": "code",
   "execution_count": 43,
   "metadata": {},
   "outputs": [
    {
     "data": {
      "text/plain": [
       "u'2,GoldenEye (1995),Action,Adventure,Thriller,0,0.533530635748'"
      ]
     },
     "execution_count": 43,
     "metadata": {},
     "output_type": "execute_result"
    }
   ],
   "source": [
    "movies_assigned.first()"
   ]
  },
  {
   "cell_type": "code",
   "execution_count": 44,
   "metadata": {},
   "outputs": [
    {
     "data": {
      "text/plain": [
       "[u'2,GoldenEye (1995),Action,Adventure,Thriller,0,0.533530635748',\n",
       " u'4,Get Shorty (1995),Action,Comedy,Drama,3,0.860696969886',\n",
       " u'6,Shanghai Triad (Yao a yao yao dao waipo qiao) (1995),Drama,4,2.52523804068',\n",
       " u\"8,Babe (1995),Children's,Comedy,Drama,4,0.993965215446\",\n",
       " u'10,Richard III (1995),Drama,War,3,1.38891969026',\n",
       " u'12,Usual Suspects, The (1995),Crime,Thriller,4,0.892611987906',\n",
       " u'14,Postino, Il (1994),Drama,Romance,4,1.06500921868',\n",
       " u'16,French Twist (Gazon maudit) (1995),Comedy,Romance,3,1.22869754205',\n",
       " u'18,White Balloon, The (1995),Drama,3,1.31161874418',\n",
       " u'20,Angels and Insects (1995),Drama,Romance,4,2.08422762873',\n",
       " u'22,Braveheart (1995),Action,Drama,War,0,1.04398419241',\n",
       " u'24,Rumble in the Bronx (1995),Action,Adventure,Crime,3,1.0724510624',\n",
       " u'26,Brothers McMullen, The (1995),Comedy,4,1.29409091658',\n",
       " u'28,Apollo 13 (1995),Action,Drama,Thriller,0,0.513403191581',\n",
       " u'30,Belle de jour (1967),Drama,4,0.772418653435',\n",
       " u'32,Crumb (1994),Documentary,3,0.964802235433',\n",
       " u'34,Doom Generation, The (1995),Comedy,Drama,1,2.19957194613',\n",
       " u'36,Mad Love (1995),Drama,Romance,2,1.20447994057',\n",
       " u'38,Net, The (1995),Sci-Fi,Thriller,0,0.722835572404',\n",
       " u'40,To Wong Foo, Thanks for Everything! Julie Newmar (1995),Comedy,0,2.02274776965']"
      ]
     },
     "execution_count": 44,
     "metadata": {},
     "output_type": "execute_result"
    }
   ],
   "source": [
    "movies_assigned.take(20)"
   ]
  },
  {
   "cell_type": "markdown",
   "metadata": {},
   "source": [
    "#coputing performance metrics"
   ]
  },
  {
   "cell_type": "code",
   "execution_count": 45,
   "metadata": {},
   "outputs": [
    {
     "name": "stdout",
     "output_type": "stream",
     "text": [
      "WCSS for movies: 2172.650469\n",
      "WCSS for users: 1458.771774\n"
     ]
    }
   ],
   "source": [
    "movie_cost = movie_cluster_model.computeCost(movie_vectors)\n",
    "user_cost = user_cluster_model.computeCost(user_vectors)\n",
    "print \"WCSS for movies: %f\"%movie_cost\n",
    "print \"WCSS for users: %f\"%user_cost"
   ]
  },
  {
   "cell_type": "code",
   "execution_count": 51,
   "metadata": {},
   "outputs": [
    {
     "name": "stdout",
     "output_type": "stream",
     "text": [
      "WCSS for k=2 : 790.686228\n",
      "WCSS for k=3 : 785.881720\n",
      "WCSS for k=4 : 784.198163\n",
      "WCSS for k=5 : 788.684923\n",
      "WCSS for k=10 : 771.914133\n",
      "WCSS for k=20 : 778.678835\n"
     ]
    }
   ],
   "source": [
    "train_test_split_movies = movie_vectors.randomSplit([0.6,0.4],123)\n",
    "train_movies = train_test_split_movies[0]\n",
    "test_movies = train_test_split_movies[1]\n",
    "for k in [2,3,4,5,10,20]:\n",
    "    k_model = KMeans.train(train_movies,num_iterations,k,num_runs)\n",
    "    cost = k_model.computeCost(test_movies)\n",
    "    print 'WCSS for k=%d : %f'%(k,cost)\n",
    "# costs_moives = [2,3,4,5,10,20].map(lambda k:(k, KMeans.train(train_movies,num_iterations,k,num_runs)).compute_cost(test_movies))"
   ]
  },
  {
   "cell_type": "code",
   "execution_count": 52,
   "metadata": {},
   "outputs": [
    {
     "name": "stdout",
     "output_type": "stream",
     "text": [
      "WCSS for k=2 : 547.122121\n",
      "WCSS for k=3 : 551.845096\n",
      "WCSS for k=4 : 551.888517\n",
      "WCSS for k=5 : 555.971549\n",
      "WCSS for k=10 : 546.884437\n",
      "WCSS for k=20 : 539.705653\n"
     ]
    }
   ],
   "source": [
    "train_test_split_movies = user_vectors.randomSplit([0.6,0.4],123)\n",
    "train_users = train_test_split_movies[0]\n",
    "test_users = train_test_split_movies[1]\n",
    "for k in [2,3,4,5,10,20]:\n",
    "    k_model = KMeans.train(train_users,num_iterations,k,num_runs)\n",
    "    cost = k_model.computeCost(test_users)\n",
    "    print 'WCSS for k=%d : %f'%(k,cost)"
   ]
  },
  {
   "cell_type": "code",
   "execution_count": null,
   "metadata": {
    "collapsed": true
   },
   "outputs": [],
   "source": []
  }
 ],
 "metadata": {
  "kernelspec": {
   "display_name": "Python 3",
   "language": "python",
   "name": "python3"
  },
  "language_info": {
   "codemirror_mode": {
    "name": "ipython",
    "version": 3
   },
   "file_extension": ".py",
   "mimetype": "text/x-python",
   "name": "python",
   "nbconvert_exporter": "python",
   "pygments_lexer": "ipython3",
   "version": "3.5.4"
  }
 },
 "nbformat": 4,
 "nbformat_minor": 1
}
