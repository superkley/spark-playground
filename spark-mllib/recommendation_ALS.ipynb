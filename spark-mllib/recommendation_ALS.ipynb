{
 "cells": [
  {
   "cell_type": "code",
   "execution_count": 2,
   "metadata": {},
   "outputs": [
    {
     "data": {
      "text/plain": [
       "u'local'"
      ]
     },
     "execution_count": 2,
     "metadata": {},
     "output_type": "execute_result"
    }
   ],
   "source": [
    "# test pyspark type\n",
    "\n",
    "sc.master[0:5]"
   ]
  },
  {
   "cell_type": "code",
   "execution_count": 3,
   "metadata": {
    "collapsed": true
   },
   "outputs": [],
   "source": [
    "# choose data source\n",
    "\n",
    "global Path\n",
    "if sc.master[0:5]==\"local\":\n",
    "    Path = \"file:/home/cloudera/als/\"\n",
    "else:\n",
    "    Path=\"/user/cloudera/als/\""
   ]
  },
  {
   "cell_type": "code",
   "execution_count": 4,
   "metadata": {},
   "outputs": [
    {
     "data": {
      "text/plain": [
       "24404097"
      ]
     },
     "execution_count": 4,
     "metadata": {},
     "output_type": "execute_result"
    }
   ],
   "source": [
    "# loading csv & count all rdd\n",
    "\n",
    "rawUserData = sc.textFile(Path + \"ratings.csv\")\n",
    "rawUserData.count()"
   ]
  },
  {
   "cell_type": "code",
   "execution_count": 5,
   "metadata": {},
   "outputs": [
    {
     "data": {
      "text/plain": [
       "[u'userId,movieId,rating,timestamp',\n",
       " u'1,122,2.0,945544824',\n",
       " u'1,172,1.0,945544871',\n",
       " u'1,1221,5.0,945544788',\n",
       " u'1,1441,4.0,945544871',\n",
       " u'1,1609,3.0,945544824',\n",
       " u'1,1961,3.0,945544871',\n",
       " u'1,1972,1.0,945544871',\n",
       " u'2,441,2.0,1008942733',\n",
       " u'2,494,2.0,1008942733']"
      ]
     },
     "execution_count": 5,
     "metadata": {},
     "output_type": "execute_result"
    }
   ],
   "source": [
    "# see data\n",
    "\n",
    "rawUserData.take(10)"
   ]
  },
  {
   "cell_type": "code",
   "execution_count": 6,
   "metadata": {},
   "outputs": [
    {
     "data": {
      "text/plain": [
       "[u'1,122,2.0,945544824',\n",
       " u'1,172,1.0,945544871',\n",
       " u'1,1221,5.0,945544788',\n",
       " u'1,1441,4.0,945544871',\n",
       " u'1,1609,3.0,945544824',\n",
       " u'1,1961,3.0,945544871',\n",
       " u'1,1972,1.0,945544871',\n",
       " u'2,441,2.0,1008942733',\n",
       " u'2,494,2.0,1008942733',\n",
       " u'2,1193,4.0,1008942667']"
      ]
     },
     "execution_count": 6,
     "metadata": {},
     "output_type": "execute_result"
    }
   ],
   "source": [
    "# skip first row\n",
    "\n",
    "header = rawUserData.first()\n",
    "rawUserData = rawUserData.filter(lambda line:line != header) \n",
    "rawUserData.take(10)"
   ]
  },
  {
   "cell_type": "code",
   "execution_count": 7,
   "metadata": {},
   "outputs": [],
   "source": [
    "# import Rating model\n",
    "\n",
    "from pyspark.mllib.recommendation import Rating"
   ]
  },
  {
   "cell_type": "code",
   "execution_count": 8,
   "metadata": {},
   "outputs": [
    {
     "data": {
      "text/plain": [
       "[[u'1', u'122', u'2.0', u'945544824'],\n",
       " [u'1', u'172', u'1.0', u'945544871'],\n",
       " [u'1', u'1221', u'5.0', u'945544788'],\n",
       " [u'1', u'1441', u'4.0', u'945544871'],\n",
       " [u'1', u'1609', u'3.0', u'945544824'],\n",
       " [u'1', u'1961', u'3.0', u'945544871'],\n",
       " [u'1', u'1972', u'1.0', u'945544871'],\n",
       " [u'2', u'441', u'2.0', u'1008942733'],\n",
       " [u'2', u'494', u'2.0', u'1008942733'],\n",
       " [u'2', u'1193', u'4.0', u'1008942667']]"
      ]
     },
     "execution_count": 8,
     "metadata": {},
     "output_type": "execute_result"
    }
   ],
   "source": [
    "# choose 1-3 colume to Operation (list type)\n",
    "\n",
    "rawRatings = rawUserData.map(lambda line:line.split(\",\")[:4])\n",
    "rawRatings.take(10)"
   ]
  },
  {
   "cell_type": "code",
   "execution_count": 9,
   "metadata": {},
   "outputs": [
    {
     "data": {
      "text/plain": [
       "pyspark.rdd.PipelinedRDD"
      ]
     },
     "execution_count": 9,
     "metadata": {},
     "output_type": "execute_result"
    }
   ],
   "source": [
    "type(rawRatings)"
   ]
  },
  {
   "cell_type": "code",
   "execution_count": 10,
   "metadata": {},
   "outputs": [
    {
     "data": {
      "text/plain": [
       "[(u'1', u'122', u'2.0'),\n",
       " (u'1', u'172', u'1.0'),\n",
       " (u'1', u'1221', u'5.0'),\n",
       " (u'1', u'1441', u'4.0'),\n",
       " (u'1', u'1609', u'3.0'),\n",
       " (u'1', u'1961', u'3.0'),\n",
       " (u'1', u'1972', u'1.0'),\n",
       " (u'2', u'441', u'2.0'),\n",
       " (u'2', u'494', u'2.0'),\n",
       " (u'2', u'1193', u'4.0')]"
      ]
     },
     "execution_count": 10,
     "metadata": {},
     "output_type": "execute_result"
    }
   ],
   "source": [
    "# establish ratingsRDD (tuple type)\n",
    "\n",
    "RatingsRDD = rawRatings.map(lambda x:(x[0],x[1],x[2]))\n",
    "RatingsRDD.take(10)"
   ]
  },
  {
   "cell_type": "code",
   "execution_count": 11,
   "metadata": {},
   "outputs": [
    {
     "data": {
      "text/plain": [
       "pyspark.rdd.PipelinedRDD"
      ]
     },
     "execution_count": 11,
     "metadata": {},
     "output_type": "execute_result"
    }
   ],
   "source": [
    "type(RatingsRDD)"
   ]
  },
  {
   "cell_type": "code",
   "execution_count": 12,
   "metadata": {},
   "outputs": [
    {
     "data": {
      "text/plain": [
       "24404096"
      ]
     },
     "execution_count": 12,
     "metadata": {},
     "output_type": "execute_result"
    }
   ],
   "source": [
    "# count all rdd\n",
    "\n",
    "numRatings = RatingsRDD.count()\n",
    "numRatings"
   ]
  },
  {
   "cell_type": "code",
   "execution_count": 13,
   "metadata": {},
   "outputs": [
    {
     "data": {
      "text/plain": [
       "259137"
      ]
     },
     "execution_count": 13,
     "metadata": {},
     "output_type": "execute_result"
    }
   ],
   "source": [
    "# count unique user\n",
    "\n",
    "numUsers = RatingsRDD.map(lambda x:x[0]).distinct().count()\n",
    "numUsers"
   ]
  },
  {
   "cell_type": "code",
   "execution_count": 14,
   "metadata": {},
   "outputs": [
    {
     "data": {
      "text/plain": [
       "39443"
      ]
     },
     "execution_count": 14,
     "metadata": {},
     "output_type": "execute_result"
    }
   ],
   "source": [
    "# count unique movie\n",
    "\n",
    "numMovies = RatingsRDD.map(lambda x:x[1]).distinct().count()\n",
    "numMovies"
   ]
  },
  {
   "cell_type": "code",
   "execution_count": 15,
   "metadata": {
    "collapsed": true
   },
   "outputs": [],
   "source": [
    "# import ALS model\n",
    "\n",
    "from pyspark.mllib.recommendation import ALS\n"
   ]
  },
  {
   "cell_type": "code",
   "execution_count": 16,
   "metadata": {},
   "outputs": [],
   "source": [
    "# import os\n",
    "# os.environ[\"PYSPARK_PYTHON\"] = os.environ[\"CONDA_DIR\"] + \"/envs/python2/bin/python2\""
   ]
  },
  {
   "cell_type": "code",
   "execution_count": 17,
   "metadata": {},
   "outputs": [
    {
     "name": "stdout",
     "output_type": "stream",
     "text": [
      "<pyspark.mllib.recommendation.MatrixFactorizationModel object at 0x7fe07c3a5190>\n"
     ]
    }
   ],
   "source": [
    "# Explicit rating\n",
    "# ALS.train(ratings, rank, iteration=5(default), lambda_=0.01(default))\n",
    "# return \"MatrixFactorizationModel\"\n",
    "\n",
    "# import numpy\n",
    "\n",
    "model = ALS.train(RatingsRDD, 10, 10, 0.01)\n",
    "print model"
   ]
  },
  {
   "cell_type": "code",
   "execution_count": 19,
   "metadata": {},
   "outputs": [],
   "source": [
    "# Implicit rating\n",
    "# ALS.trainImplicit(ratings, rank, iteration=5(default), lambda_=0.01(default))\n",
    "# return \"MatrixFactorizationModel\"\n"
   ]
  },
  {
   "cell_type": "code",
   "execution_count": 20,
   "metadata": {},
   "outputs": [
    {
     "data": {
      "text/plain": [
       "pyspark.mllib.recommendation.MatrixFactorizationModel"
      ]
     },
     "execution_count": 20,
     "metadata": {},
     "output_type": "execute_result"
    }
   ],
   "source": [
    "type(model)"
   ]
  },
  {
   "cell_type": "code",
   "execution_count": 21,
   "metadata": {},
   "outputs": [
    {
     "data": {
      "text/plain": [
       "[Rating(user=100, product=142094, rating=8.42171155371899),\n",
       " Rating(user=100, product=153010, rating=8.225754078347764),\n",
       " Rating(user=100, product=153184, rating=8.225754078347764),\n",
       " Rating(user=100, product=153014, rating=7.403178598082263),\n",
       " Rating(user=100, product=153018, rating=7.403178598082263)]"
      ]
     },
     "execution_count": 21,
     "metadata": {},
     "output_type": "execute_result"
    }
   ],
   "source": [
    "# Recommend Movies\n",
    "# model.recommendProducts(user_id, recommend_movie_num)\n",
    "\n",
    "model.recommendProducts(100,5)"
   ]
  },
  {
   "cell_type": "code",
   "execution_count": 23,
   "metadata": {},
   "outputs": [
    {
     "data": {
      "text/plain": [
       "3.2500968010532523"
      ]
     },
     "execution_count": 23,
     "metadata": {},
     "output_type": "execute_result"
    }
   ],
   "source": [
    "# Recommend Movie Points\n",
    "# model.predict(user_id, recommend_movie_id)\n",
    "\n",
    "model.predict(100,1141)"
   ]
  },
  {
   "cell_type": "code",
   "execution_count": 55,
   "metadata": {},
   "outputs": [
    {
     "data": {
      "text/plain": [
       "[Rating(user=90323, product=200, rating=7.140733394855737),\n",
       " Rating(user=164593, product=200, rating=6.915808259127213),\n",
       " Rating(user=210231, product=200, rating=6.698500480120079),\n",
       " Rating(user=11038, product=200, rating=6.692790117700989),\n",
       " Rating(user=234323, product=200, rating=6.380934034635413)]"
      ]
     },
     "execution_count": 55,
     "metadata": {},
     "output_type": "execute_result"
    }
   ],
   "source": [
    "# Recommend Users\n",
    "# model.recommendUsers(product_id, recommend_user_num)\n",
    "\n",
    "model.recommendUsers(product = 200, num = 5)"
   ]
  },
  {
   "cell_type": "code",
   "execution_count": 177,
   "metadata": {},
   "outputs": [
    {
     "data": {
      "text/plain": [
       "[u'movieId,title,genres',\n",
       " u'1,Toy Story (1995),Adventure|Animation|Children|Comedy|Fantasy',\n",
       " u'2,Jumanji (1995),Adventure|Children|Fantasy',\n",
       " u'3,Grumpier Old Men (1995),Comedy|Romance',\n",
       " u'4,Waiting to Exhale (1995),Comedy|Drama|Romance']"
      ]
     },
     "execution_count": 177,
     "metadata": {},
     "output_type": "execute_result"
    }
   ],
   "source": [
    "# show movie name\n",
    "\n",
    "itemRDD = sc.textFile(Path+\"movies.csv\")\n",
    "itemRDD.take(5)\n",
    "# itemRDD.count()"
   ]
  },
  {
   "cell_type": "code",
   "execution_count": 178,
   "metadata": {},
   "outputs": [
    {
     "data": {
      "text/plain": [
       "[u'1,Toy Story (1995),Adventure|Animation|Children|Comedy|Fantasy',\n",
       " u'2,Jumanji (1995),Adventure|Children|Fantasy',\n",
       " u'3,Grumpier Old Men (1995),Comedy|Romance',\n",
       " u'4,Waiting to Exhale (1995),Comedy|Drama|Romance',\n",
       " u'5,Father of the Bride Part II (1995),Comedy']"
      ]
     },
     "execution_count": 178,
     "metadata": {},
     "output_type": "execute_result"
    }
   ],
   "source": [
    "# skip first row\n",
    "\n",
    "header = itemRDD.first()\n",
    "itemRDD = itemRDD.filter(lambda line: line != header)\n",
    "           \n",
    "# type(itemRDD)    \n",
    "itemRDD.take(5)\n",
    "# itemRDD.count()"
   ]
  },
  {
   "cell_type": "code",
   "execution_count": 195,
   "metadata": {},
   "outputs": [
    {
     "data": {
      "text/plain": [
       "dict"
      ]
     },
     "execution_count": 195,
     "metadata": {},
     "output_type": "execute_result"
    }
   ],
   "source": [
    "# dict with movie id & movie name\n",
    "\n",
    "movieTitle = itemRDD.map(lambda line: line.split(\",\")) \\\n",
    "                    .map(lambda a: (float(a[0]),a[1])) \\\n",
    "                    .collectAsMap()\n",
    "\n",
    "        \n",
    "# <note>  u''  is str       \n",
    "# movieTitle = itemRDD.map(lambda line: line.split(\",\")) \\\n",
    "#                     .map(lambda a: (a[0],a[1])) \\\n",
    "#                     .collectAsMap()\n",
    "\n",
    "        \n",
    "# movieTitle\n",
    "type(movieTitle)\n",
    "# len(movieTitle)\n",
    "\n",
    "# movieTitle[150000]\n",
    "# movieTitle[6]"
   ]
  },
  {
   "cell_type": "code",
   "execution_count": 189,
   "metadata": {},
   "outputs": [
    {
     "data": {
      "text/plain": [
       "[(131072.0, u'Jesus liebt mich (2012)'),\n",
       " (1.0, u'Toy Story (1995)'),\n",
       " (2.0, u'Jumanji (1995)'),\n",
       " (3.0, u'Grumpier Old Men (1995)'),\n",
       " (4.0, u'Waiting to Exhale (1995)'),\n",
       " (5.0, u'Father of the Bride Part II (1995)')]"
      ]
     },
     "execution_count": 189,
     "metadata": {},
     "output_type": "execute_result"
    }
   ],
   "source": [
    "# type list\n",
    "\n",
    "movieTitle.items()[ :6]\n",
    "# movieTitle.items()\n",
    "# type(movieTitle.items())\n"
   ]
  },
  {
   "cell_type": "code",
   "execution_count": 199,
   "metadata": {},
   "outputs": [
    {
     "name": "stdout",
     "output_type": "stream",
     "text": [
      "target user: 100    recommend movie: Alice in Wonderland (1915)    point: 8.42171155372\n",
      "target user: 100    recommend movie: Vergeef me    point: 8.22575407835\n",
      "target user: 100    recommend movie: L'ange (1983)    point: 8.22575407835\n",
      "target user: 100    recommend movie: The Bed You Sleep In (1993)    point: 7.40317859808\n",
      "target user: 100    recommend movie: Nightfall (1999)    point: 7.40317859808\n"
     ]
    }
   ],
   "source": [
    "recommendP = model.recommendProducts(100,5)\n",
    "\n",
    "for row in recommendP:\n",
    "#     print row\n",
    "    print \"target user: \" + str(row[0]) + \"    \" + \\\n",
    "            \"recommend movie: \"+ str(movieTitle[row[1]]) + \"    \" + \\\n",
    "            \"point: \" + str(row[2])\n",
    "            \n",
    "# type(recommendP)"
   ]
  },
  {
   "cell_type": "code",
   "execution_count": null,
   "metadata": {
    "collapsed": true
   },
   "outputs": [],
   "source": []
  },
  {
   "cell_type": "code",
   "execution_count": null,
   "metadata": {},
   "outputs": [],
   "source": []
  },
  {
   "cell_type": "code",
   "execution_count": null,
   "metadata": {
    "collapsed": true
   },
   "outputs": [],
   "source": []
  }
 ],
 "metadata": {
  "kernelspec": {
   "display_name": "Python 3",
   "language": "python",
   "name": "python3"
  },
  "language_info": {
   "codemirror_mode": {
    "name": "ipython",
    "version": 3
   },
   "file_extension": ".py",
   "mimetype": "text/x-python",
   "name": "python",
   "nbconvert_exporter": "python",
   "pygments_lexer": "ipython3",
   "version": "3.5.4"
  }
 },
 "nbformat": 4,
 "nbformat_minor": 1
}
