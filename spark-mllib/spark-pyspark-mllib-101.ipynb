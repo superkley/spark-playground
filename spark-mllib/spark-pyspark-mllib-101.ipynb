{
 "cells": [
  {
   "cell_type": "markdown",
   "metadata": {
    "slideshow": {
     "slide_type": "-"
    }
   },
   "source": [
    "# Introduction to PySpark and MLlib\n",
    "\n",
    "\n",
    "This notebook contains basic materials and examples/exercises on using pyspark for machine learning via Spark's MLlib (Spark version 1.4.1). MLLib supports the use of Spark dataframe for building the machine learning pipeline. \n",
    "\n",
    "https://spark.apache.org/docs/1.4.1/mllib-guide.html\n",
    "\n",
    "\n",
    "##Why Spark?\n",
    "\n",
    "Spark as a fast cluster computing platform provides scalability, fault tolerance, and seamless integration with existing big data pipelines. Spark can scale up to hundreds of machines and distribute the computation compare to other machine learning tools such as R, Matlab and Scipy  which run on a single machine. \n",
    "\n",
    "Here's a comparison by Databricks (which is founded by the creators of Spark), the running times between R vs MLLib for  Pearson’s correlation on a 32-node cluster\n",
    "\n",
    "https://databricks.com/blog/2014/08/27/statistics-functionality-in-spark.html\n",
    "\n",
    "<img src=\"./data/Spark-vs-R-pearson.png\">\n",
    "\n",
    "\n",
    "## Why PySpark?\n",
    "\n",
    "Below shows the performance figure for Pyspark Dataframe, which seems to have comparable performance with Scala dataframe\n",
    "\n",
    "<img src=\"./data/spark-dataframes-and-ml-pipelines-11-638.jpg\">\n",
    "\n",
    "\n",
    "And also python has plenty of machine learning libaries including scikit-learn\n",
    "\n",
    "https://wiki.python.org/moin/PythonForArtificialIntelligence\n",
    "\n",
    "It has has visualization libraries such as matplotlib, ggplot, seaborn etc...\n"
   ]
  },
  {
   "cell_type": "markdown",
   "metadata": {},
   "source": [
    "#Overview\n",
    "\n",
    "For first time users of IPython notebook, the code cells below can be run directly from this note book either by pressing the \"play\" icon on the top , or by hitting CTRL+ Enter key. The profile setup for this IPyThon notebook allows PySpark API to be called directly from the code cells below. On top of that, the Anaconda Python distribution has also been installed which include common libraries such as numpy, scikit-learn, scipy, pandas etc. \n",
    "\n",
    "\n",
    "\n",
    "This exercise will go through the building of a machine learning pipeline with MLlib for classification purpose.\n",
    "The exercise includes:\n",
    "- loading the data into Spark dataframe\n",
    "- preprocessing the raw data\n",
    "- feature extraction/transformation\n",
    "- training classification model\n",
    "- creating machine learning pipeline to wrap the featurization and classifications\n",
    "- hyperparameters tuning and cross validation"
   ]
  },
  {
   "cell_type": "markdown",
   "metadata": {},
   "source": [
    "\n",
    "## Dataset - Prediction for Bank direct marketing Campaign\n",
    "\n",
    "The following exercises on PySpark will be applied to a classifcation problem on a data set obtained from UCI Machine Learning Repository.\n",
    "\n",
    "http://archive.ics.uci.edu/ml/datasets/Bank+Marketing#\n",
    "\n",
    "This data has already been loaded into your VM and its available under the data/ folder which you can view from Jupyter.\n",
    "\n",
    "The data is related with direct marketing campaigns (phone calls) of a Portuguese banking institution. The classification goal is to predict if the client will subscribe a term deposit (variable y). This is basically a binary classifcation, where the predicted classes is either yes or no.\n",
    "Some of the headings has been renamed for clarity purpose.\n",
    "\n",
    "###Attribute Information:\n",
    "\n",
    "| Position | Heading | Description | Values |       \n",
    "| :- |:-- |:------------------------------------ | :------------|\n",
    "|1| age (numeric)  | | |\n",
    "|2| job  | |'admin.','blue-collar','entrepreneur','housemaid', 'management','retired','self-employed','services','student','technician','unemployed','unknown'|\n",
    "|3| marital  | | 'divorced','married','single','unknown'|\n",
    "|4| education | |'basic.4y','basic.6y','basic.9y','high.school', 'illiterate','professional.course','university.degree','unknown'|\n",
    "|5| default | has credit in default? | 'no','yes','unknown'|\n",
    "|6| housing | has housing loan?  | 'no','yes','unknown'|\n",
    "|7| loan | has personal loan? | 'no','yes','unknown'|\n",
    "|8| contact | contact communication type  | 'cellular','telephone'|\n",
    "|9| month | last contact month of year| 'jan', 'feb', 'mar', ..., 'nov', 'dec'|\n",
    "|10| day_of_week |last contact day of the week|'mon','tue','wed','thu','fri'|\n",
    "|11| duration |last contact duration, in seconds (numeric). Important note: this attribute highly affects the output target (e.g., if duration=0 then y='no'). Yet, the duration is not known before a call is performed. Also, after the end of the call y is obviously known. Thus, this input should only be included for benchmark purposes and should be discarded if the intention is to have a realistic predictive model.||\n",
    "|12| campaign |number of contacts performed during this campaign and for this client (numeric, includes last contact)||\n",
    "|13| pdays |number of days that passed by after the client was last contacted from a previous campaign (numeric; 999 means client was not previously contacted)||\n",
    "|14| previous |number of contacts performed before this campaign and for this client (numeric)||\n",
    "|15| outcome_of_prev | outcome of the previous marketing campaign |'failure','nonexistent','success'|\n",
    "|16| emp_variation_rate | employment variation rate - quarterly indicator (numeric) ||\n",
    "|17|consumer_price_idx | consumer price index - monthly indicator (numeric)  ||\n",
    "|18|consumer_conf_idx| consumer confidence index - monthly indicator (numeric)   ||\n",
    "|19|euribor3m|euribor 3 month rate - daily indicator (numeric)  ||\n",
    "|20|num_of_employees|number of employees - quarterly indicator (numeric) ||\n",
    "|21|has_subscribed|has the client subscribed a term deposit?  Note: This is not an attribute, rather the label of the observations | 'yes','no'|\n",
    "\n"
   ]
  },
  {
   "cell_type": "markdown",
   "metadata": {},
   "source": [
    "#  1. First up, Loading the data\n",
    "\n",
    "SparkSql core supports various datasource such as Parquet, Json , Avro etc.\n",
    "However for CSV, it requires to use additional Spark Package. Currently theres the following options of spark-csv by Databricks guys, and pyspark_csv. \n",
    "\n",
    "https://github.com/seahboonsiew/pyspark-csv\n",
    "\n",
    "https://github.com/databricks/spark-csv\n",
    "\n",
    "Pyspark_csv was selected due to its ability in inferring the schema, as compared to spark-csv which defaults all columns to string types.  :(\n"
   ]
  },
  {
   "cell_type": "code",
   "execution_count": 1,
   "metadata": {},
   "outputs": [
    {
     "name": "stdout",
     "output_type": "stream",
     "text": [
      "root\n",
      " |-- age: integer (nullable = true)\n",
      " |-- job: string (nullable = true)\n",
      " |-- marital: string (nullable = true)\n",
      " |-- education: string (nullable = true)\n",
      " |-- default: string (nullable = true)\n",
      " |-- housing: string (nullable = true)\n",
      " |-- loan: string (nullable = true)\n",
      " |-- contact: string (nullable = true)\n",
      " |-- month: string (nullable = true)\n",
      " |-- day_of_week: string (nullable = true)\n",
      " |-- duration: integer (nullable = true)\n",
      " |-- campaign: integer (nullable = true)\n",
      " |-- pdays: integer (nullable = true)\n",
      " |-- previous: integer (nullable = true)\n",
      " |-- outcome_of_prev: string (nullable = true)\n",
      " |-- emp_variation_rate: double (nullable = true)\n",
      " |-- consumer_price_idx: double (nullable = true)\n",
      " |-- consumer_conf_idx: double (nullable = true)\n",
      " |-- euribor3m: double (nullable = true)\n",
      " |-- num_employees: double (nullable = true)\n",
      " |-- has_subscribed: string (nullable = true)\n",
      "\n"
     ]
    }
   ],
   "source": [
    "import os.path\n",
    "import pyspark_csv as pycsv\n",
    "\n",
    "#import the spark package for importing csv\n",
    "sc.addPyFile('pyspark_csv.py')\n",
    "\n",
    "#read in the csv data file\n",
    "fileName = os.path.join('data', 'bank-additional-full-data.csv')\n",
    "plainTextRdd = sc.textFile(fileName)\n",
    "rawDataFrame = pycsv.csvToDataFrame(sqlContext, plainTextRdd, parseDate=False)\n",
    "\n",
    "#Have a look at the schema of the data frame created\n",
    "rawDataFrame.printSchema()\n",
    "\n"
   ]
  },
  {
   "cell_type": "markdown",
   "metadata": {},
   "source": [
    "## 2. Data Preprocessing\n",
    "\n",
    "Preprocess the data if required.\n",
    "\n",
    "As noted above, the \"duration\" column should not be used as part of the features as it wont be known till phone calls.\n",
    "So next step we going to remove the duration column. \n",
    "\n",
    "    \n",
    "There's no missing values in the datasets. If replacement of missing values is required, we could use the Dataframe.fillna function (similar to pandas).\n"
   ]
  },
  {
   "cell_type": "code",
   "execution_count": 2,
   "metadata": {
    "scrolled": true
   },
   "outputs": [
    {
     "name": "stdout",
     "output_type": "stream",
     "text": [
      "Number of observations originally: 41188\n",
      "Number of columns originally: 21\n",
      "Number of filtered observations: 41188\n",
      "Number of columns after drop: 20\n",
      "+-------+------------------+\n",
      "|summary|               age|\n",
      "+-------+------------------+\n",
      "|  count|             41188|\n",
      "|   mean| 40.02406040594348|\n",
      "| stddev|10.421123471838722|\n",
      "|    min|                17|\n",
      "|    max|                98|\n",
      "+-------+------------------+\n",
      "\n",
      "+-------+-----------------+\n",
      "|summary|            pdays|\n",
      "+-------+-----------------+\n",
      "|  count|            41188|\n",
      "|   mean|962.4754540157328|\n",
      "| stddev|186.9086383338419|\n",
      "|    min|                0|\n",
      "|    max|              999|\n",
      "+-------+-----------------+\n",
      "\n",
      "+-------+------------------+\n",
      "|summary|emp_variation_rate|\n",
      "+-------+------------------+\n",
      "|  count|             41188|\n",
      "|   mean|0.0818855006314648|\n",
      "| stddev|1.5709406698013302|\n",
      "|    min|              -3.4|\n",
      "|    max|               1.4|\n",
      "+-------+------------------+\n",
      "\n"
     ]
    }
   ],
   "source": [
    "from pyspark.sql.types import *\n",
    "from pyspark.sql.functions import UserDefinedFunction\n",
    "\n",
    "# Number of records\n",
    "print \"Number of observations originally: %s\" % rawDataFrame.count()\n",
    "print \"Number of columns originally: %s\" % len(rawDataFrame.columns)\n",
    "\n",
    "#Remove duration column as its only for benchmark purpose. We wont know duration till after we know the outcome of\n",
    "#whether the customer signed up for the term deposit.\n",
    "filteredDf = rawDataFrame.drop(\"duration\")\n",
    "\n",
    "print \"Number of filtered observations: %s\" % filteredDf.count()\n",
    "print \"Number of columns after drop: %s\" % len(filteredDf.columns)\n",
    "\n",
    "#view some summary of the columns\n",
    "filteredDf.describe(\"age\").show()\n",
    "filteredDf.describe(\"pdays\").show()\n",
    "filteredDf.describe(\"emp_variation_rate\").show()\n",
    "\n"
   ]
  },
  {
   "cell_type": "markdown",
   "metadata": {},
   "source": [
    "The label column currently is in string format. But the MLlib classifiers such as Logistic regression and decision trees expect the Dataframe to contain the following structures for training:\n",
    "    - \"features\" : single vector column representing the feature vectors for the observation \n",
    "    - \"label\": double type, representing the label"
   ]
  },
  {
   "cell_type": "code",
   "execution_count": 3,
   "metadata": {},
   "outputs": [
    {
     "name": "stdout",
     "output_type": "stream",
     "text": [
      "+---+---------+-------+-----------+-------+-------+----+---------+-----+-----------+--------+-----+--------+---------------+------------------+------------------+-----------------+---------+-------------+--------------+-----+\n",
      "|age|      job|marital|  education|default|housing|loan|  contact|month|day_of_week|campaign|pdays|previous|outcome_of_prev|emp_variation_rate|consumer_price_idx|consumer_conf_idx|euribor3m|num_employees|has_subscribed|label|\n",
      "+---+---------+-------+-----------+-------+-------+----+---------+-----+-----------+--------+-----+--------+---------------+------------------+------------------+-----------------+---------+-------------+--------------+-----+\n",
      "| 56|housemaid|married|   basic.4y|     no|     no|  no|telephone|  may|        mon|       1|  999|       0|    nonexistent|               1.1|            93.994|            -36.4|    4.857|       5191.0|            no|  0.0|\n",
      "| 57| services|married|high.school|unknown|     no|  no|telephone|  may|        mon|       1|  999|       0|    nonexistent|               1.1|            93.994|            -36.4|    4.857|       5191.0|            no|  0.0|\n",
      "| 37| services|married|high.school|     no|    yes|  no|telephone|  may|        mon|       1|  999|       0|    nonexistent|               1.1|            93.994|            -36.4|    4.857|       5191.0|            no|  0.0|\n",
      "+---+---------+-------+-----------+-------+-------+----+---------+-----+-----------+--------+-----+--------+---------------+------------------+------------------+-----------------+---------+-------------+--------------+-----+\n",
      "\n"
     ]
    }
   ],
   "source": [
    "#Add the label column , that basically corresponds to the has_subscribed column\n",
    "toDouble = UserDefinedFunction(lambda x: 1. if x == \"yes\" else 0., DoubleType())\n",
    "filteredDf = filteredDf.withColumn(\"label\", toDouble(filteredDf[\"has_subscribed\"]))\n",
    "filteredDf.show(3)"
   ]
  },
  {
   "cell_type": "code",
   "execution_count": 4,
   "metadata": {},
   "outputs": [
    {
     "name": "stdout",
     "output_type": "stream",
     "text": [
      "+--------------+-----+\n",
      "|has_subscribed|count|\n",
      "+--------------+-----+\n",
      "|            no|36548|\n",
      "|           yes| 4640|\n",
      "+--------------+-----+\n",
      "\n"
     ]
    },
    {
     "data": {
      "image/png": "[encoded data removed]",
      "text/plain": [
       "<matplotlib.figure.Figure at 0x10a271710>"
      ]
     },
     "metadata": {},
     "output_type": "display_data"
    }
   ],
   "source": [
    "import matplotlib.pyplot as plt\n",
    "\n",
    "\n",
    "#Show number of customers that have signed up term deposit vs those that did not\n",
    "numOfSignUps = filteredDf.groupBy(\"has_subscribed\").count()\n",
    "numOfSignUps.show()\n",
    "\n",
    "#plot labels\n",
    "labels = numOfSignUps.map(lambda row: row.has_subscribed).collect()\n",
    "sizes = numOfSignUps.map(lambda row: row.count).collect()\n",
    "colors = ['pink', 'yellowgreen']\n",
    "plt.pie(sizes, labels=labels, colors=colors, shadow=True,autopct='%1.1f%%')\n",
    "# Set aspect ratio to be equal so that pie is drawn as a circle.\n",
    "plt.axis('equal')\n",
    "plt.title('Customers which has subscribed to term deposit')\n",
    "plt.show()\n"
   ]
  },
  {
   "cell_type": "code",
   "execution_count": 5,
   "metadata": {},
   "outputs": [
    {
     "name": "stdout",
     "output_type": "stream",
     "text": [
      "+---+------------+--------+\n",
      "|age|         job| marital|\n",
      "+---+------------+--------+\n",
      "| 41| blue-collar|divorced|\n",
      "| 49|entrepreneur| married|\n",
      "| 49|  technician| married|\n",
      "| 41|  technician| married|\n",
      "| 45| blue-collar| married|\n",
      "| 42| blue-collar| married|\n",
      "| 39|   housemaid| married|\n",
      "| 28|     unknown|  single|\n",
      "| 44|    services| married|\n",
      "| 42|  technician| married|\n",
      "| 42|  management| married|\n",
      "| 39|    services| married|\n",
      "| 42| blue-collar| married|\n",
      "| 45|   housemaid| married|\n",
      "| 31|      admin.|  single|\n",
      "| 28|     student|  single|\n",
      "| 41|entrepreneur| married|\n",
      "| 37| blue-collar|  single|\n",
      "| 44| blue-collar| married|\n",
      "| 44|entrepreneur| married|\n",
      "+---+------------+--------+\n",
      "\n"
     ]
    }
   ],
   "source": [
    "# Register this DataFrame as a table.\n",
    "filteredDf.registerTempTable(\"campaign\")\n",
    "\n",
    "#run sql queries\n",
    "queryResult = sqlContext.sql(\"SELECT age, job, marital FROM campaign WHERE has_subscribed = 'yes'\")\n",
    "queryResult.show()\n"
   ]
  },
  {
   "cell_type": "markdown",
   "metadata": {},
   "source": [
    "## 3. Splitting Datasets\n",
    "\n",
    "\n",
    "Training the model and testing it on the same data could be a problem: a model that would just repeat the labels of the observations that it has seen would have a perfect score but would fail to predict anything useful on newly-unseen data. This situation is called overfitting. \n",
    "\n",
    "To avoid overfitting, it is common practice when training a (supervised) machine learning model to split the available data into training, test and validation sets. \n",
    "\n",
    "We will create 3 sets of data:\n",
    "- training set : for training our classification models\n",
    "- validation set : for evaluating the performance of our trained models (and tuning the parameters (hyperparamters) of the mdoels)\n",
    "- test set: for testing the models (unseen samples, not used in training nor model selection)\n",
    "\n",
    "Our goal is to create model that can generalized well to the dataset and avoid overfitting.\n",
    "\n"
   ]
  },
  {
   "cell_type": "code",
   "execution_count": 6,
   "metadata": {},
   "outputs": [
    {
     "name": "stdout",
     "output_type": "stream",
     "text": [
      "[Row(age=57, job=u'services', marital=u'married', education=u'high.school', default=u'unknown', housing=u'no', loan=u'no', contact=u'telephone', month=u'may', day_of_week=u'mon', campaign=1, pdays=999, previous=0, outcome_of_prev=u'nonexistent', emp_variation_rate=1.1, consumer_price_idx=93.994, consumer_conf_idx=-36.4, euribor3m=4.857, num_employees=5191.0, has_subscribed=u'no', label=0.0)]\n",
      "Num of training observations : 24721\n",
      "Num of validation observations : 8225\n",
      "Num of test observations : 8242\n"
     ]
    }
   ],
   "source": [
    "# split into training(60%), validation(20%) and test(20%) datasets\n",
    "trainingRdd, validationRdd, testRdd = filteredDf.rdd.randomSplit([6, 2, 2], seed=0L)\n",
    "trainingDf = trainingRdd.toDF() \n",
    "validationDf = validationRdd.toDF() \n",
    "testDf = testRdd.toDF() \n",
    "\n",
    "print trainingDf.take(1)\n",
    "\n",
    "#lets cache these datasets\n",
    "trainingDf.cache()\n",
    "validationDf.cache()\n",
    "testDf.cache()\n",
    "\n",
    "print \"Num of training observations : %s\" % trainingDf.count()\n",
    "print \"Num of validation observations : %s\" % validationRdd.count()\n",
    "print \"Num of test observations : %s\" % testDf.count()"
   ]
  },
  {
   "cell_type": "markdown",
   "metadata": {},
   "source": [
    "## 4. Categorical Feature Transformation\n",
    "\n",
    "For the categorical attributes, we need to convert those text-based categories into numeric features before attempting to train/build a classification model with these data. \n",
    "\n",
    "For example, the attribute of \"marital\", is a categorical feature with 4 possible values of 'divorced','married','single','unknown'. \n",
    "\n",
    "We will be using the out-of-the-box MLlib featurization technique named one hot encoding to transform such categorical features into a feature vectors consist of binary 0s and 1s. Refer to the MLLib documentation for more information about one hot encoding\n",
    "https://spark.apache.org/docs/latest/api/python/pyspark.ml.html\n",
    "\n",
    "VectorAssembler is used to assemble the feature vectors.\n",
    "\n",
    "If the variables in the feature vectors has too huge of scale difference, you might like to normalize it with feature scaling. MLlib offers standardScaler aspart of the pyspark.mllib. Other dimensionality reduction techniques available include PCA and SVD.\n",
    "\n"
   ]
  },
  {
   "cell_type": "code",
   "execution_count": 7,
   "metadata": {},
   "outputs": [
    {
     "name": "stdout",
     "output_type": "stream",
     "text": [
      "20 string indexer and one hot encoders transformers\n",
      "19 feature columns: ['age', 'campaign', 'pdays', 'previous', 'emp_variation_rate', 'consumer_price_idx', 'consumer_conf_idx', 'euribor3m', 'num_employees', 'jobVec', 'maritalVec', 'educationVec', 'defaultVec', 'housingVec', 'loanVec', 'contactVec', 'monthVec', 'day_of_weekVec', 'outcome_of_prevVec']\n"
     ]
    }
   ],
   "source": [
    "from pyspark.ml.feature import OneHotEncoder, StringIndexer, VectorAssembler\n",
    "from pyspark.ml import Pipeline\n",
    "\n",
    "#convert the categorical attributes to binary features\n",
    "categoricalAttributes = ['job', 'marital', 'education', 'default', \n",
    "                         'housing', 'loan', 'contact', \n",
    "                         'month', 'day_of_week', 'outcome_of_prev']\n",
    "\n",
    "#Build a list of pipelist stages for the machine learning pipeline. \n",
    "#start by the feature transformer of one hot encoder for building the categorical features\n",
    "pipelineStages = []\n",
    "for columnName in categoricalAttributes:\n",
    "    stringIndexer = StringIndexer(inputCol=columnName, outputCol=columnName+ \"Index\")\n",
    "    pipelineStages.append(stringIndexer)\n",
    "    oneHotEncoder = OneHotEncoder(inputCol=columnName+ \"Index\", outputCol=columnName + \"Vec\")\n",
    "    pipelineStages.append(oneHotEncoder)\n",
    "\n",
    "\n",
    "print \"%s string indexer and one hot encoders transformers\" %  len(pipelineStages) \n",
    "assert len(pipelineStages) == len(categoricalAttributes)*2\n",
    "\n",
    "# Combine all the feature columns into a single column in the dataframe\n",
    "numericColumns = ['age', 'campaign', 'pdays', 'previous',\n",
    "           'emp_variation_rate', 'consumer_price_idx', 'consumer_conf_idx', \n",
    "                  'euribor3m', 'num_employees']\n",
    "categoricalCols = [s + \"Vec\" for s in categoricalAttributes]\n",
    "allFeatureCols =  numericColumns + categoricalCols\n",
    "vectorAssembler = VectorAssembler(\n",
    "    inputCols=allFeatureCols,\n",
    "    outputCol=\"features\")\n",
    "pipelineStages.append(vectorAssembler)\n",
    "print \"%s feature columns: %s\" % (len(allFeatureCols),allFeatureCols)\n",
    "\n",
    "\n",
    "#Build pipeline for feature extraction\n",
    "featurePipeline = Pipeline(stages=pipelineStages)\n",
    "featureOnlyModel = featurePipeline.fit(trainingDf)"
   ]
  },
  {
   "cell_type": "code",
   "execution_count": 9,
   "metadata": {},
   "outputs": [
    {
     "data": {
      "text/plain": [
       "[Row(features=SparseVector(52, {0: 57.0, 1: 1.0, 2: 999.0, 4: 1.1, 5: 93.994, 6: -36.4, 7: 4.857, 8: 5191.0, 12: 1.0, 20: 1.0, 24: 1.0, 31: 1.0, 33: 1.0, 34: 1.0, 37: 1.0, 47: 1.0, 50: 1.0}), label=0.0),\n",
       " Row(features=SparseVector(52, {0: 37.0, 1: 1.0, 2: 999.0, 4: 1.1, 5: 93.994, 6: -36.4, 7: 4.857, 8: 5191.0, 12: 1.0, 20: 1.0, 24: 1.0, 30: 1.0, 32: 1.0, 34: 1.0, 37: 1.0, 47: 1.0, 50: 1.0}), label=0.0)]"
      ]
     },
     "execution_count": 9,
     "metadata": {},
     "output_type": "execute_result"
    }
   ],
   "source": [
    "#create list of Dataframes with features\n",
    "trainingFeaturesDf = featureOnlyModel.transform(trainingDf)\n",
    "validationFeaturesDf = featureOnlyModel.transform(validationDf)\n",
    "testFeaturesDf = featureOnlyModel.transform(testDf)\n",
    "\n",
    "#peek\n",
    "trainingFeaturesDf.select(\"features\", \"label\").rdd.take(2)"
   ]
  },
  {
   "cell_type": "markdown",
   "metadata": {},
   "source": [
    "## 5. Unsupervised classification - Clustering with Gaussian Mixture\n",
    "\n",
    "MLLib offers some clustering methods. This could be useful when you are dealing with unlabeled data, where its impossible to apply supervised learning algorithms.\n",
    "\n",
    "List of supporting clustering techniques out of the box by Spark currently are:\n",
    "- K-means\n",
    "- Gaussian mixture\n",
    "- Power iteration clustering (PIC)\n",
    "- Latent Dirichlet allocation (LDA)\n",
    "- Streaming k-means\n",
    "\n",
    "Lets train a Gaussian mixture model and see how it performs with our current featureset\n"
   ]
  },
  {
   "cell_type": "code",
   "execution_count": 11,
   "metadata": {},
   "outputs": [
    {
     "name": "stdout",
     "output_type": "stream",
     "text": [
      "==========================================\n",
      "GMM accuracy against unfiltered training set(%) = 88.9688928441\n",
      "GMM accuracy against test set(%) = 88.5100703713\n",
      "GMM accuracy against validation set(%) = 88.2553191489\n",
      "==========================================\n"
     ]
    }
   ],
   "source": [
    "from pyspark.mllib.clustering import KMeans, KMeansModel, GaussianMixture\n",
    "from numpy import array\n",
    "from math import sqrt\n",
    "\n",
    "# Extract the \"features\" from the training set into vector format \n",
    "def extractVectorFeatures(featuresDf):\n",
    "    return featuresDf.select(\"features\").rdd.map(lambda row: row.features)\n",
    "\n",
    "#function to calculate the accuracy\n",
    "def calculateAccuracy(labelsAndPredictionsRdd):\n",
    "    \"\"\"\"\"\n",
    "        Calculate accuracy for a given label and prediction RDD\n",
    "        input:  \n",
    "            labelsAndPredictionsRdd : RDD consisting of tuples (label, prediction)\n",
    "        \n",
    "        return: float accuracy in percentage\n",
    "    \"\"\"\"\"\n",
    "    return (labelsAndPredictionsRdd.filter(lambda (l, p): l == p).count() \n",
    "            / float(labelsAndPredictionsRdd.count())* 100)\n",
    "\n",
    "# Build the model (cluster the data)\n",
    "trainingRdd = extractVectorFeatures(trainingFeaturesDf)\n",
    "\n",
    "numOfClusters = 2\n",
    "gmm = GaussianMixture.train(trainingRdd, numOfClusters)\n",
    "\n",
    "def getGmmPredictedAccuracy(featuresDf, featuresRdd, model):\n",
    "    #run the prediction on the featuresRdd\n",
    "    predictionList = model.predict(featuresRdd).collect()\n",
    "    actualAndPred = (featuresDf.select(\"label\").rdd\n",
    "            .map(lambda row: row.label)\n",
    "            .zipWithIndex()\n",
    "            .map(lambda (l, i): (l, predictionList[i])) )\n",
    "    #map the training features data frame to the predicted labels list by index\n",
    "    return calculateAccuracy(actualAndPred)\n",
    "\n",
    "# Predict training set with GMM cluster model\n",
    "trainGmmAccuracy = getGmmPredictedAccuracy(trainingFeaturesDf, trainingRdd, gmm)\n",
    "\n",
    "#repeat with test set\n",
    "testRdd = extractVectorFeatures(testFeaturesDf)\n",
    "testGmmAccuracy = getGmmPredictedAccuracy(testFeaturesDf, testRdd, gmm)\n",
    "\n",
    "#repeat with validation set\n",
    "validationRdd = extractVectorFeatures(validationFeaturesDf)\n",
    "validationGmmAccuracy = getGmmPredictedAccuracy(validationFeaturesDf, validationRdd, gmm)\n",
    "\n",
    "print \"==========================================\"\n",
    "print(\"GMM accuracy against unfiltered training set(%) = \" + str(trainGmmAccuracy))\n",
    "print(\"GMM accuracy against test set(%) = \" + str(testGmmAccuracy))\n",
    "print(\"GMM accuracy against validation set(%) = \" + str(validationGmmAccuracy))\n",
    "print \"==========================================\"\n"
   ]
  },
  {
   "cell_type": "markdown",
   "metadata": {},
   "source": [
    "## 6. Supervised Learning\n",
    "\n",
    "In the previous steps, we have chain together a list of feature encoders to encode our categorical features.\n",
    "Next we will proceed to use MLlib Pipeline api to build the ML pipeline. The advantage of the pipeline API is that it bundles and chains the transformers (feature encoders, feature selectors etc) and estimators (trained model) together and make it easier for reusability.\n",
    "\n",
    "https://spark.apache.org/docs/latest/ml-guide.html#migration-guide\n",
    "\n",
    "Pyspark API documentation on classification\n",
    "https://spark.apache.org/docs/latest/api/python/_modules/pyspark/ml/classification.html\n",
    "\n",
    "We will create a logistic regression model where the model makes predictions by applying the logistic function. The hyperparameters for a logistic regression model includes:\n",
    "- regularization parameter (regParam) to prevent overfitting by penalizing models with extreme parameter values\n",
    "\n"
   ]
  },
  {
   "cell_type": "code",
   "execution_count": 12,
   "metadata": {},
   "outputs": [
    {
     "name": "stdout",
     "output_type": "stream",
     "text": [
      "==========================================\n",
      "LogisticRegression Model training accuracy (%) = 89.9842239392\n",
      "LogisticRegression Model test accuracy (%) = 89.4079107013\n",
      "LogisticRegression Model validation accuracy (%) = 89.1063829787\n",
      "==========================================\n"
     ]
    }
   ],
   "source": [
    "from pyspark.ml.classification import LogisticRegression\n",
    "\n",
    "# Configure an machine learning pipeline, which consists of the \n",
    "# an estimator (classification) (Logistic regression)\n",
    "lr = LogisticRegression(maxIter=10, regParam=0.01)\n",
    "lrPipeline = Pipeline(stages=[lr])\n",
    "\n",
    "# Fit the pipeline to create a model from the training data\n",
    "lrPipelineModel = lrPipeline.fit(trainingFeaturesDf)\n",
    "\n",
    "def getAccuracyForPipelineModel(featuresDf, model):\n",
    "    #perform prediction using the featuresdf and pipelineModel\n",
    "    #compute the accuracy in percentage float\n",
    "    results = model.transform(featuresDf)\n",
    "    labelsAndPreds = results.map(lambda p: (p.label, p.prediction))\n",
    "    return (calculateAccuracy(labelsAndPreds), results) \n",
    "\n",
    "# Evaluating the model on training data\n",
    "lrTrainAccuracy, lrTrainResultDf = getAccuracyForPipelineModel(trainingFeaturesDf, lrPipelineModel)\n",
    "\n",
    "# Repeat on test data\n",
    "lrTestAccuracy, lrTestResultDf = getAccuracyForPipelineModel(testFeaturesDf, lrPipelineModel)\n",
    "\n",
    "# Repeat on validation data\n",
    "lrValidationAccuracy, lrValidationResultDf = getAccuracyForPipelineModel(validationFeaturesDf, lrPipelineModel)\n",
    "\n",
    "print \"==========================================\"\n",
    "print(\"LogisticRegression Model training accuracy (%) = \" + str(lrTrainAccuracy))\n",
    "print(\"LogisticRegression Model test accuracy (%) = \" + str(lrTestAccuracy))\n",
    "print(\"LogisticRegression Model validation accuracy (%) = \" + str(lrValidationAccuracy))\n",
    "print \"==========================================\"\n"
   ]
  },
  {
   "cell_type": "code",
   "execution_count": 14,
   "metadata": {
    "collapsed": true
   },
   "outputs": [],
   "source": [
    "#you can create a pipeline combining multiple pipelines \n",
    "#(e.g feature extraction pipeline, and classification pipeline)\n",
    "combinedPipeline = Pipeline(stages= [featurePipeline, lrPipeline])\n"
   ]
  },
  {
   "cell_type": "code",
   "execution_count": 13,
   "metadata": {},
   "outputs": [
    {
     "name": "stdout",
     "output_type": "stream",
     "text": [
      "+----------+-----+\n",
      "|prediction|count|\n",
      "+----------+-----+\n",
      "|       1.0|  278|\n",
      "|       0.0| 7964|\n",
      "+----------+-----+\n",
      "\n",
      "+--------------+-----+----------+\n",
      "|has_subscribed|label|prediction|\n",
      "+--------------+-----+----------+\n",
      "|            no|  0.0|       0.0|\n",
      "|            no|  0.0|       0.0|\n",
      "|            no|  0.0|       0.0|\n",
      "|            no|  0.0|       0.0|\n",
      "|            no|  0.0|       0.0|\n",
      "|            no|  0.0|       0.0|\n",
      "|            no|  0.0|       0.0|\n",
      "|            no|  0.0|       0.0|\n",
      "|            no|  0.0|       0.0|\n",
      "|            no|  0.0|       0.0|\n",
      "|            no|  0.0|       0.0|\n",
      "|            no|  0.0|       0.0|\n",
      "|            no|  0.0|       0.0|\n",
      "|            no|  0.0|       0.0|\n",
      "|            no|  0.0|       0.0|\n",
      "|            no|  0.0|       0.0|\n",
      "|            no|  0.0|       0.0|\n",
      "|            no|  0.0|       0.0|\n",
      "|            no|  0.0|       0.0|\n",
      "|            no|  0.0|       0.0|\n",
      "+--------------+-----+----------+\n",
      "\n"
     ]
    }
   ],
   "source": [
    "# Run the prediction with our trained model on test data (which has not been used in training)\n",
    "# Make predictions on test observations and print results.\n",
    "selected = lrTestResultDf.select(\"has_subscribed\", \"label\", \"prediction\")\n",
    "\n",
    "#Show number of predicted results\n",
    "predictedLabel = selected.groupBy(\"prediction\").count()\n",
    "predictedLabel.show()\n",
    "\n",
    "selected.show(20)"
   ]
  },
  {
   "cell_type": "markdown",
   "metadata": {},
   "source": [
    "## Hyperparameter Tuning with Grid search\n",
    "\n",
    "One of the important task in machine learning is to use data to find the optimal parameters for our model to perform classification.\n",
    "\n",
    "\n",
    "In the following section, we will try to train the Logistic Regression model with different values for regularization parameter (regParam) and number of maximum iterations. The accuracy of the model is validated with the validation dataset which we created earlier on.\n",
    "\n",
    "The best parameters is selected based on this."
   ]
  },
  {
   "cell_type": "code",
   "execution_count": 76,
   "metadata": {},
   "outputs": [
    {
     "name": "stdout",
     "output_type": "stream",
     "text": [
      "maxIter: 5, regParam: 1e-10, accuracy: 88.2553191489 \n",
      "maxIter: 5, regParam: 1e-05, accuracy: 88.2553191489 \n",
      "maxIter: 5, regParam: 0.1, accuracy: 88.2553191489 \n",
      "maxIter: 10, regParam: 1e-10, accuracy: 89.1063829787 \n",
      "maxIter: 10, regParam: 1e-05, accuracy: 89.1063829787 \n",
      "maxIter: 10, regParam: 0.1, accuracy: 89.2279635258 \n",
      "maxIter: 30, regParam: 1e-10, accuracy: 89.4711246201 \n",
      "maxIter: 30, regParam: 1e-05, accuracy: 89.4711246201 \n",
      "maxIter: 30, regParam: 0.1, accuracy: 89.3130699088 \n",
      "maxIter: 50, regParam: 1e-10, accuracy: 89.4589665653 \n",
      "maxIter: 50, regParam: 1e-05, accuracy: 89.4589665653 \n",
      "maxIter: 50, regParam: 0.1, accuracy: 89.3495440729 \n",
      "maxIter: 100, regParam: 1e-10, accuracy: 89.4224924012 \n",
      "maxIter: 100, regParam: 1e-05, accuracy: 89.4346504559 \n",
      "maxIter: 100, regParam: 0.1, accuracy: 89.3373860182 \n",
      "Best parameters: maxIter 100, regParam 0.1, accuracy : 89.3373860182\n",
      "==========================================\n",
      "Grid search Model test accuracy (%) = 89.4928415433\n",
      "==========================================\n"
     ]
    }
   ],
   "source": [
    "from pyspark.ml.evaluation import BinaryClassificationEvaluator\n",
    "from pyspark.ml.tuning import ParamGridBuilder, CrossValidator\n",
    "import numpy as np\n",
    "from math import log\n",
    "\n",
    "maxIterRange = [5, 10, 30, 50, 100]\n",
    "regParamRange = [1e-10, 1e-5, 1e-1]\n",
    "#baseline values from previous section\n",
    "bestIter = 10\n",
    "bestRegParam = 0.01\n",
    "bestModel = lr\n",
    "bestAccuracy = lrValidationAccuracy\n",
    "\n",
    "#for plotting purpose\n",
    "iterations = []\n",
    "regParams = []\n",
    "accuracies = []\n",
    "for maxIter in maxIterRange:\n",
    "    for rp in regParamRange:\n",
    "        currentLr = LogisticRegression(maxIter=maxIter, regParam=rp)\n",
    "        pipeline = Pipeline(stages=[currentLr])\n",
    "        model = pipeline.fit(trainingFeaturesDf)\n",
    "        \n",
    "        #use validation dataset test for accuracy\n",
    "        accuracy, resultDf = getAccuracyForPipelineModel(validationFeaturesDf, model)\n",
    "        print \"maxIter: %s, regParam: %s, accuracy: %s \" % (maxIter, rp, accuracy)\n",
    "        accuracies.append(accuracy)\n",
    "        regParams.append(log(rp))\n",
    "        iterations.append(maxIter)\n",
    "        \n",
    "        if accuracy > lrValidationAccuracy:\n",
    "            bestIter = maxIter\n",
    "            bestRegParam = rp\n",
    "            bestModel = model\n",
    "            bestAccuracy = accuracy\n",
    "\n",
    "\n",
    "print \"Best parameters: maxIter %s, regParam %s, accuracy : %s\" % (bestIter, bestRegParam, bestAccuracy)\n",
    "\n",
    "# Repeat on test data\n",
    "gridTestAccuracy, gridTestResultDf = getAccuracyForPipelineModel(testFeaturesDf, bestModel)\n",
    "\n",
    "print \"==========================================\"\n",
    "print(\"Grid search Model test accuracy (%) = \" + str(gridTestAccuracy))\n",
    "print \"==========================================\"\n"
   ]
  },
  {
   "cell_type": "code",
   "execution_count": 81,
   "metadata": {},
   "outputs": [
    {
     "data": {
      "image/png": "[encoded data removed]",
      "text/plain": [
       "<matplotlib.figure.Figure at 0x10af2d2d0>"
      ]
     },
     "metadata": {},
     "output_type": "display_data"
    }
   ],
   "source": [
    "#visualize the results\n",
    "from mpl_toolkits.mplot3d import Axes3D\n",
    "from matplotlib import cm\n",
    "\n",
    "fig = plt.figure(figsize=(14, 14), facecolor='white', edgecolor='white')\n",
    "ax = fig.add_subplot(111, projection='3d')\n",
    "ax.scatter(iterations, regParams, accuracies, \n",
    "           s=18**2, c='r', marker='^')\n",
    "\n",
    "ax.legend()\n",
    "ax.set_xlabel('Max Iterations')\n",
    "ax.set_ylabel(r'$\\log_rp$ Regularization param')\n",
    "ax.set_zlabel('Accuracies (%)')\n",
    "\n",
    "\n",
    "plt.show()"
   ]
  },
  {
   "cell_type": "raw",
   "metadata": {},
   "source": [
    "## Cross Validation\n",
    "\n",
    "Spark also supports model tuning via cross validation.\n",
    "\n",
    "In a typical (k-fold) cross validation, the training set is split into k number of sets. The following procedure is followed for each of the k “folds”:\n",
    " - A model is trained using k-1 of the folds as training data\n",
    " - the resulting model is validated on the remaining part of the data (i.e., it is used as a test set to compute a performance measure such as accuracy).\n",
    " - The performance measure reported by k-fold cross-validation is then the average of the values computed. \n",
    " \n",
    " \n",
    "In this exercise we will be using the CrossValidator class provided by Spark within the pyspark.ml.tuning package:\n",
    "\n",
    "https://spark.apache.org/docs/latest/api/python/pyspark.ml.html#pyspark.ml.tuning.CrossValidator\n",
    "\n",
    "\n",
    "Cross validation is quite computationally expensive, therefore below the selection of the model could take a couple of minutes..."
   ]
  },
  {
   "cell_type": "code",
   "execution_count": 17,
   "metadata": {},
   "outputs": [
    {
     "name": "stdout",
     "output_type": "stream",
     "text": [
      "==========================================\n",
      "Cross validated Model training accuracy (%) = 90.319970875\n",
      "Cross validated Model test accuracy (%) = 89.6748362048\n",
      "==========================================\n"
     ]
    }
   ],
   "source": [
    "\n",
    "# We use a ParamGridBuilder to construct a grid of parameters to search over.\n",
    "grid = (ParamGridBuilder()\n",
    "        .addGrid(lr.maxIter, maxIterRange) \n",
    "        .addGrid(lr.regParam,regParamRange )\n",
    "        .build())\n",
    "\n",
    "\n",
    "evaluator = BinaryClassificationEvaluator()\n",
    "\n",
    "# We now treat the Pipeline as an Estimator, wrapping it in a CrossValidator instance.\n",
    "# A CrossValidator requires an Estimator, a set of Estimator ParamMaps, and an Evaluator.\n",
    "crossValidator = CrossValidator(estimator=lrPipeline, \n",
    "                                estimatorParamMaps=grid, \n",
    "                                numFolds=5,\n",
    "                                evaluator=evaluator)\n",
    "\n",
    "\n",
    "# Run cross-validation, and choose the best model\n",
    "bestCvModel = crossValidator.fit(trainingFeaturesDf)\n",
    "\n",
    "# verify results on training dataset\n",
    "cvTrainAccuracy, cvTrainResultDf = getAccuracyForPipelineModel(trainingFeaturesDf, bestCvModel)\n",
    "\n",
    "# Repeat on test data\n",
    "cvTestAccuracy, cvTestResultDf = getAccuracyForPipelineModel(testFeaturesDf, bestCvModel)\n",
    "\n",
    "print \"==========================================\"\n",
    "print(\"CV Model training accuracy (%) = \" + str(cvTrainAccuracy))\n",
    "print(\"CV Model test accuracy (%) = \" + str(cvTestAccuracy))\n",
    "print \"==========================================\"\n"
   ]
  }
 ],
 "metadata": {
  "celltoolbar": "Edit Metadata",
  "kernelspec": {
   "display_name": "Python 3",
   "language": "python",
   "name": "python3"
  },
  "language_info": {
   "codemirror_mode": {
    "name": "ipython",
    "version": 3
   },
   "file_extension": ".py",
   "mimetype": "text/x-python",
   "name": "python",
   "nbconvert_exporter": "python",
   "pygments_lexer": "ipython3",
   "version": "3.5.4"
  }
 },
 "nbformat": 4,
 "nbformat_minor": 1
}
