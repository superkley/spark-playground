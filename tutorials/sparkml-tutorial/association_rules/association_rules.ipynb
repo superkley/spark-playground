{
 "cells": [
  {
   "cell_type": "markdown",
   "metadata": {},
   "source": [
    "# AssociationRules\n",
    "AssociationRules implements a parallel rule generation algorithm for constructing rules that have a single item as the consequent."
   ]
  },
  {
   "cell_type": "code",
   "execution_count": 2,
   "metadata": {
    "collapsed": false
   },
   "outputs": [
    {
     "name": "stdout",
     "output_type": "stream",
     "text": [
      "[a=>b],0.8\n"
     ]
    }
   ],
   "source": [
    "val PATH = \"file:///Users/lzz/work/SparkML/\"\n",
    "import org.apache.spark.rdd.RDD\n",
    "import org.apache.spark.mllib.fpm.AssociationRules\n",
    "import org.apache.spark.mllib.fpm.FPGrowth.FreqItemset\n",
    "\n",
    "val freqItemsets = sc.parallelize(Seq(\n",
    "  new FreqItemset(Array(\"a\"), 15L),\n",
    "  new FreqItemset(Array(\"b\"), 35L),\n",
    "  new FreqItemset(Array(\"a\", \"b\"), 12L)\n",
    "));\n",
    "\n",
    "val ar = new AssociationRules().setMinConfidence(0.8)\n",
    "val results = ar.run(freqItemsets)\n",
    "\n",
    "results.collect().foreach { rule =>\n",
    "  println(\"[\" + rule.antecedent.mkString(\",\")\n",
    "    + \"=>\"\n",
    "    + rule.consequent.mkString(\",\") + \"],\" + rule.confidence)\n",
    "}"
   ]
  }
 ],
 "metadata": {
  "kernelspec": {
   "display_name": "Spark 1.5.2 (Scala 2.10)",
   "language": "",
   "name": "spark"
  },
  "language_info": {
   "name": "scala",
   "version": "2.10.4"
  }
 },
 "nbformat": 4,
 "nbformat_minor": 1
}
