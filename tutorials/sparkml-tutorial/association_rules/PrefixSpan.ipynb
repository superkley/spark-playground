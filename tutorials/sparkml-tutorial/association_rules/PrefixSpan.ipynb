{
 "cells": [
  {
   "cell_type": "markdown",
   "metadata": {},
   "source": [
    "# PrefixSpan\n",
    "PrefixSpan is a sequential pattern mining algorithm described in Pei et al., Mining Sequential Patterns by Pattern-Growth: The PrefixSpan Approach. We refer the reader to the referenced paper for formalizing the sequential pattern mining problem.  \n",
    "\n",
    "MLlib’s PrefixSpan implementation takes the following parameters:\n",
    "\n",
    "* minSupport: the minimum support required to be considered a frequent sequential pattern.\n",
    "* maxPatternLength: the maximum length of a frequent sequential pattern. Any frequent pattern exceeding this length will not be included in the results.\n",
    "* maxLocalProjDBSize: the maximum number of items allowed in a prefix-projected database before local iterative processing of the projected databse begins. This parameter should be tuned with respect to the size of your executors.\n",
    "\n",
    "## Examples \n",
    "\n",
    "The following example illustrates PrefixSpan running on the sequences (using same notation as Pei et al):\n",
    "```\n",
    "  <(12)3>\n",
    "  <1(32)(12)>\n",
    "  <(12)5>\n",
    "  <6>\n",
    "```\n",
    "PrefixSpan implements the PrefixSpan algorithm. Calling PrefixSpan.run returns a PrefixSpanModel that stores the frequent sequences with their frequencies."
   ]
  },
  {
   "cell_type": "code",
   "execution_count": 1,
   "metadata": {
    "collapsed": false
   },
   "outputs": [
    {
     "name": "stdout",
     "output_type": "stream",
     "text": [
      "[[2]], 3\n",
      "[[3]], 2\n",
      "[[1]], 3\n",
      "[[2, 1]], 3\n",
      "[[1], [3]], 2\n"
     ]
    }
   ],
   "source": [
    "\n",
    "import org.apache.spark.mllib.fpm.PrefixSpan\n",
    "\n",
    "val sequences = sc.parallelize(Seq(\n",
    "    Array(Array(1, 2), Array(3)),\n",
    "    Array(Array(1), Array(3, 2), Array(1, 2)),\n",
    "    Array(Array(1, 2), Array(5)),\n",
    "    Array(Array(6))\n",
    "  ), 2).cache()\n",
    "val prefixSpan = new PrefixSpan().setMinSupport(0.5).setMaxPatternLength(5)\n",
    "val model = prefixSpan.run(sequences)\n",
    "model.freqSequences.collect().foreach { freqSequence =>\n",
    "println(\n",
    "  freqSequence.sequence.map(_.mkString(\"[\", \", \", \"]\")).mkString(\"[\", \", \", \"]\") + \", \" + freqSequence.freq)\n",
    "}"
   ]
  }
 ],
 "metadata": {
  "kernelspec": {
   "display_name": "Spark 1.5.2 (Scala 2.10)",
   "language": "",
   "name": "spark"
  },
  "language_info": {
   "name": "scala",
   "version": "2.10.4"
  }
 },
 "nbformat": 4,
 "nbformat_minor": 1
}
