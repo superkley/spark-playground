{
 "cells": [
  {
   "cell_type": "markdown",
   "metadata": {},
   "source": [
    "# Feature selection\n",
    "Feature selection allows selecting the most relevant features for use in model construction. Feature selection reduces the size of the vector space and, in turn, the complexity of any subsequent operation with vectors. The number of features to select can be tuned using a held-out validation set.  \n",
    "## ChiSqSelector\n",
    "ChiSqSelector stands for Chi-Squared feature selection. It operates on labeled data with categorical features. ChiSqSelector orders features based on a Chi-Squared test of independence from the class, and then filters (selects) the top features which the class label depends on the most. This is akin to yielding the features with the most predictive power.\n",
    "## Model Fitting\n",
    "ChiSqSelector has the following parameters in the constructor:\n",
    "\n",
    "* numTopFeatures number of top features that the selector will select (filter).\n",
    "We provide a fit method in ChiSqSelector which can take an input of RDD[LabeledPoint] with categorical features, learn the summary statistics, and then return a ChiSqSelectorModel which can transform an input dataset into the reduced feature space.  \n",
    "\n",
    "This model implements VectorTransformer which can apply the Chi-Squared feature selection on a Vector to produce a reduced Vector or on an RDD[Vector] to produce a reduced RDD[Vector].  \n",
    "\n",
    "Note that the user can also construct a ChiSqSelectorModel by hand by providing an array of selected feature indices (which must be sorted in ascending order).\n",
    "## Example\n",
    "The following example shows the basic use of ChiSqSelector. The data set used has a feature matrix consisting of greyscale values that vary from 0 to 255 for each feature."
   ]
  },
  {
   "cell_type": "code",
   "execution_count": 1,
   "metadata": {
    "collapsed": true
   },
   "outputs": [],
   "source": [
    "import org.apache.spark.SparkContext._\n",
    "import org.apache.spark.mllib.linalg.Vectors\n",
    "import org.apache.spark.mllib.regression.LabeledPoint\n",
    "import org.apache.spark.mllib.util.MLUtils\n",
    "import org.apache.spark.mllib.feature.ChiSqSelector\n",
    "\n",
    "val PATH = \"file:///Users/lzz/work/SparkML/\"\n",
    "\n",
    "// Load some data in libsvm format\n",
    "val data = MLUtils.loadLibSVMFile(sc, PATH + \"data/mllib/sample_libsvm_data.txt\")\n",
    "// Discretize data in 16 equal bins since ChiSqSelector requires categorical features\n",
    "// Even though features are doubles, the ChiSqSelector treats each unique value as a category\n",
    "val discretizedData = data.map { lp =>\n",
    "  LabeledPoint(lp.label, Vectors.dense(lp.features.toArray.map { x => (x / 16).floor } ) )\n",
    "}\n",
    "// Create ChiSqSelector that will select top 50 of 692 features\n",
    "val selector = new ChiSqSelector(50)\n",
    "// Create ChiSqSelector model (selecting features)\n",
    "val transformer = selector.fit(discretizedData)\n",
    "// Filter the top 50 features from each feature vector\n",
    "val filteredData = discretizedData.map { lp => \n",
    "  LabeledPoint(lp.label, transformer.transform(lp.features)) \n",
    "}"
   ]
  }
 ],
 "metadata": {
  "kernelspec": {
   "display_name": "Spark 1.5.2 (Scala 2.10)",
   "language": "",
   "name": "spark"
  },
  "language_info": {
   "name": "scala",
   "version": "2.10.4"
  }
 },
 "nbformat": 4,
 "nbformat_minor": 1
}
