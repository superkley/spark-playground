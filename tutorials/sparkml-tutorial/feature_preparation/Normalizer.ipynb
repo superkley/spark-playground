{
 "cells": [
  {
   "cell_type": "markdown",
   "metadata": {},
   "source": [
    "# Normalizer\n",
    "Normalizer scales individual samples to have unit $L^p$ norm. This is a common operation for text classification or clustering. For example, the dot product of two $L^2$ normalized TF-IDF vectors is the cosine similarity of the vectors.  \n",
    "Normalizer has the following parameter in the constructor:  \n",
    "* p Normalization in $L^p$ space, p=2 by default.  \n",
    "Normalizer implements VectorTransformer which can apply the normalization on a Vector to produce a transformed Vector or on an RDD[Vector] to produce a transformed RDD[Vector].    \n",
    "\n",
    "Note that if the norm of the input is zero, it will return the input vector.\n",
    "## Example\n",
    "The example below demonstrates how to load a dataset in libsvm format, and normalizes the features with L2 norm, and L∞ norm."
   ]
  },
  {
   "cell_type": "code",
   "execution_count": 1,
   "metadata": {
    "collapsed": true
   },
   "outputs": [],
   "source": [
    "import org.apache.spark.SparkContext._\n",
    "import org.apache.spark.mllib.feature.Normalizer\n",
    "import org.apache.spark.mllib.linalg.Vectors\n",
    "import org.apache.spark.mllib.util.MLUtils\n",
    "\n",
    "val PATH = \"file:///Users/lzz/work/SparkML/\"\n",
    "val data = MLUtils.loadLibSVMFile(sc, PATH + \"data/mllib/sample_libsvm_data.txt\")\n",
    "\n",
    "val normalizer1 = new Normalizer()\n",
    "val normalizer2 = new Normalizer(p = Double.PositiveInfinity)\n",
    "\n",
    "// Each sample in data1 will be normalized using $L^2$ norm.\n",
    "val data1 = data.map(x => (x.label, normalizer1.transform(x.features)))\n",
    "\n",
    "// Each sample in data2 will be normalized using $L^\\infty$ norm.\n",
    "val data2 = data.map(x => (x.label, normalizer2.transform(x.features)))"
   ]
  }
 ],
 "metadata": {
  "kernelspec": {
   "display_name": "Spark 1.5.2 (Scala 2.10)",
   "language": "",
   "name": "spark"
  },
  "language_info": {
   "name": "scala",
   "version": "2.10.4"
  }
 },
 "nbformat": 4,
 "nbformat_minor": 1
}
