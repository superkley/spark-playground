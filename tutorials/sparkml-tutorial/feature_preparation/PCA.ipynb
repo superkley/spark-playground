{
 "cells": [
  {
   "cell_type": "markdown",
   "metadata": {},
   "source": [
    "# PCA\n",
    "A feature transformer that projects vectors to a low-dimensional space using PCA. Details you can read at dimensionality reduction.\n",
    "\n",
    "## Example\n",
    "The following code demonstrates how to compute principal components on a Vector and use them to project the vectors into a low-dimensional space while keeping associated labels for calculation a Linear Regression"
   ]
  },
  {
   "cell_type": "code",
   "execution_count": 1,
   "metadata": {
    "collapsed": false
   },
   "outputs": [
    {
     "name": "stdout",
     "output_type": "stream",
     "text": [
      "Mean Squared Error = 14.433875832615556\n",
      "PCA Mean Squared Error = 9.776863212465685\n"
     ]
    }
   ],
   "source": [
    "import org.apache.spark.mllib.regression.LinearRegressionWithSGD\n",
    "import org.apache.spark.mllib.regression.LabeledPoint\n",
    "import org.apache.spark.mllib.linalg.Vectors\n",
    "import org.apache.spark.mllib.feature.PCA\n",
    "\n",
    "val PATH = \"file:///Users/lzz/work/SparkML/\"\n",
    "\n",
    "val data = sc.textFile( PATH + \"data/mllib/ridge-data/lpsa.data\").map { line =>\n",
    "  val parts = line.split(',')\n",
    "  LabeledPoint(parts(0).toDouble, Vectors.dense(parts(1).split(' ').map(_.toDouble)))\n",
    "}.cache()\n",
    "\n",
    "val splits = data.randomSplit(Array(0.6, 0.4), seed = 11L)\n",
    "val training = splits(0).cache()\n",
    "val test = splits(1)\n",
    "\n",
    "val pca = new PCA(training.first().features.size/2).fit(data.map(_.features))\n",
    "val training_pca = training.map(p => p.copy(features = pca.transform(p.features)))\n",
    "val test_pca = test.map(p => p.copy(features = pca.transform(p.features)))\n",
    "\n",
    "val numIterations = 100\n",
    "val model = LinearRegressionWithSGD.train(training, numIterations)\n",
    "val model_pca = LinearRegressionWithSGD.train(training_pca, numIterations)\n",
    "\n",
    "val valuesAndPreds = test.map { point =>\n",
    "  val score = model.predict(point.features)\n",
    "  (score, point.label)\n",
    "}\n",
    "\n",
    "val valuesAndPreds_pca = test_pca.map { point =>\n",
    "  val score = model_pca.predict(point.features)\n",
    "  (score, point.label)\n",
    "}\n",
    "\n",
    "val MSE = valuesAndPreds.map{case(v, p) => math.pow((v - p), 2)}.mean()\n",
    "val MSE_pca = valuesAndPreds_pca.map{case(v, p) => math.pow((v - p), 2)}.mean()\n",
    "\n",
    "println(\"Mean Squared Error = \" + MSE)\n",
    "println(\"PCA Mean Squared Error = \" + MSE_pca)"
   ]
  },
  {
   "cell_type": "code",
   "execution_count": null,
   "metadata": {
    "collapsed": true
   },
   "outputs": [],
   "source": []
  }
 ],
 "metadata": {
  "kernelspec": {
   "display_name": "Spark 1.5.2 (Scala 2.10)",
   "language": "",
   "name": "spark"
  },
  "language_info": {
   "name": "scala",
   "version": "2.10.4"
  }
 },
 "nbformat": 4,
 "nbformat_minor": 1
}
