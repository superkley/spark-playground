{
 "cells": [
  {
   "cell_type": "markdown",
   "metadata": {},
   "source": [
    "# Gaussian mixture  \n",
    "A Gaussian Mixture Model represents a composite distribution whereby points are drawn from one of k Gaussian sub-distributions, each with its own probability. The MLlib implementation uses the expectation-maximization algorithm to induce the maximum-likelihood model given a set of samples. The implementation has the following parameters:  \n",
    "* k is the number of desired clusters.\n",
    "* convergenceTol is the maximum change in log-likelihood at which we consider convergence achieved.\n",
    "* maxIterations is the maximum number of iterations to perform without reaching convergence.\n",
    "* initialModel is an optional starting point from which to start the EM algorithm. If this parameter is omitted, a random starting point will be constructed from the data.\n",
    "\n",
    "## Examples\n",
    "In the following example after loading and parsing data, we use a GaussianMixture object to cluster the data into two clusters. The number of desired clusters is passed to the algorithm. We then output the parameters of the mixture model."
   ]
  },
  {
   "cell_type": "code",
   "execution_count": 1,
   "metadata": {
    "collapsed": false
   },
   "outputs": [
    {
     "name": "stdout",
     "output_type": "stream",
     "text": [
      "weight=0.520539\n",
      "mu=[-0.10417102078802391,0.0427872221534813]\n",
      "sigma=\n",
      "4.899332819692213   -2.002581397114315  \n",
      "-2.002581397114315  1.0098665429782792  \n",
      "\n",
      "weight=0.479461\n",
      "mu=[0.07229831267945304,0.01670331409541629]\n",
      "sigma=\n",
      "4.787904921970295   1.8805068924401194  \n",
      "1.8805068924401194  0.9161624104539309  \n",
      "\n"
     ]
    }
   ],
   "source": [
    "val PATH = \"file:///Users/lzz/work/SparkML/\"\n",
    "\n",
    "import org.apache.spark.mllib.clustering.GaussianMixture\n",
    "import org.apache.spark.mllib.clustering.GaussianMixtureModel\n",
    "import org.apache.spark.mllib.linalg.Vectors\n",
    "\n",
    "// Load and parse the data\n",
    "val data = sc.textFile( PATH + \"data/mllib/gmm_data.txt\")\n",
    "val parsedData = data.map(s => Vectors.dense(s.trim.split(' ').map(_.toDouble))).cache()\n",
    "\n",
    "// Cluster the data into two classes using GaussianMixture\n",
    "val gmm = new GaussianMixture().setK(2).run(parsedData)\n",
    "\n",
    "// Save and load model\n",
    "gmm.save(sc, \"myGMMModel\")\n",
    "val sameModel = GaussianMixtureModel.load(sc, \"myGMMModel\")\n",
    "\n",
    "// output parameters of max-likelihood model\n",
    "for (i <- 0 until gmm.k) {\n",
    "  println(\"weight=%f\\nmu=%s\\nsigma=\\n%s\\n\" format\n",
    "    (gmm.weights(i), gmm.gaussians(i).mu, gmm.gaussians(i).sigma))\n",
    "}"
   ]
  },
  {
   "cell_type": "code",
   "execution_count": null,
   "metadata": {
    "collapsed": true
   },
   "outputs": [],
   "source": []
  }
 ],
 "metadata": {
  "kernelspec": {
   "display_name": "Spark 1.5.2 (Scala 2.10)",
   "language": "",
   "name": "spark"
  },
  "language_info": {
   "name": "scala",
   "version": "2.10.4"
  }
 },
 "nbformat": 4,
 "nbformat_minor": 1
}
