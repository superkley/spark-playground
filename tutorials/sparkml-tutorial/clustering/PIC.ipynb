{
 "cells": [
  {
   "cell_type": "markdown",
   "metadata": {},
   "source": [
    "# Power iteration clustering (PIC)\n",
    "Power iteration clustering (PIC) is a scalable and efficient algorithm for clustering vertices of a graph given pairwise similarties as edge properties, described in Lin and Cohen, Power Iteration Clustering. It computes a pseudo-eigenvector of the normalized affinity matrix of the graph via power iteration and uses it to cluster vertices. MLlib includes an implementation of PIC using GraphX as its backend. It takes an RDD of (srcId, dstId, similarity) tuples and outputs a model with the clustering assignments. The similarities must be nonnegative. PIC assumes that the similarity measure is symmetric. A pair (srcId, dstId) regardless of the ordering should appear at most once in the input data. If a pair is missing from input, their similarity is treated as zero. MLlib’s PIC implementation takes the following (hyper-)parameters:  \n",
    "* k: number of clusters\n",
    "* maxIterations: maximum number of power iterations\n",
    "* initializationMode: initialization model. This can be either “random”, which is the default, to use a random vector as vertex properties, or “degree” to use normalized sum similarities."
   ]
  },
  {
   "cell_type": "code",
   "execution_count": 3,
   "metadata": {
    "collapsed": false
   },
   "outputs": [],
   "source": [
    "val PATH = \"file:///Users/lzz/work/SparkML/\"\n",
    "import org.apache.spark.mllib.clustering.{PowerIterationClustering, PowerIterationClusteringModel}\n",
    "import org.apache.spark.mllib.linalg.Vectors\n",
    "\n",
    "// Load and parse the data\n",
    "val data = sc.textFile(PATH+\"data/mllib/pic_data.txt\")\n",
    "val similarities = data.map { line =>\n",
    "  val parts = line.split(' ')\n",
    "  (parts(0).toLong, parts(1).toLong, parts(2).toDouble)\n",
    "}\n",
    "\n",
    "// Cluster the data into two classes using PowerIterationClustering\n",
    "val pic = new PowerIterationClustering().setK(2).setMaxIterations(10)\n",
    "val model = pic.run(similarities)\n",
    "\n",
    "model.assignments.foreach { a =>\n",
    "  println(s\"${a.id} -> ${a.cluster}\")\n",
    "}\n",
    "\n",
    "// Save and load model\n",
    "model.save(sc, \"myModelPath\")\n",
    "val sameModel = PowerIterationClusteringModel.load(sc, \"myModelPath\")"
   ]
  },
  {
   "cell_type": "code",
   "execution_count": null,
   "metadata": {
    "collapsed": true
   },
   "outputs": [],
   "source": []
  }
 ],
 "metadata": {
  "kernelspec": {
   "display_name": "Spark 1.5.2 (Scala 2.10)",
   "language": "",
   "name": "spark"
  },
  "language_info": {
   "name": "scala",
   "version": "2.10.4"
  }
 },
 "nbformat": 4,
 "nbformat_minor": 1
}
