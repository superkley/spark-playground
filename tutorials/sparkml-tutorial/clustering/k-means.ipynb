{
 "cells": [
  {
   "cell_type": "markdown",
   "metadata": {},
   "source": [
    "# K-means\n",
    "k-means 是最常用的聚类算法，聚合数据成预定于的簇数。MLlib 实现了多种并行化的 k-means++ 方法称为 kmeans||。具体实现通关 MLlib 参数设置。  \n",
    "* k is the number of desired clusters.\n",
    "* maxIterations is the maximum number of iterations to run.\n",
    "* initializationMode specifies either random initialization or initialization via k-means||.\n",
    "* runs is the number of times to run the k-means algorithm (k-means is not guaranteed to find a globally optimal solution, and when run multiple times on a given dataset, the algorithm returns the best clustering result).\n",
    "* initializationSteps determines the number of steps in the k-means|| algorithm.\n",
    "* epsilon determines the distance threshold within which we consider k-means to have converged.\n",
    "* initialModel is an optional set of cluster centers used for initialization. If this parameter is supplied, only one run is performed.\n",
    "\n",
    "## Examples\n",
    "The following code snippets can be executed in spark-shell.  \n",
    "\n",
    "In the following example after loading and parsing data, we use the KMeans object to cluster the data into two clusters. The number of desired clusters is passed to the algorithm. We then compute Within Set Sum of Squared Error (WSSSE). You can reduce this error measure by increasing k. In fact the optimal k is usually one where there is an “elbow” in the WSSSE graph."
   ]
  },
  {
   "cell_type": "code",
   "execution_count": 1,
   "metadata": {
    "collapsed": false
   },
   "outputs": [
    {
     "name": "stdout",
     "output_type": "stream",
     "text": [
      "Within Set Sum of Squared Errors = 0.11999999999994547\n"
     ]
    }
   ],
   "source": [
    "val PATH = \"file:///Users/lzz/work/SparkML/\"\n",
    "\n",
    "import org.apache.spark.mllib.clustering.{KMeans, KMeansModel}\n",
    "import org.apache.spark.mllib.linalg.Vectors\n",
    "\n",
    "// Load and parse the data\n",
    "val data = sc.textFile(PATH+\"data/mllib/kmeans_data.txt\")\n",
    "val parsedData = data.map(s => Vectors.dense(s.split(' ').map(_.toDouble))).cache()\n",
    "\n",
    "// Cluster the data into two classes using KMeans\n",
    "val numClusters = 2\n",
    "val numIterations = 20\n",
    "val clusters = KMeans.train(parsedData, numClusters, numIterations)\n",
    "\n",
    "// Evaluate clustering by computing Within Set Sum of Squared Errors\n",
    "val WSSSE = clusters.computeCost(parsedData)\n",
    "println(\"Within Set Sum of Squared Errors = \" + WSSSE)\n",
    "\n",
    "// Save and load model\n",
    "clusters.save(sc, \"myModelPath\")\n",
    "val sameModel = KMeansModel.load(sc, \"myModelPath\")"
   ]
  }
 ],
 "metadata": {
  "kernelspec": {
   "display_name": "Spark 1.5.2 (Scala 2.10)",
   "language": "",
   "name": "spark"
  },
  "language_info": {
   "name": "scala",
   "version": "2.10.4"
  }
 },
 "nbformat": 4,
 "nbformat_minor": 1
}
