{
 "cells": [
  {
   "cell_type": "markdown",
   "metadata": {},
   "source": [
    "# Spark 数据降维\n",
    "不同于回归、分类、聚类，降维方法并不是用来做模型预测的，它本身是一种预处理方法，或则说是一种特征转换的方法，而不是模型预测的方法。\n",
    "## 降维方法的种类\n",
    "MLlib提供两种相似的降维模型：PCA（principal components Analysis,主成分分析）和SVD（singular Value Decomposition,奇异值分解法）  \n",
    "### 1 主成分分析\n",
    "PCA处理一个数据矩阵，抽取矩阵中K个主向量，主向量彼此不相关。计算结果中，第一个主向量表示输入数据的最大变化方向。之后的每个主向量依次代表不考虑之前计算过的所有方向时最大的变化方向。  \n",
    "因此，返回的K个主成分代表了输入数据可能的最大变化。事实上，每一个主成分向量上有着和原始数据矩阵相同的维度。因此需要使用映射来做一次降维，原来的数据被投影到主向量表示的K维空间。\n",
    "### 2 奇异值分解\n",
    "SVD试图将一个m*m的矩阵分解为三个主成分矩阵：  \n",
    "X ＝ U*S*Vt  \n",
    "一般情况下只保留K个奇异值，他们能代表数据的最主要变化，剩余的奇异值被丢弃。、\n",
    "## 本章节主要分为以下几个部分\n",
    "* 一、从数据中抽取合适的特征\n",
    "* 二、训练降维模型\n",
    "* 三、使用降维模型\n",
    "* 四、评级降维模型\n",
    "\n",
    "## 一、从数据中抽取合适的特征\n",
    "在我们到目前为止所学到所有机器学习模型中，降维模型还可以产生数据的特征向量表示。  \n",
    "本章我们将利用户外脸部标注集（LFW，Labeled Faces in the Wild）深入到图像处理的世界。这个数据集包含13000多张主要从互联网上获得的公众人物的面部图片。这些图片用人名进行了标注。  \n",
    "### 从LFW数据集中提取特征\n",
    "为了避免下载处理非常大的数据，我们只处理图片集的一个子集，选择以A字母开头的人的面部图片。通过下面的链接可以下载到这个数据集：http://vis-www.cs.umass.edu/lfw/lfw-a.tgz"
   ]
  },
  {
   "cell_type": "code",
   "execution_count": 1,
   "metadata": {
    "collapsed": true
   },
   "outputs": [],
   "source": [
    "val PATH = \"file:///Users/lzz/work/SparkML/\"\n",
    "val path = PATH + \"data/lfw/*\""
   ]
  },
  {
   "cell_type": "code",
   "execution_count": 2,
   "metadata": {
    "collapsed": false
   },
   "outputs": [
    {
     "name": "stdout",
     "output_type": "stream",
     "text": [
      "(file:/Users/lzz/work/SparkML/data/lfw/Aaron_Eckhart/Aaron_Eckhart_0001.jpg,����\u0000\u0010JFIF\u0000\u0001\u0001\u0000\u0000\u0001\u0000\u0001\u0000\u0000��\u0000C\u0000\u0003\u0002\u0002\u0003\u0002\u0002\u0003\u0003\u0003\u0003\u0004\u0003\u0003\u0004\u0005\b\u0005\u0005\u0004\u0004\u0005\n",
      "\u0007\u0007\u0006\b\f",
      "\n",
      "\f",
      "\f",
      "\u000b",
      "\n",
      "\u000b",
      "\u000b",
      "\r",
      "\u000e\u0012\u0010\r",
      "\u000e\u0011\u000e\u000b",
      "\u000b",
      "\u0010\u0016\u0010\u0011\u0013\u0014\u0015\u0015\u0015\f",
      "\u000f\u0017\u0018\u0016\u0014\u0018\u0012\u0014\u0015\u0014��\u0000C\u0001\u0003\u0004\u0004\u0005\u0004\u0005\t\u0005\u0005\t\u0014\r",
      "\u000b",
      "\r",
      "\u0014\u0014\u0014\u0014\u0014\u0014\u0014\u0014\u0014\u0014\u0014\u0014\u0014\u0014\u0014\u0014\u0014\u0014\u0014\u0014\u0014\u0014\u0014\u0014\u0014\u0014\u0014\u0014\u0014\u0014\u0014\u0014\u0014\u0014\u0014\u0014\u0014\u0014\u0014\u0014\u0014\u0014\u0014\u0014\u0014\u0014\u0014\u0014\u0014\u0014��\u0000\u0011\b\u0000�\u0000�\u0003\u0001\"\u0000\u0002\u0011\u0001\u0003\u0011\u0001��\u0000\u001f\u0000\u0000\u0001\u0005\u0001\u0001\u0001\u0001\u0001\u0001\u0000\u0000\u0000\u0000\u0000\u0000\u0000\u0000\u0001\u0002\u0003\u0004\u0005\u0006\u0007\b\t\n",
      "\u000b",
      "��\u0000�\u0010\u0000\u0002\u0001\u0003\u0003\u0002\u0004\u0003\u0005\u0005\u0004\u0004\u0000\u0000\u0001}\u0001\u0002\u0003\u0000\u0004\u0011\u0005\u0012!1A\u0006\u0013Qa\u0007\"q\u00142���\b#B��\u0015R��$3br�\t\n",
      "\u0016\u0017\u0018\u0019\u001a%&'()*456789:CDEFGHIJSTUVWXYZcdefghijstuvwxyz���������������������������������������������������������������������������\u0000\u001f\u0001\u0000\u0003\u0001\u0001\u0001\u0001\u0001\u0001\u0001\u0001\u0001\u0000\u0000\u0000\u0000\u0000\u0000\u0001\u0002\u0003\u0004\u0005\u0006\u0007\b\t\n",
      "\u000b",
      "��\u0000�\u0011\u0000\u0002\u0001\u0002\u0004\u0004\u0003\u0004\u0007\u0005\u0004\u0004\u0000\u0001\u0002w\u0000\u0001\u0002\u0003\u0011\u0004\u0005!1\u0006\u0012AQ\u0007aq\u0013\"2�\b\u0014B����\t#3R�\u0015br�\n",
      "\u0016$4�%�\u0017\u0018\u0019\u001a&'()*56789:CDEFGHIJSTUVWXYZcdefghijstuvwxyz��������������������������������������������������������������������������\u0000\f",
      "\u0003\u0001\u0000\u0002\u0011\u0003\u0011\u0000?\u0000��\u0010/���_zy\u0007�\u0014\u0000�%}��WޟE\u0000'���&��/|�8|�����R`0Z�<��(=MM���\u0011�\t�\u0011�D�rqM6�O\u0004Ս�\u0018�}Á�h\u0002?������jj*[`@m�w4�j���\t\u0018�%R��\u000b",
      "6C�U�FM'ٔ\u001e",
      "s��\u0012\u0017~\u0006jql3��G�K��f\u0018\u0010t�9m\u0015� ��K\u0018\\���n4�\"S$`��Q�q�f\u001bT\u001c",
      "d���x\u0004�\u0019�8��\u00019�N�2\u001f��\u001d",
      "Ni\u0005�\u0003�jP�4��V2\u0011h��4��s���g�)�s@\f",
      "6�1ɧ��G�?�=�\f",
      "k6�\r",
      "�\u001c",
      ">��ҋ8=[��i�p\u000eFh�p\u0003g\u0006:��Q��\u001fV��b�\u001d",
      ")�i�)���G�h}[������R\u001d",
      "��b�rS�\u0010�KK��\u0014�4�\u0001E\u0003��\u0006\u0004�\u0000�8�('\u0014\u0000n\u001e",
      "��9�n4\u0006#�M��e\u001b1Q�[=x�\u000b",
      "\u00128=hJ⸴��f�\f",
      "����V���ǽ@Ŷ��5\u0013���(�h�d�f\u001c",
      ")>�z�A��T��]gᄴa$�u^p;Չey\u0007�\u0004[\u0010w�s���uB\r",
      "nr��Ii��\n",
      "X�_?�/�^��v�����skz�*���Q�L�a\u001fJH\u0007��5\u00147B\u0017h�\u0019^�淽��\u0016��w+!�e���Hݙ\\��[�NZ3�\u001e",
      "©2Բ+��rڻ�֖fm\\� �\u001d",
      "j%S��U״�!��j�\u0007\u0004�Z� \u001a\u000e�Zh\u0005NGZ@Ě���(���\u0005�H\u001b\u0019��\u000e)\u0017���\u0007o�;�qH\u0000�+ѫ\u0001x\u0003\u0007�M��H�sRo>�X\b2h�j@�-Fz�\u0000�֐(\u0006�*�\u0000��J�(\u001d",
      "M0\u001b�K���s@\bA�i��p\b\u0007'��B��\u0001�;�\u001f\u0003XA��\r",
      "���� ��g7ȮTUغ\u000f�n.\u0002K\"�\u001e",
      "rEt�\"ب� \u001e",
      "OU��R��\u0001\u0011\"�$TvzlC/\u0014FC�����>U9��SKR��������J{\u001e",
      "kd��F0UT\u0017�V�\u001a9\u0014�!\u0018裥Y�\u0012� ���Ys\u001aثy���\u0001��QYs�[ B���We�\u0000\b�\u0016�,�\u0004�\u0011�F��wM��f+o\u0018����jA+X�MT���Gҹ��NK�\n",
      "�m>��^���X�j�JƖ�rv�Ê鄎\u0019ۡ����8\u0007�^�]�\u000e�\u0013��&�6��L�\f",
      "�\u0018�+^c#N(��\u0002���ҳﴹc$��\u0014C4�N1�5�e3G�r\u0007\"�H9NBT��\u0015W85�_Y��\\`\u001f��D��=+t�&�F9�K�F\t�1F�TH�A��O�J�@\u0011�\u00141�K����^�@\u000e)r*V����_�.`\u001axJ������z�`\u0000g4��w�`�0�5H\u0005\u001c",
      "QE\u0014�)ri(c���\u0003�ZO�tn+��\u000b",
      "i\u001d",
      "��G�t��O��:���v��\u0010s^��r!|F�c\u001e",
      "+���M����\u0003�J�\u0010\b�U�Zid\u0016<�\t\u001a�#\u00158�6���ː�Vc<����\u001e",
      "���]\"���c�L��T\u0013�/�z�����i���N��*��F����S���\u0007�R��\\��9{Ė&��r�}\u0001\u0018�\u0017z`��+;'��]��B'�g����\"�����cY�0��z�����K��ͦ[ۡ��L}\u0014��Ǹ$\u001bW�zנ��4E\u0013L\u0011\u000fP�?ʹ�Z\b�y<{w�a$ٔ�$�8{�iXd`�WdM։����� �`��R.��*\u0015$�J��4i���v%§���ආ�\u0016�\u0011�D?4>��ml$���\u0003\n",
      "�\u0018��L\u001f�Z��P\u0001?0�\u0015P�err�L�SOX�:�3�}+��L��`Wy��\u0004�\u0000���ҸmN?\"r:b�[�0h�J�Fy�R;�j\u0011\"�p�>��c�]Oc&I���w���\u0000�\u0006RiXD�����oZ��\u001aB�;�`,n�s�;z�UB䯽7-G(\u000f*JRm����:�,\r",
      "]�BsM��i�Ҙ\tE#g4`�S\u0001h#q�'\"�6�I�\u0001f���\u0002�\u0004�\u0015��\r",
      "���B�Q1����\u0000\b�r�W��E�*\u000e��t�jO\t��2�cnկ?\u00134��B-jY�Q��u�qX��[�:tn�\u0010\u00168���\u001c",
      "�<�����\t��[\u0015�\u0016��j��(�Ѩe\u001c",
      "�:׃R�*��xz\u000e�<CL��ӌ*��Ҭ�~\u0017[p��;�׹�\u001e",
      "\u0004��\u0010鰎xݎ�o��\u0000\u0003��I\u0016]A���X�w��2���g��RC\u0015�J�t\u0000qS[x\u0003Y�q �p?�Gj�\"����b\u0017\u0012��Z��d��e�Б��\u0015��0xX\\�����ī�g\u0007��\u0015�k�\u000f���B��M}���RwWLn\u001f�ך�\u000f�� ­��r(�&�\u001e",
      "\u000e-h|��\u0018�a�\"#�@�����O�+�\u001d",
      "O�˥��`1\u0018�\\ĚJ[�qɮ��l�`�Y�Z������\u0018\u0001�*�mV/��\u001d",
      ":v����Qhe�P(�vkȵ=2Cx�\u0002\u0014g��#����v\u0005ƞ��}k��5�.&_�k��\u001bF�\u00199\u00062Fk��J�hB�\u0001]�z�L�G\u001d",
      "�;\u000eԴ:+�G�\u001c",
      "͆�1�\u001b$�qJNEP\tҌ�^izP\u0002�\n",
      "8��F(\u0002BN�in:S�ܨÊ\u0000o�>��x�HqQ?Z\u0000q Ӂ�2��\u0000��U�\"�+���L\f",
      "�Eg���4H�N��q��\u001e",
      "��K\r",
      "\u001e",
      "��G\u0013e��f#�촸m�T�bGd�%��r\b4tץ��a;�7\u0003[�v�\u001a��\u000e�\u0019 ׃�����a��\"{���9/u��\b\t�����6\u0011�\u001a��Č���\u0000��O&�{|�!�+��\u0015�w�������v>��Q�бX���P?ݭ\u001b[?/\u001f�\n",
      "=\r",
      "Al\f",
      "l��SZ�C\f",
      "̠�҉��U�ӭ��k��\u0006�Iej#($�����˭\u000e�h[�jN=y�r}\u0002٢p�Ѿ~�46GS3P�cdc\u0014ퟨ�3Yӧ�%��}��[s�\u00141[�\u0000��9�i�@�\f",
      "���5���:\u001e",
      "{�\t���t\u0003\u001d",
      "��n�IVGB1�k��\u001c",
      "���6]�\\��s<-��5�\u0004���_F�0��6\u0013���>��Mӱ\u0003$�W�j6�\u0014�\n",
      "�f���0pA5�a��<\\e�8_\u0014J-�p\u0001��W\"�mF�\"�溏\u0010�Oz��\\N�\u0014���\u0015��W>f��)� }h+�\n",
      "Č\u001e",
      "��])��cW��Z@84R\u0013���qKF3E\u0000\u0014QE\u0000J���%\u0015(�,�\u0010f�#n���\u00184�\u0000)��\u0006�\u0003֕q�ޓ\u0000W���]��FMQ\u0018\u001d",
      "�\u0001(AZ�>���$MKŗv�r�\u0002j��\t���:�P��+t�4���f�ƺ��d\u0016�@��*Ǐ�\u000b",
      "�o��G$L�k�����\u0015��Ҥ��8x�a�>�����<\u0005o�p�6�b�\u000b",
      "P����\u0007q9�Y�\r",
      "lM���[��\u0016!�Z�'����V�\r",
      "���\u0019�|�]gs�C܊}�\r",
      "G��\u0016��:�(�沭�2�Z6^\u0002��\u0000+;�_\u000e<L�\u0016�c�y�d�1�JT����\u0017�t?\u0018�\u0013����R�1�X6+�\u0014��rΣ�-\u000f����W\u001a�D\r",
      "��?y�]���k4�6\u0003#$\u001a���ϊ5\u000b",
      "��읞�c;wȧ'�u��\\h-�JH\u0005e5ˡ�\ts��u\u0010�\u0004o#\u0010B����[��24�yh\t\u0018�U>&x�<2�\u0014���zׄ�\u0011���Hb�y\u0015\u0001bP����\u001e",
      "}H�h�^�꭭iW�G���#��W��\u00104j��\u000e1^)����wS\u0002�Oar\u000eͲ)`O�+���R�\r",
      "֗+;F2Np*�Tlq�L\u001b*j�,s�\u001e",
      "샑ɯ\u0012�\u0014��Y�\\�9�O7\u0012_L���<�^A㛯#Y�N��:�\u001d",
      "O?\u001b+��֧)\f",
      "�{��1�$��\u001a��&�<��鿫zW7ҽ�j�����]��)\u0014f��gl֦a�����\u0000\b�E\u0000\u0003�>�%.\r",
      "&\u0004rv�������\u0001�\u0000���c�NO�5\u000e0j�\u0002��S)�s�\u000b",
      "��\r",
      "�}��1M�\r",
      "(|��\u0007Q�h\u0014�����\u0007����/\u001e",
      "\u001c",
      "��`�(�\u001b��7��~�x��>��\u0006�.-�I\u0007��P:���䧄u�е�;����U�O�5��࿊k�\u001b��:��2����i\u0002�:��弑��eHԃ��.�61�+aQ@\u0015�\u0010�,\n",
      "�Az�o\u0002��\u0018w�P�&2�\n",
      "��_<�3��w�\u0015�\u001a��ʨ��H>��o\u0013h�ެj��E.yeQ�w���\u0012���SEm\u0014\u0012�t�ȭ����9\u0015��-��4�[HM�D��az�_\n",
      "��I�\u001d",
      "�ʓ���:���\u0007Ұ�di4�\t�Fk9.sJq�g�?\u001b-F��B\u001c",
      "�2A\u0015��>\u0004ӭ/\u001aH����1�]\u0007����d� 1\u0015��i��\u0002����5c��57��_�\f",
      "�e�K������:���\u0004������U��'i�r}&�3���.�m\u001c",
      "fEZ�m��XxC[\u001e",
      "0�L�F�΂\u001c",
      "rq_?��9n�U2D7n\u0018��|v�\u001d",
      "��q�.q^\u001f}eifn5�c�$q�\u0004���5�Bz�y��^��\u0004�Q��$N\u0006R�����]\u000b",
      "����<�K~�X��Gc�\u001e",
      "�\u0006�H�+\f",
      "�U\u0019�)QT\u0003W�%\u0000b�\u000ei\\\u0007\u000e���OZZ)\u0000�#�ZZB��e \u001c",
      "��T�x��\u001e",
      "]@�g�\u0000\u0018�Ӛb�}h\u0003\u0014�H\u0004��Fsڛ�J��u<�2����\u0002[y<�\u0004�C_C~�_\u001au�\u000b",
      "�\u0010xf�q&�x�\\����\u0013_:\u0017ܬ\u0007a]�­@�x�F��\u0001p�'�\"�q4��mFN�D�S�[���H��\u0019�z��81�\u0000ds^Q�\u0016Vӭ�\u001c",
      "�Aҽ'M�Td^���U_$�}�9�)\u001d",
      "���o\f",
      ":TWw!�w�/Z���E��8�Y����ļ�9�\\\u001bf�^����FP1����E=��rI��x4������\u0013.�\u0001�\u0019�?\u0019�[&�p�\u001bz�Zlˁ�\u0017�7Z�R3�Y���|\u001b9��Y�\u0004W?�v��^m�@\\�5�x(+[��\u0017\u0015SWD=Y�]�/�\n",
      "\u0012I�{Q�6��\u0019n��jN�֪¼��Z��%\u0007��\u001d",
      "˒V<��ړ5��\t\f",
      "N\u0007�x?��\u0000\u0017�\u001e",
      "�k�Z�ߌ�GZ�O�� {;)���n\u0015�.����z�͖v\u0019���SOS�1�쬊x\f",
      "s�?�.�M\u0000�ݧy���Ǳ��j\u0018\"�iC��B\u0010�Ң\u0000:�S�s�j\u00006�HF\u000e)۰)@�s@\r",
      "8S�7\n",
      "B��E\u001c",
      "zP\u0003\u0007�5\u0011�J\u001c",
      "�4�sV\u0000N)7�Y�qH0N3�.�\f",
      "�ңu� L6������M���-���A\u001c",
      "d�r�4V�)�č�]��\u001c",
      "��_\u0000�;*��\b��\u0000`����q���^\u000b",
      "��|/�K8���\u001bR�\u001c",
      "��'�9\u0010�>'��Ï\u0011x�eM3N�PN\u0003m��_@�2��.R���W�e�n�!�����_V��\u001e",
      "��B��]�Vč�a�k���!\u0017�tۛۅ��D��O�t�6�)38ɺ�\"��1em\u0015�xU\t��������d�G�y��3Ap\u001b'nI\u0007�]��td���~y��������j)3��S2�$���V}����\u0005��V>��\u0014�������3���<�mR&��xZN9C��SM��J�[�^;��\u0018\u0001rpk���9�f��=�ddWi{��\n",
      "�\u0007�.R7~\u0001pEcIe�Y��_@�� �\u0015�\\�\u001d",
      "��\u0018��.�V��vPX���L��\u0004���rK�O�4{\u0012�%��1�f\u0015�i\u0013��f~\\q�*���\u0019]���6�\r",
      "����\u001c",
      "s^K�=X\u000b",
      "�T\u001e",
      "\u0014���̶l���\u001e",
      "���:Σ�����ҥN�EnX�/�\u001b'�\u0012�[$�\u0018�Exv���\u001d",
      "��\u0019e���o\u0012��h�|�`f���<�Ar�E��8���\u0016��x�s�÷\u0015\\\u0016R}\u0017�7u{��?T�浈�'�\u001a�u?������<�\u001f�t��U��+Җ��t��:R�@��T�2݃\f",
      "�*�L�)\u0014��n��\u0003���5\u0000N�A昽)A+ր\u0014�\u001c",
      "���f\f",
      "�y��\u0000V\u0007�#�\u000b",
      "�ޝ\f",
      "n�E\u0005ٺ\u0005\u00195��\r",
      "gO\u0012��X��M�� ��\u0018l{\n",
      "�)�a7c� �{�6��n�GZ�\u000f������v�)�{+C�i�\u0000���\u0000\r",
      "?e�\u0000\n",
      "�\"8d�\u0006�|\u0006L����^�bֶr�\n",
      "G\n",
      "ƭ�\u0014c\u0015�N��3s��\u001e",
      "\u0007��<3�ĭ��/&�dg�^о\u0010x_@�u��\f",
      "EG���5��a\u0015�h�6�;k\n",
      "���L#�\u0005F�]Ѥ��0�Wc����%��%\u00064=\u0007ˁ�Wm��߲i>U��\u001d",
      "�\u00020Md�b��$(N���uz�0j7Q$��}k^U\u0013\u001b��`|9���\u0016��\u000e��\u0015�v�S[�\u0011�E��.%�\u000e�\u001fb��M^�ԋ\u0013�*�\u0014~��\u001a�h)�Ӽ\r",
      "���E �c�v��:p���\u001e",
      "�o�i�0\u0019!rj�����0\u001c",
      "v�S�����S!\u001b^%݊u�����rѱ�5�+Th�\n",
      "��5#z��1ve$�f��������\u0010����A�r\u0016�\u0006\u0010���=�V�Qd�)�\u0004W>�\u000e�u\u0015�fx�N�\u001a#\u001d",
      "Ͳ$��4C\u0006��]�\u0016�v���7+�vo8\u001f�z>�o\u0004�\te\u0004�W!yi\u0003ܱl�5m\u00198�.H�\u001f\u0010�d-�K\u001b��5�X���h\u001ad�l�y�f<Wq�+;=>2�f=���=A�/��\u0001�V��G��ZI#_ŷ�\u001d",
      "=�\f",
      "���׏�z�\\G��y��\u0010��M\u0018�~}뇸�M�hNH5�Ц�xx������\u001e",
      "��/a�h�/��Q�a�\u001b�.\"\u0005�NN��f����\u0007,8�<\u0011��l@̱����h|����\ty���\u0005ȭh4g�\u000e�>�+��}�[<q(����K\b����5��mL�ssx*�S�.�Q��\u0014W\r",
      "��\u0000��\u001b�˦b&<�k����#�\u00047�,\u0016��)b>_J���\u001f1�/�~\u001c",
      "���\u0012\u0013wf�/��\\��\u000b",
      "pF\u000f9��[�\n",
      "C��Y�IQ�0�=�g��k.�\u0018�<�r�\u0007\u0002��w>@^\u0006h�\u0018�z���\u0000g�s���\u0006�\u0001�\u0007j�+�>�O��r�nGgR*\\Z\u000b",
      "��\n",
      "�i�4��q��N�bҹ�����'þ\f",
      "\u000b",
      "u����\f",
      "���S��M��=>�;;H\u00128���t���Yi4��C\t\u0017����ͬ���H�B��\"��t�\u000e\u0019L��4�ւU\u0018r;�Mb[i�G|��G\u001e",
      "rI\u001c",
      "�u��k�so\u001e",
      "�\f",
      "�p\u0005k��;�6\b쵻�TD%yY�fy\u001e",
      "�N�Tu�^}y���2e�a��^��IU�I�2!$\u001e",
      "Ex߇�'���\u001b'x�?�[B71���\u001e",
      "��+\u0004\u001aLr���0䞵SY-gx��\u0016\n",
      "r��jǇ�b{\u0004�\f",
      "����f^\\:\u0019|�\u0003\u001f��\u0014�q�w��&���Gp\u001d",
      "��\u0000�����\u0006����}J\u0005�)���\\�����Ag\u001a�\u00006r�\u001e",
      "����\u000b",
      "^x\u001fP��\t ~\u0015�R�2w.\u000f��xo�O\u0016�S�y\u0001��b�=�O�^�a��\u0003�\u0019\u001c",
      "�ƞ\u0003�4�\u000b",
      "��}h�\u0015�� =\b�5�F���\n",
      "�8��\u000fZ��\u001fG����\u0006\u0006J�+\\����fF \u0014���k!��t\u0007\u001d",
      "�\u0003y��>I\u0007Lw���\u0004֒��\u0004{⸢�S�Õ��#��m<�4(\f",
      "q�����X\u000b",
      "�P���\"�u�SU��̗\u0011��j\u000f\u001e",
      "x��\r",
      "1m�q �\f",
      "b�)6m)Z'����\u0017�gx�\u0000W�����e\u001f)'�l��_i�Iٶ��\r",
      "r7��۷S���Tu<ʍ�C.���̓�+\u0013H����%�\u001b���U�\u0010]<\u00163\u001d",
      "��6�_��\u0017�\u000b",
      "4�t>l�xS�^�\u0005��b�ȈE�@ai@\u000eÏ����\u000b",
      "\u0012\\�A;�5���Œ8e\b\u0014)��X��ʅ�0��ي<\t3\u0003H�}:��#!��zV� �v��5�eqo��w ~}����⛂��u�����ǘ߇1�*ۀ�\r",
      "]��u���\u000b",
      "ߚtv�q\u0016v\u0014oOZ��t�|�0:涧\u000b",
      "\u0005Ŗ��\\��\f",
      "c�\u001d",
      "+b���\u001c",
      "��e���T�\u0005�]\"��8��Yg�k\"���UȊ�3��-\u001a\u0002����I�5�\u0010~\th�,��[\u0004�lq,c\u0004\u001f½��+�U�\u0000t5N�(��!���\u001a�SC�??�$�\u000b",
      "ռ\u000b",
      "#�l�}b?�uJ�#�p[\u0004u\u0018��\u0010�V�����\u0010u�\u0010F2\r",
      "x���ݦKq+�\u00003\u0013�{�$��j���o��5\u0015|\f",
      "�^y�\u000f��B�*�\f",
      "\n",
      "��\"\u0006�\f",
      "�\u001e",
      "������;y��PN\u0010\u0015z�\u0001�~\u0014�\u000e�t��g�\u0001�M�.����\u001c",
      "9�8�&�<:��\u0015��s����\u000e�g�(�C\u0005��;\u000b",
      "gs���ۤ�+���\n",
      "���\u00177Px���]�����g�/;Ki��z�\t�{W�X�\u001b�\u001a]̪\u0002�\u0003\"�;2^�����3��4����/��cƺ�mqm\u0015I\f",
      "@;k��ͳK`I?1\u0019�+μlϤk�m�u\u001b�B�=�=*$��'�E\u0005��q,Y�Al����\u0000�z\u0003v�+�¡�m���\u0001�`�}*���\u000b",
      "w]��sY��+\u001au?9�3�z�Þ&��4!����:\u000eMz7�O\u001c",
      "\u000b",
      "�+y����3]���\u0004�/.$e_.pX\u0002?�\u0015�恬]xGUk\u0019�D����N��8�72>�\u0001�P�����\u0012C<j\\�g�ճ\u001d",
      "к�����z�\u001f\u000b",
      "��;�T��t�'�z6��dtM�T��|�z2���S�\n",
      "�S�6֒d5��^s�\u0002[k\u0018�+\u0019Y;f�Iu-�\u0016�EC��_\u0019\u0016�%w����5�8�\n",
      "Q����K�!Fў��b]>;[6�L,�E[��\u001aR@ʩ�\\��O\u0013��\u0002��\u0000�'b��k�)N�嚍4�0�.[W�\u0015��\u0003t~`2}+ٴM2xQY��k�\u0000zW��3�گ����i���>����/��x.d���_\\\u000f����xz^��b��J���\u0010�C6��,Y$d\u001c",
      "W�-��\u000f\u001c",
      "����X�\u001f�\u0016/�|�V��\u001e",
      "pLc \n",
      "���\u000b",
      "�R�&�-�!���KG��Kc\u0012���)4j8����0�\u0013 ^r+?F�\u0013�\\�\u0000\u0000�\u0002��\u000b",
      "�RI=����b�KC�GM��\t\u0011#�X�[��ΰ��\u0000�5��܏�\u0001�\u0017 b��\u0001���I�\u0003���c����[�\u00008�\u001d",
      "\u0017�����S�l��ɻ�=���W��\n",
      "\u0002�\u000e\u0005z\u0004o$q)+�#�i\u0018�I�}�\u0018��_8�\u001e",
      "��{l]Y�Lz\n",
      "�5�U fS���W\u001an�����pz���R�����l�N1Ryv��Ƶ5\u0019c��#\u00006z�k#\u0012�\u001c",
      "}(�\u0003����d�|\u00102Cq]5�糚�V\u0012?$1�\\\u001f���$�i\f",
      "�]>��)���+��\u0019�tzRkV��i3��\u001fT��Ú��\u0002�1�+��n�nn\u0019A�O\u0002�|}�,�s\u0012�1\u001d",
      "j��=Q��j\u0006�M�G�GC�\u001fJ�]\u001a��x��0I>g��Aѵ\u000f��\u001d",
      "㍤W�@��M<�|�'������7�Z��h9�\u0013�ʼ��\\�`�HԂ��\u0002x����&�᱅�\u0003�L>v�ʌw�#�zĥ��^\u001d",
      "��]\"��z\u0018W<��\\����v�k˘�B2In@�,Ҿ*C�|?��2�s!���\u0001�-o��.w\\��\n",
      "���y�*�=��q�ܱ�\u000f㿆|e�âZ�ne�J��q���\u001f\u0013�\u0002�s��\t��Cr\u0003�+�\u0015���\u0000\f",
      "��Y\u0014$y[ۉ\t�*�y�K];�z�\n",
      "\u0016>\u0012�.[���)T����P�Ϙ�7�\t -\u00018�#�S�\u0015����xc\u0000\u0002�w'���O�vZ�:��\u001b\\6K�\u0018��Ҽ�T��F�%��8t8���/\u0011Ioc���oD��N���,S\u0012=3V�5\u001b�C\u001e",
      "{\u0012����}4�Ԗ\u000b",
      "��\u0015�}�5��^T����P���\u0019:���4�e\u0003�&�\u001f\u0001�\"�~-{���\u000b",
      "c���ds[�/��S��M����o\u0015{��7�o\u000e��\u001d",
      "��\u001b�P\u001b�O����QnW��f\u0018�e\u0014t^3����}\u001e",
      "��Drߔ��\"\u000e\u0017��v������\u0010M=ԃt�K`����5\u0011\u001b�ws���Oҽ\u000b",
      "��\u0016\u0010^�n�\u001b+�T��>k����]/�rI�5�|���͌��O\u000e�Ӎ>�O��)2ݫZo���Q�v\f",
      "�8����-�ح��\u0004Yl`�[{\u0014�R����?����MzG�t֛M�u_�O^+��ԝv���t�O�\\d軲\u0016�9l�[�1��-�N�\u0011]�c�Mw\u001d",
      "\u0018q\\ή@!ی\u001a���[\u0012\u0001��Du\u0005&�>���Ց�9'�wvq\u0017�V��k\u0006���\u00188�kb�͂�؟�9�+t�+������\u001a%�H b��5`#F����nu_�\u00101�ѩ�\u001e",
      "��E\f",
      "qY\u000f�$t�\u000b",
      "��\u001a�\u0010\u000f\u0004�@\u0007ӊ�]2\u0010�qҋ\u000b",
      "4��i\u001b\u0004��5(�-�\u0000v�qH._���\u0016�\u0018�Tv\u0015�h����l�\u0010��w�\u001a�ίm2��0=���4i����3������fAg��\u000b",
      "-PFr�\u001c",
      "�^�����\u00072 p\u0007q^Uo��7�̯��k�t+ëiS\u0007a��Ij\u0017�y^�\u000f٭\\E�g�y���.��\f",
      "�W�x�\u001f\"\u0019�\u001d",
      "y�גX \u001a������+=�t�\u001c",
      "�T\u00020\b�w�Y�X�3��]\u000f��-\u001a�y\u0019�7�M�SZ�\u0001��Wm\u0002�xOL��-���%��}�\u0018d)�\u0015��^\u001c",
      "Y�\u0015�\u0006\n",
      "��Z�5\b���߽ҽV��.m�܌��k�t\u0014�ʅG\u0016|��\u000f\u0003K�k0\\,*�$�0:W��x]u�\u000f��\u0019$�\f",
      "q�J�<]��:/��5{�v�V�I鍸�c�Q5�rg�x\u0015����f�.P�[�F���_�f��E'�l��8r�֯�48\u0016D�H��\u0013n\u0004\u000eMt�,\u0016���\u001f�\u0003��\r",
      "UL2�*�~F|���\t�x7V�\u0015�\u0013������X-�(\u001c",
      "6F=���\u0000��\u000e��4K�'`.|��9�=�|[k�ټA\u001e",
      "�b+rg\u0011�\\ds^\u000e#\t(;�{�|e���\u0000\r",
      "4{%���v�\u0004v�)HC�\u0000\u0013���5�7ڴ�8�\u0015��2�F�J\u0016�\u0003һ/�W�Iд�\r",
      "�N~�\u001c",
      "j�\b��#��k7BК�ñ\u001d",
      "�]��q�vR����n\"����\u0000\b�Z\u000b",
      "���)�\u001b 0�S�|:b�I\u001c",
      "|�qY�\u000e�,��P�f\u0019\"�\u0006�\u000f.�I�\t�\u001c",
      "W�\b%�\u001c",
      "\r",
      "���h�b-f\\����ףh�\u000f�˅�\u001e",
      "��xOKk�Vi\n",
      "d\u0016<~5���_��G��pF\u0007n+G\u001b�\b�g�@�?\u0010\\�=I�zG�\u0011N� ^���\f",
      "Z�x�4\u001e",
      "X�^��-5fҤd�u���}�S���3p��;x�]�6iQm\u0001�ާ�s\u001a�\n",
      "�J\u0002�}Evz\r",
      "�\u000b",
      " {\u0005�YE\u0017fS[P/\"c�#�.�9�Ҧg8P���b��\u0000�\u0014���1����\u0006g��wr�\f",
      "@S��I��������w=�\u001f�vW5�W0)M�\u0001�\u001e",
      "���\n",
      "!�I�`�\u000eY2�}+�쉼�9ʯ\b*����F�<Zu���-#\f",
      "���k�_[�;\u000f/<���]}�Τeٸ�����T\u0012ɒ9�I=�����o��+\"\u001f-��[Z���i���8\n",
      "7\u001f|s\\_�X�R\t$n�]ƌ9�^�zWK��,�&e���\u000fN��|;�\u0005�\\Z�W\t�0\u0017R8�գ��%r��c�k(\u0012�����}�+/�y6�\u0000����%�^��(\u0001�!\u001c",
      "\u0012y5�)?�R�ڥ�h�\t��\r",
      "��*۱�Үx�\u001am6G۷����\u0006F{�hx��\u0016O�m-�\u000f1��W�J�rEz��G�\u0000�GJ��T\u0002\b\u0000\u001d",
      "�k�|\u001e",
      "3j�AS\u001d",
      "�[��Մ�f�MY�@[B���k/Wbd���Vކ��� \u001f���6Z\u0019�݄WV�\t��\\��e:F�,\u0017e�lp��O��\u001d",
      "�+��@\u0017��0wu�ū;�|K����/�قF7���x\u001e",
      "���~6��_4^`RR�?W9�\u0000\u0011_Ix�����`m�A縯�<H\u0002h�XQ�5�d\u000e3�k�\u0013��\t��U�}{[G�7�t����Y��(��zacN\u0005y��\u0000��/��K������@�YR�J��7&Z��\u0013Q��'�\u0001ڸ��R�}?E�-�n���\f",
      "�\u0002\u0001\u0019��\u0019�\"�N3Һ�&/R?\u0000�m���%s�z%�Gx���\u0015\u00199�O�\u0000\u000b",
      "x�\u0005t��\u0000ǜ�kD�LO)�m\u0005��Ï�I�I�B���=�W����C�ס�8\u0001\u0007N�ۺ3�Ff���\u001d",
      "\u0018���\u0015��z�*ln��cQ�\u0000���ֵ<6���'��'S��g�\u0000\n",
      "�c�\u0003�V�!�{�\b�\\�:�}K� 8�W��pv\u001aR��\u001b�\u0019�%�=�>\u001b�hڤg��*��\u0018R\u001b4U��L���\u001f��\u001f�+�$w��\u0011|�\u001c",
      "|�ⴵњv8�Ze�S��\u000e�\u0002U��.�\u0015����J���/���7�:�^�\n",
      "/��(���5��\u000f�?��)\n"
     ]
    }
   ],
   "source": [
    "val rdd = sc.wholeTextFiles( path )\n",
    "val first = rdd.first\n",
    "println( first )"
   ]
  },
  {
   "cell_type": "markdown",
   "metadata": {},
   "source": [
    "我们的例子将使用自定义代码来读取图片，所以我们需要文件路径这部分。因此我们通过下面的map函数删除前面部分："
   ]
  },
  {
   "cell_type": "code",
   "execution_count": 3,
   "metadata": {
    "collapsed": false
   },
   "outputs": [
    {
     "name": "stdout",
     "output_type": "stream",
     "text": [
      "/Users/lzz/work/SparkML/data/lfw/Aaron_Eckhart/Aaron_Eckhart_0001.jpg\n"
     ]
    }
   ],
   "source": [
    "val files = rdd.map { case (fileName, content) => fileName.replace( \"file:\", \"\") }\n",
    "println( files.first )"
   ]
  },
  {
   "cell_type": "code",
   "execution_count": 4,
   "metadata": {
    "collapsed": false
   },
   "outputs": [
    {
     "name": "stdout",
     "output_type": "stream",
     "text": [
      "1054\n"
     ]
    }
   ],
   "source": [
    "println( files.count )"
   ]
  },
  {
   "cell_type": "markdown",
   "metadata": {},
   "source": [
    "### 提取面部图片作为向量\n",
    "***（1）***载入图片  \n",
    "第一个函数是从文件中读取图片："
   ]
  },
  {
   "cell_type": "code",
   "execution_count": 5,
   "metadata": {
    "collapsed": true
   },
   "outputs": [],
   "source": [
    "import java.awt.image.BufferedImage\n",
    "def loadImageFromFile( path: String ): BufferedImage = {\n",
    "    import javax.imageio.ImageIO\n",
    "    import java.io.File\n",
    "    ImageIO.read( new File( path ))\n",
    "}"
   ]
  },
  {
   "cell_type": "markdown",
   "metadata": {},
   "source": [
    "这将返回一个java.awt.image.BufferedImage类的实例，存储图片数据并提供很多有用的方法。"
   ]
  },
  {
   "cell_type": "code",
   "execution_count": 6,
   "metadata": {
    "collapsed": false
   },
   "outputs": [
    {
     "name": "stdout",
     "output_type": "stream",
     "text": [
      "/Users/lzz/work/SparkML/data/lfw/Aaron_Eckhart/Aaron_Eckhart_0001.jpg\n"
     ]
    },
    {
     "data": {
      "text/plain": [
       "2"
      ]
     },
     "execution_count": 6,
     "metadata": {},
     "output_type": "execute_result"
    }
   ],
   "source": [
    "val aePath = \"/Users/lzz/work/SparkML/data/lfw/Aaron_Eckhart/Aaron_Eckhart_0001.jpg\"\n",
    "println(aePath)\n",
    "val aeImage = loadImageFromFile( aePath )\n",
    "aeImage"
   ]
  },
  {
   "cell_type": "markdown",
   "metadata": {},
   "source": [
    "***（2）*** 转换灰度图片并改变图片尺寸  \n",
    "我们定义自己的处理函数。我们将使用java.awt.image包一步做完灰度转换和尺寸改变："
   ]
  },
  {
   "cell_type": "code",
   "execution_count": 7,
   "metadata": {
    "collapsed": true
   },
   "outputs": [],
   "source": [
    "def processImage( image: BufferedImage, width: Int, height: Int): BufferedImage = {\n",
    "    val bwImage = new BufferedImage( width, height, BufferedImage.TYPE_BYTE_GRAY )\n",
    "    val g = bwImage.getGraphics()\n",
    "    g.drawImage( image, 0, 0, width, height, null)\n",
    "    g.dispose()\n",
    "    bwImage\n",
    "}"
   ]
  },
  {
   "cell_type": "code",
   "execution_count": 8,
   "metadata": {
    "collapsed": false
   },
   "outputs": [
    {
     "data": {
      "text/plain": [
       "0"
      ]
     },
     "execution_count": 8,
     "metadata": {},
     "output_type": "execute_result"
    }
   ],
   "source": [
    "val grayImage = processImage( aeImage, 100, 100)\n",
    "grayImage"
   ]
  },
  {
   "cell_type": "code",
   "execution_count": 9,
   "metadata": {
    "collapsed": false
   },
   "outputs": [
    {
     "data": {
      "text/plain": [
       "true"
      ]
     },
     "execution_count": 9,
     "metadata": {},
     "output_type": "execute_result"
    }
   ],
   "source": [
    "import javax.imageio.ImageIO\n",
    "import java.io.File\n",
    "ImageIO.write( grayImage, \"jpg\", new File(\"/tmp/aeGray.jpg\"))"
   ]
  },
  {
   "cell_type": "markdown",
   "metadata": {},
   "source": [
    "***（3）***提取特征向量  \n",
    "处理流程的最后一步是提取真实的特征向量作为我们降维模型的输入。正如之前提到的，纯灰度像素数据将作为特征。我们将通过打平二维的像素矩阵来构造一维的向量。BufferedImage类为此提供了一个工具方法，可以在我们的函数中使用："
   ]
  },
  {
   "cell_type": "code",
   "execution_count": 10,
   "metadata": {
    "collapsed": false
   },
   "outputs": [],
   "source": [
    "def getPixelsFromImage( image: BufferedImage): Array[Double] = {\n",
    "    val width = image.getWidth\n",
    "    val height = image.getHeight\n",
    "    val pixels = Array.ofDim[Double]( width * height )\n",
    "    image.getData.getPixels(0, 0, width, height, pixels)\n",
    "}"
   ]
  },
  {
   "cell_type": "markdown",
   "metadata": {},
   "source": [
    "之后我们中一个功能函数中组合这三个函数，接受一个图片文件位置和需要处理的宽和高，返回一个包含像素数据的Array[Double]值："
   ]
  },
  {
   "cell_type": "code",
   "execution_count": 11,
   "metadata": {
    "collapsed": true
   },
   "outputs": [],
   "source": [
    "def extractPixels( path: String, width: Int, height: Int): Array[Double] = {\n",
    "    val raw = loadImageFromFile(path)\n",
    "    val processed = processImage( raw, width, height )\n",
    "    getPixelsFromImage( processed )\n",
    "}"
   ]
  },
  {
   "cell_type": "markdown",
   "metadata": {},
   "source": [
    "把这个函数应用到包含图片路径的RDD的每一个元素上将产生一个新的RDD，新的RDD包含每张图片等像素数据。让我们通过下面的代码看看开始的几个元素："
   ]
  },
  {
   "cell_type": "code",
   "execution_count": 12,
   "metadata": {
    "collapsed": false
   },
   "outputs": [
    {
     "name": "stdout",
     "output_type": "stream",
     "text": [
      "1.0,1.0,1.0,1.0,1.0,1.0,2.0,1.0,1.0,1.0, ...\n",
      "247.0,173.0,159.0,144.0,139.0,155.0,32.0,7.0,4.0,5.0, ...\n",
      "253.0,254.0,253.0,253.0,253.0,253.0,253.0,253.0,253.0,253.0, ...\n",
      "242.0,242.0,246.0,239.0,238.0,239.0,225.0,165.0,140.0,167.0, ...\n",
      "47.0,221.0,205.0,46.0,41.0,154.0,127.0,214.0,232.0,232.0, ...\n",
      "0.0,0.0,0.0,0.0,0.0,0.0,0.0,0.0,0.0,0.0, ...\n",
      "75.0,76.0,72.0,72.0,72.0,74.0,71.0,78.0,54.0,26.0, ...\n",
      "25.0,27.0,24.0,22.0,26.0,27.0,19.0,16.0,22.0,25.0, ...\n",
      "240.0,240.0,240.0,240.0,240.0,240.0,240.0,240.0,240.0,240.0, ...\n",
      "0.0,0.0,0.0,0.0,0.0,0.0,0.0,0.0,0.0,0.0, ...\n"
     ]
    }
   ],
   "source": [
    "val pixels = files.map( f => extractPixels(f, 50, 50))\n",
    "println( pixels.take(10).map(_.take(10).mkString(\"\", \",\", \", ...\")).mkString(\"\\n\"))"
   ]
  },
  {
   "cell_type": "markdown",
   "metadata": {},
   "source": [
    "最后一步是为每一张图片创建MLlib向量对象。我们将缓存RDD来加速我们之后的计算："
   ]
  },
  {
   "cell_type": "code",
   "execution_count": 13,
   "metadata": {
    "collapsed": false
   },
   "outputs": [
    {
     "data": {
      "text/plain": [
       "image-vectors MapPartitionsRDD[4] at map at <console>:36"
      ]
     },
     "execution_count": 13,
     "metadata": {},
     "output_type": "execute_result"
    }
   ],
   "source": [
    "import org.apache.spark.mllib.linalg.Vectors\n",
    "val vectors = pixels.map( p => Vectors.dense(p) )\n",
    "vectors.setName( \"image-vectors\" )\n",
    "vectors.cache"
   ]
  },
  {
   "cell_type": "markdown",
   "metadata": {},
   "source": [
    "### 4、正则化\n",
    "在运行降维模型尤其是PCA之前，通常会对输入数据进行标准化。"
   ]
  },
  {
   "cell_type": "code",
   "execution_count": 14,
   "metadata": {
    "collapsed": true
   },
   "outputs": [],
   "source": [
    "import org.apache.spark.mllib.linalg.Matrix\n",
    "import org.apache.spark.mllib.linalg.distributed.RowMatrix\n",
    "import org.apache.spark.mllib.feature.StandardScaler\n",
    "val scaler = new StandardScaler( withMean = true, withStd = false).fit(vectors)"
   ]
  },
  {
   "cell_type": "code",
   "execution_count": 15,
   "metadata": {
    "collapsed": true
   },
   "outputs": [],
   "source": [
    "val scaledVectors = vectors.map( v => scaler.transform(v) )"
   ]
  },
  {
   "cell_type": "markdown",
   "metadata": {},
   "source": [
    "## 二、训练降维模型\n",
    "MLlib中的降维模型需要向量作为输入。但是，并不像聚类直接处理RDD[Vector],PCA和SVD的计算是通过提供基于RowMatrix的方法实现的（区别主要是语法的不同，RowMatrix也仅仅是一个RDD[Vector]的简单封装）。\n",
    "###  在LFW数据集上运行PCA\n",
    "因为我们已经从图像的像素数据中提取出了向量，现在可以初始化一个新的RowMatrix, 并调用computePrincipalComponents来计算我们的分布式矩阵的前K个主成分："
   ]
  },
  {
   "cell_type": "code",
   "execution_count": 16,
   "metadata": {
    "collapsed": false
   },
   "outputs": [],
   "source": [
    "import org.apache.spark.mllib.linalg.Matrix\n",
    "import org.apache.spark.mllib.linalg.distributed.RowMatrix\n",
    "val matrix = new RowMatrix( scaledVectors )\n",
    "val K = 10\n",
    "val pc = matrix.computePrincipalComponents(K)"
   ]
  },
  {
   "cell_type": "markdown",
   "metadata": {},
   "source": [
    "#### 1、可视化特征脸\n",
    "现在我们已经训练了自己的PCA模型，但结果如何？让我们分析一下结果矩阵的不同维度："
   ]
  },
  {
   "cell_type": "code",
   "execution_count": 17,
   "metadata": {
    "collapsed": false
   },
   "outputs": [
    {
     "name": "stdout",
     "output_type": "stream",
     "text": [
      "(2500,10)\n"
     ]
    }
   ],
   "source": [
    "val rows = pc.numRows\n",
    "val cols = pc.numCols\n",
    "println( rows, cols)"
   ]
  },
  {
   "cell_type": "code",
   "execution_count": 19,
   "metadata": {
    "collapsed": true
   },
   "outputs": [],
   "source": [
    "import breeze.linalg.DenseMatrix\n",
    "val pcBreeze = new DenseMatrix( rows, cols, pc.toArray )"
   ]
  },
  {
   "cell_type": "markdown",
   "metadata": {},
   "source": [
    "Breeze的linalg包中提供了使用的函数吧矩阵写入CSV文件中。我们将使用它把主成分保存为临时CSV文件："
   ]
  },
  {
   "cell_type": "code",
   "execution_count": 21,
   "metadata": {
    "collapsed": false
   },
   "outputs": [],
   "source": [
    "import breeze.linalg.csvwrite\n",
    "csvwrite( new File(\"/tmp/pc.csv\"), pcBreeze)"
   ]
  },
  {
   "cell_type": "markdown",
   "metadata": {},
   "source": [
    "##  三、使用降维模型\n",
    "### 在LFW数据集上使用PCA投影数据\n",
    "我们将通过把每一个LFW图像投影到10维的向量上来演示这个概念。用矩阵乘法把图像矩阵和主成分矩阵相乘来实现投影。因为图像矩阵是分布式的MLlib RowMatrix。Spark帮助我们实现了分布式计算的multipy函数："
   ]
  },
  {
   "cell_type": "code",
   "execution_count": 22,
   "metadata": {
    "collapsed": false
   },
   "outputs": [
    {
     "name": "stdout",
     "output_type": "stream",
     "text": [
      "(1054,10)\n"
     ]
    }
   ],
   "source": [
    "val projected = matrix.multiply(pc)\n",
    "println( projected.numRows, projected.numCols )"
   ]
  },
  {
   "cell_type": "code",
   "execution_count": 23,
   "metadata": {
    "collapsed": false
   },
   "outputs": [
    {
     "name": "stdout",
     "output_type": "stream",
     "text": [
      "[2656.255334446328,1331.4316152623849,443.77171439925996,-352.5378024086936,52.35190158301246,377.3800577741128,487.0249575522312,-469.5189260655325,80.88622666722512,-84.82988295536593]\n",
      "[177.0310856502517,663.9809715438986,261.50327924203305,-708.5431250876696,467.0380132620281,181.4509192089409,-37.15151425523848,635.0116960435249,882.0389729322873,-534.4893725108707]\n",
      "[-1058.983438535667,390.9754848782779,1508.454706207631,363.79206833776055,275.1957888077916,-623.0196254444063,537.4147515744895,-218.67299199041472,-231.55887927232297,-99.98392390187095]\n",
      "[-4685.773699057371,255.26635771944402,-153.10119543377468,-24.569787433435064,522.6588196148455,-375.9264880075217,-539.8743970690424,-470.0706533730587,-67.54765928695977,51.92673828087255]\n",
      "[-2762.7905683587305,622.6539180572763,-405.00678943894866,-462.90978295573234,866.4534195252717,-919.4904224431655,-31.69129561997938,-782.0657727943528,516.2915128509082,237.11383873779545]\n"
     ]
    }
   ],
   "source": [
    "println( projected.rows.take(5).mkString(\"\\n\") )"
   ]
  },
  {
   "cell_type": "markdown",
   "metadata": {},
   "source": [
    "### PCA和SVD模型的关系\n",
    "我们之前提到PCA和SVD有着密切的联系。事实上，可以使用SVD恢复出相同的主成分向量，并且应用相同的投影矩阵映射到主成分空间。  \n",
    "在我们的例子中，SVD计算产生的右奇异向量等同于我们计算得到的主成分。可以通过在图像矩阵上计算SVD并比较右奇异向量和PCA的结果说明这一点。这里PCA和SVD的计算都可以通过分布式Row Matrix提供的函数完成："
   ]
  },
  {
   "cell_type": "code",
   "execution_count": 24,
   "metadata": {
    "collapsed": false
   },
   "outputs": [
    {
     "name": "stdout",
     "output_type": "stream",
     "text": [
      "U dimension: (1054, 10)\n",
      "S dimension: (10, )\n",
      "V dimension: (2500, 10)\n"
     ]
    }
   ],
   "source": [
    "val svd = matrix.computeSVD(10, computeU = true)\n",
    "println( s\"U dimension: (${svd.U.numRows}, ${svd.U.numCols})\")\n",
    "println( s\"S dimension: (${svd.s.size}, )\" )\n",
    "println( s\"V dimension: (${svd.V.numRows}, ${svd.V.numCols})\" )"
   ]
  },
  {
   "cell_type": "markdown",
   "metadata": {},
   "source": [
    "矩阵V和PCA的结果完全一样（不考虑正负符号和浮点数误差）。可以通过使用一个工具函数大致比较两个矩阵的向量数据来确定这一点："
   ]
  },
  {
   "cell_type": "code",
   "execution_count": 27,
   "metadata": {
    "collapsed": false
   },
   "outputs": [],
   "source": [
    "def approxEqual( array1: Array[Double], array2: Array[Double], tolerance: Double = 1e-6 ): Boolean = {\n",
    "    val bools = array1.zip( array2 ).map{ case(v1, v2) => if( math.abs(math.abs(v1) - math.abs(v2)) > 1e-6) false else true}\n",
    "    bools.fold(true)(_&_)\n",
    "}"
   ]
  },
  {
   "cell_type": "code",
   "execution_count": 28,
   "metadata": {
    "collapsed": false
   },
   "outputs": [
    {
     "name": "stdout",
     "output_type": "stream",
     "text": [
      "false\n"
     ]
    }
   ],
   "source": [
    "println( approxEqual( Array(1.0, 2.0, 3.0), Array(3.0,2.0,1.0)))"
   ]
  },
  {
   "cell_type": "code",
   "execution_count": 29,
   "metadata": {
    "collapsed": false
   },
   "outputs": [
    {
     "name": "stdout",
     "output_type": "stream",
     "text": [
      "true\n"
     ]
    }
   ],
   "source": [
    "println( approxEqual( Array(1.0, 2.0, 3.0), Array(1.0,2.0,3.0)))"
   ]
  },
  {
   "cell_type": "code",
   "execution_count": 31,
   "metadata": {
    "collapsed": false
   },
   "outputs": [
    {
     "name": "stdout",
     "output_type": "stream",
     "text": [
      "true\n"
     ]
    }
   ],
   "source": [
    "println( approxEqual(svd.V.toArray, pc.toArray))"
   ]
  },
  {
   "cell_type": "markdown",
   "metadata": {},
   "source": [
    "另外一个相关性体现在：矩阵U和向量S的乘积和PCA中用来把原始图像数据投影到10个主成分构成的空间中的投影矩阵相等："
   ]
  },
  {
   "cell_type": "code",
   "execution_count": 32,
   "metadata": {
    "collapsed": false
   },
   "outputs": [
    {
     "data": {
      "text/plain": [
       "1054"
      ]
     },
     "execution_count": 32,
     "metadata": {},
     "output_type": "execute_result"
    }
   ],
   "source": [
    "val breezeS = breeze.linalg.DenseVector(svd.s.toArray)\n",
    "val projectedSVD = svd.U.rows.map{ v =>\n",
    "    val breezeV = breeze.linalg.DenseVector( v.toArray )\n",
    "    val multV = breezeV :* breezeS\n",
    "    Vectors.dense( multV.data )\n",
    "}\n",
    "projected.rows.zip( projectedSVD ).map{ \n",
    "    case( v1, v2 ) => approxEqual(v1.toArray, v2.toArray)\n",
    "}.filter( b => true).count"
   ]
  },
  {
   "cell_type": "markdown",
   "metadata": {},
   "source": [
    "## 四、评价降维模型\n",
    "####  在LFW数据集上估计SVD的K值\n",
    "通过观察在我们的图像数据集上计算SVD得到的奇异值，可以确定奇异值每次运行结果相同，并且是按照递减的顺序返回，如下所示："
   ]
  },
  {
   "cell_type": "code",
   "execution_count": 33,
   "metadata": {
    "collapsed": false
   },
   "outputs": [
    {
     "name": "stdout",
     "output_type": "stream",
     "text": [
      "[54091.009971103565]\n",
      "[54091.009971103565,33757.70286798242]\n",
      "[54091.009971103565,33757.702867982414,24541.193694775917]\n",
      "[54091.00997110355,33757.70286798243,24541.19369477594,23309.584188883004]\n",
      "[54091.00997110355,33757.702867982414,24541.19369477596,23309.58418888302,21803.09841158358]\n"
     ]
    }
   ],
   "source": [
    "val sValues = (1 to 5).map{ i => matrix.computeSVD( i, computeU = false).s }\n",
    "sValues.foreach(println)"
   ]
  },
  {
   "cell_type": "markdown",
   "metadata": {},
   "source": [
    "为了估算SVD（和PCA）做聚类时的K值，以一个较大的k的变化范围绘制一个奇异值图时很有用的。可以看到没增加一个奇异值时增加的变化量是否基本保持不变"
   ]
  },
  {
   "cell_type": "code",
   "execution_count": 34,
   "metadata": {
    "collapsed": true
   },
   "outputs": [],
   "source": [
    "val svd300 = matrix.computeSVD( 300, computeU = false )\n",
    "val sMatrix = new DenseMatrix( 1, 300, svd300.s.toArray )\n",
    "csvwrite( new File(\"/tmp/s.csv\"), sMatrix)"
   ]
  }
 ],
 "metadata": {
  "kernelspec": {
   "display_name": "Spark 1.5.2 (Scala 2.10)",
   "language": "",
   "name": "spark"
  },
  "language_info": {
   "name": "scala",
   "version": "2.10.4"
  }
 },
 "nbformat": 4,
 "nbformat_minor": 1
}
