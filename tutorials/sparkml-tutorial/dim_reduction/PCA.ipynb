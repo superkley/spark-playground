{
 "cells": [
  {
   "cell_type": "markdown",
   "metadata": {},
   "source": [
    "# Principal component analysis (PCA)\n",
    "PCA（Principal Component Analysis）是一种常用的数据分析方法。PCA通过计算样本之间的协方差构成一个方差矩阵，然后通过线性变换将原始数据变换为一组各维度线性无关的表示，可用于提取数据的主要特征分量，常用于高维数据的降维。  \n",
    "MLlib supports PCA for tall-and-skinny matrices stored in row-oriented format and any Vectors."
   ]
  },
  {
   "cell_type": "code",
   "execution_count": 1,
   "metadata": {
    "collapsed": false
   },
   "outputs": [
    {
     "name": "stdout",
     "output_type": "stream",
     "text": [
      "Principal components are:\n",
      "-0.10254174739276567    0.10636749833471082   ... (11 total)\n",
      "-0.2701315901153436     -0.21148915503895177  ...\n",
      "-0.05891637051343293    -0.05162499987903119  ...\n",
      "0.617048999525624       0.6130842535978166    ...\n",
      "-0.2520312598305243     0.2514896707404193    ...\n",
      "-0.27063623897797384    0.08969537535819513   ...\n",
      "0.16198717252363828     -0.47388476693087916  ...\n",
      "-0.18451159969012262    0.11657129286233833   ...\n",
      "0.039932516582478365    -0.19944081051727516  ...\n",
      "-0.0020016435329844057  -0.22781881654639036  ...\n",
      "0.577621667541641       -0.4053330068054373   ...\n"
     ]
    }
   ],
   "source": [
    "val PATH = \"file:///Users/lzz/work/SparkML/\"\n",
    "\n",
    "import org.apache.spark.mllib.linalg.distributed.RowMatrix\n",
    "import org.apache.spark.mllib.linalg.Vectors\n",
    "\n",
    "  // Load and parse the data file.\n",
    "    val rows = sc.textFile(PATH+\"data/mllib/sample_lda_data.txt\").map { line =>\n",
    "      val values = line.split(' ').map(_.toDouble)\n",
    "      Vectors.dense(values)\n",
    "    }\n",
    "    val mat = new RowMatrix(rows)\n",
    "\n",
    "    // Compute principal components.\n",
    "    val pc = mat.computePrincipalComponents(mat.numCols().toInt)\n",
    "\n",
    "    println(\"Principal components are:\\n\" + pc)"
   ]
  }
 ],
 "metadata": {
  "kernelspec": {
   "display_name": "Spark 1.5.2 (Scala 2.10)",
   "language": "",
   "name": "spark"
  },
  "language_info": {
   "name": "scala",
   "version": "2.10.4"
  }
 },
 "nbformat": 4,
 "nbformat_minor": 1
}
