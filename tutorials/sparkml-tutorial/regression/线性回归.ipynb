{
 "cells": [
  {
   "cell_type": "markdown",
   "metadata": {},
   "source": [
    "# Linear least squares, Lasso, and ridge regression\n",
    "## 理解回归\n",
    "回归主要关注一个唯一的因变量（需要预测的值）和一个或多个数值型的自变量（预测变量）之间的关系。我们首先假设因变量和自变量之间的关系遵循一条直线，即线性关系。我们可以用这样的函数来表示\n",
    "$ \\begin{equation}\n",
    "    f(v) := \\lambda\\, R(w) +\n",
    "    \\frac1n \\sum_{i=1}^n L(v;x_i,y_i)\n",
    "    \\label{eq:regPrimal}\n",
    "    \\ .\n",
    "\\end{equation} $。\n",
    "其中L(w;x,y)可以表示成 $y=w^Tx$,$\\lambda\\, R(w)$是正则化表达式。  \n",
    "所以我们可以这样定义损失函数：  \n",
    "$$L(w;x,y) :=  \\frac{1}{2} (w^T x - y)^2$$  \n",
    "为了找到一组参数使得损失函数L(w;x,y)取的最小值，我们可以使用最小二乘法。  \n",
    "> 不同的回归方法使用不同的正则化普通最小二乘或线性最小二乘不使用正规化，ridge regression 使用的是L2正则化; Lasso 使用的是 L1 正则化。\n",
    "\n",
    "## 例子\n",
    "这个例子使用LinearRegressionWithSGD 去构建一个简单的线性预测标签值。"
   ]
  },
  {
   "cell_type": "code",
   "execution_count": 2,
   "metadata": {
    "collapsed": false,
    "scrolled": true
   },
   "outputs": [
    {
     "name": "stdout",
     "output_type": "stream",
     "text": [
      "training Mean Squared Error = 6.207597210613578\n"
     ]
    }
   ],
   "source": [
    "import org.apache.spark.mllib.regression.LabeledPoint\n",
    "import org.apache.spark.mllib.regression.LinearRegressionModel\n",
    "import org.apache.spark.mllib.regression.LinearRegressionWithSGD\n",
    "import org.apache.spark.mllib.linalg.Vectors\n",
    "\n",
    "val PATH = \"file:///Users/lzz/work/SparkML/\"\n",
    "// 加载并解析数据\n",
    "val data = sc.textFile( PATH+\"data/mllib/ridge-data/lpsa.data\")\n",
    "val parsedData = data.map { line =>\n",
    "  val parts = line.split(',')\n",
    "  LabeledPoint(parts(0).toDouble, Vectors.dense(parts(1).split(' ').map(_.toDouble)))\n",
    "}.cache()\n",
    "\n",
    "// 建立模型\n",
    "val numIterations = 100\n",
    "val model = LinearRegressionWithSGD.train(parsedData, numIterations)\n",
    "\n",
    "// 在样本中训练模型并且计算训练误差\n",
    "val valuesAndPreds = parsedData.map { point =>\n",
    "  val prediction = model.predict(point.features)\n",
    "  (point.label, prediction)\n",
    "}\n",
    "val MSE = valuesAndPreds.map{case(v, p) => math.pow((v - p), 2)}.mean()\n",
    "println(\"training Mean Squared Error = \" + MSE)\n",
    "\n",
    "// 保存和加载模型\n",
    "model.save(sc, \"myModelPath\")\n",
    "val sameModel = LinearRegressionModel.load(sc, \"myModelPath\")"
   ]
  },
  {
   "cell_type": "markdown",
   "metadata": {},
   "source": [
    "RidgeRegressionWithSGD and LassoWithSGD can be used in a similar fashion as LinearRegressionWithSGD.\n",
    "\n",
    "In order to run the above application, follow the instructions provided in the Self-Contained Applications section of the Spark quick-start guide. Be sure to also include spark-mllib to your build file as a dependency."
   ]
  }
 ],
 "metadata": {
  "kernelspec": {
   "display_name": "Spark 1.5.2 (Scala 2.10)",
   "language": "",
   "name": "spark"
  },
  "language_info": {
   "name": "scala",
   "version": "2.10.4"
  }
 },
 "nbformat": 4,
 "nbformat_minor": 1
}
