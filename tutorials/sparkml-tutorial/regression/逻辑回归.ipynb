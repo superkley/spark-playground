{
 "cells": [
  {
   "cell_type": "code",
   "execution_count": 1,
   "metadata": {
    "collapsed": true
   },
   "outputs": [],
   "source": [
    "val PATH = \"file:///Users/lzz/work/SparkML/\""
   ]
  },
  {
   "cell_type": "markdown",
   "metadata": {},
   "source": [
    "机器学习中的线性方法大部分都可以转换为下面这种形式：\n",
    "\n",
    "$ \\begin{equation}\n",
    "    f(v) := \\lambda\\, R(v) +\n",
    "    \\frac1n \\sum_{i=1}^n L(v;x_i,y_i)\n",
    "    \\label{eq:regPrimal}\n",
    "    \\ .\n",
    "\\end{equation} $\n",
    "\n",
    "其中λ是正则化参数，L(w;x,y)是线性方法"
   ]
  },
  {
   "cell_type": "markdown",
   "metadata": {},
   "source": [
    "## Loss functions\n",
    "|      loss function L(v; x, y)       ..... |         gradient or sub-gradient      .......\n",
    " --------------------- | ------------------------- | ----------------------------\n",
    "hinge loss | $ \\max \\{0, 1-y w^T x \\}, \\quad y \\in \\{-1, +1\\} $ | $ \\begin{cases}-y \\cdot x & \\text{if $y w^T x <1$}, \\\\ 0 &\n",
    "\\text{otherwise}.\\end{cases} $\n",
    "logistic loss | $ \\log(1+\\exp( -y w^T x)), \\quad y \\in \\{-1, +1\\} $  | $ -y \\left(1-\\frac1{1+\\exp(-y w^T x)} \\right) \\cdot x $\n",
    "squared loss | $ \\frac{1}{2} (w^T x - y)^2, \\quad y \\in R $ | $ ( w^T x - y) \\cdot x $"
   ]
  },
  {
   "cell_type": "markdown",
   "metadata": {},
   "source": [
    "## Regularizers\n",
    " ......|      regularizer R(w)    .........     ..    .....|         gradient or sub-gradient  .......   ..   \n",
    " --------------------- | ------------------------- | ----------------------------\n",
    " zero (unregularized) | 0 | $ 0 $\n",
    " L2 | $ \\frac{1}{2}\\|w\\|_2^2 $ | $ w $\n",
    " L1 | $ \\|w\\|_1 $ | $ \\mathrm{sign}(w) $\n",
    " elastic net | $ \\alpha \\|w\\|_1 + (1-\\alpha)\\frac{1}{2}\\|w\\|_2^2 $ | $ \\alpha \\mathrm{sign}(w) + (1-\\alpha) w $\n"
   ]
  },
  {
   "cell_type": "markdown",
   "metadata": {},
   "source": [
    "## Logistic regression"
   ]
  },
  {
   "cell_type": "markdown",
   "metadata": {},
   "source": [
    "逻辑回归被广泛应用在二分类问题中，我们想要的函数应该能接受输入然后预测类别，单位阶跃函数就有这样的特点，但是该函数跳跃点从0到1瞬间跃到1，这个过程有时候很难处理。幸好Sigmoid函数有分类的特点，公式如下。\n",
    "$\\mathrm{f}(z) = \\frac{1}{1 + e^{-z}}$  \n",
    "其中 $z = w^Tx$,向量w也就是我们要找的最佳系数。  \n",
    "逻辑回归使用的是logistic loss 损失函数，公式如下：  \n",
    "$ L(w;x,y) :=  \\log(1+\\exp( -y w^T x)). $  \n",
    "当−ywTx <＝0 的时候 exp(−ywTx) <＝ 1， 所以log(1) <= 0,这个就是函数为什么要加1点原因"
   ]
  },
  {
   "cell_type": "code",
   "execution_count": 8,
   "metadata": {
    "collapsed": false
   },
   "outputs": [
    {
     "name": "stdout",
     "output_type": "stream",
     "text": [
      "Precision = 1.0\n"
     ]
    }
   ],
   "source": [
    "import org.apache.spark.SparkContext\n",
    "import org.apache.spark.mllib.classification.{LogisticRegressionWithLBFGS, LogisticRegressionModel}\n",
    "import org.apache.spark.mllib.evaluation.MulticlassMetrics\n",
    "import org.apache.spark.mllib.regression.LabeledPoint\n",
    "import org.apache.spark.mllib.linalg.Vectors\n",
    "import org.apache.spark.mllib.util.MLUtils\n",
    "\n",
    "// Load training data in LIBSVM format.\n",
    "val data = MLUtils.loadLibSVMFile(sc, PATH + \"data/mllib/sample_libsvm_data.txt\")\n",
    "\n",
    "// Split data into training (60%) and test (40%).\n",
    "val splits = data.randomSplit(Array(0.6, 0.4), seed = 11L)\n",
    "val training = splits(0).cache()\n",
    "val test = splits(1)\n",
    "\n",
    "// Run training algorithm to build the model\n",
    "val model = new LogisticRegressionWithLBFGS().setNumClasses(10).run(training)\n",
    "\n",
    "// Compute raw scores on the test set.\n",
    "val predictionAndLabels = test.map { case LabeledPoint(label, features) =>\n",
    "  val prediction = model.predict(features)\n",
    "  (prediction, label)\n",
    "}\n",
    "\n",
    "// Get evaluation metrics.\n",
    "val metrics = new MulticlassMetrics(predictionAndLabels)\n",
    "val precision = metrics.precision\n",
    "println(\"Precision = \" + precision)\n",
    "\n",
    "// Save and load model\n",
    "model.save(sc, \"myModelPath\")\n",
    "val sameModel = LogisticRegressionModel.load(sc, \"myModelPath\")"
   ]
  }
 ],
 "metadata": {
  "kernelspec": {
   "display_name": "Spark 1.5.2 (Scala 2.10)",
   "language": "",
   "name": "spark"
  },
  "language_info": {
   "name": "scala",
   "version": "2.10.4"
  }
 },
 "nbformat": 4,
 "nbformat_minor": 1
}
