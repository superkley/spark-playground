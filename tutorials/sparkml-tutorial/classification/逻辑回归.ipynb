{
 "cells": [
  {
   "cell_type": "markdown",
   "metadata": {},
   "source": [
    "# 逻辑回归（Logistic regression）\n",
    "逻辑回归被广泛的应用在二分类上，它是一种线性模型通过$\\begin{equation}\n",
    "    f(w) := \\lambda\\, R(w) +\n",
    "    \\frac1n \\sum_{i=1}^n L(w;x_i,y_i)\n",
    "    \\label{eq:regPrimal}\n",
    "    \\ .\n",
    "\\end{equation}$公式去训练模型，其损失函数如下：\n",
    "$$ L(w;x,y) :=  \\log(1+\\exp( -y w^T x)) $$\n",
    "对于分类问题该算法输出一个逻辑回归模型。我们输入新的数据会输出相应的分类标签，通过该模型进行预测的函数如下：\n",
    "$$\\mathrm{f}(z) = \\frac{1}{1 + e^{-z}}$$\n",
    "在这里默认情况下$z = w^T x$，如果$ \\mathrm{f}(w^T x) > 0.5 $ 输出是＋1 否则是 －1，因此不像 SVMs(svm 是根据 z > 0 来判断的这里是 0。5)。  \n",
    "Logistic回归分析可以推广到多分类Logistic回归进行训练和预测的多类分类问题。例如，K可能的结果，一个结果可以作为一个“分支”，和其他的K−1结果可分别对回归结果的分支。  \n",
    "多类分类问题，该算法将输出一个Logistic回归模型，其中包含K−1 Logistic回归模型回归分析出第一类。给出了一个新的数据点，K−1将并行运行，并具有最大概率的类将被选择作为预测类。  \n",
    "我们实现了两个算法解决logistic回归：mini-batch 梯度下降和L-BFGS。我们建议在L-BFGS更快的收敛比mini-batch梯度下降。\n",
    "\n",
    "## 例子（Example）\n",
    "下面的代码加载了多类型数据集并将它分割成训练集和测试集，然后使用LogisticRegressionWithLBFGS 逻辑回归模型来训练测试集和相关评估"
   ]
  },
  {
   "cell_type": "code",
   "execution_count": 2,
   "metadata": {
    "collapsed": false
   },
   "outputs": [
    {
     "name": "stdout",
     "output_type": "stream",
     "text": [
      "Precision = 1.0\n"
     ]
    },
    {
     "data": {
      "text/plain": [
       "Name: Syntax Error.\n",
       "Message: \n",
       "StackTrace: "
      ]
     },
     "execution_count": 2,
     "metadata": {},
     "output_type": "execute_result"
    }
   ],
   "source": [
    "val PATH = \"file:///Users/lzz/work/SparkML/\"\n",
    "import org.apache.spark.SparkContext\n",
    "import org.apache.spark.mllib.classification.{LogisticRegressionWithLBFGS, LogisticRegressionModel}\n",
    "import org.apache.spark.mllib.evaluation.MulticlassMetrics\n",
    "import org.apache.spark.mllib.regression.LabeledPoint\n",
    "import org.apache.spark.mllib.linalg.Vectors\n",
    "import org.apache.spark.mllib.util.MLUtils\n",
    "\n",
    "// Load training data in LIBSVM format.\n",
    "val data = MLUtils.loadLibSVMFile(sc, PATH+\"data/mllib/sample_libsvm_data.txt\")\n",
    "\n",
    "// Split data into training (60%) and test (40%).\n",
    "val splits = data.randomSplit(Array(0.6, 0.4), seed = 11L)\n",
    "val training = splits(0).cache()\n",
    "val test = splits(1)\n",
    "\n",
    "// Run training algorithm to build the model\n",
    "val model = new LogisticRegressionWithLBFGS().setNumClasses(10).run(training)\n",
    "\n",
    "// Compute raw scores on the test set.\n",
    "val predictionAndLabels = test.map { case LabeledPoint(label, features) =>\n",
    "  val prediction = model.predict(features)\n",
    "  (prediction, label)\n",
    "}\n",
    "\n",
    "// Get evaluation metrics.\n",
    "val metrics = new MulticlassMetrics(predictionAndLabels)\n",
    "val precision = metrics.precision\n",
    "println(\"Precision = \" + precision)\n",
    "\n",
    "// Save and load model\n",
    "//model.save(sc, \"myModelPath\")\n",
    "//val sameModel = LogisticRegressionModel.load(sc, \"myModelPath\")"
   ]
  }
 ],
 "metadata": {
  "kernelspec": {
   "display_name": "Spark 1.5.2 (Scala 2.10)",
   "language": "",
   "name": "spark"
  },
  "language_info": {
   "name": "scala",
   "version": "2.10.4"
  }
 },
 "nbformat": 4,
 "nbformat_minor": 1
}
