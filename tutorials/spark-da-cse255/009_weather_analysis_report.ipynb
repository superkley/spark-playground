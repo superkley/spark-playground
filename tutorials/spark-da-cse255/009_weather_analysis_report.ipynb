{
 "cells": [
  {
   "cell_type": "markdown",
   "metadata": {},
   "source": [
    "# Minnesota Weather Analysis"
   ]
  },
  {
   "cell_type": "markdown",
   "metadata": {},
   "source": [
    "This is a report on the historical analysis of weather patterns in an area approximately in Minnesota."
   ]
  },
  {
   "cell_type": "markdown",
   "metadata": {},
   "source": [
    "## 1. Introduction"
   ]
  },
  {
   "cell_type": "markdown",
   "metadata": {},
   "source": [
    "### 1.1 Dataset Description\n",
    "\n",
    "The weather dataset is from [NOAA](https://www.ncdc.noaa.gov/). Besides geographical information (elevation, latitude, longitude) of stations and time information, there are mainly six types of measurements:  \n",
    "\n",
    "- TMIN: daily minimum temperature\n",
    "- TMAX: daily maximum temperature\n",
    "- TOBS: average temperature for each day\n",
    "- PRCP: daily percipitation (in mm)\n",
    "- SNOW: daily snowfall (in mm)\n",
    "- SNWD: depth of accumulated snow\n",
    "\n",
    "As shown below, some measurements have strong patterns, and these patterns agree with intuition."
   ]
  },
  {
   "cell_type": "markdown",
   "metadata": {},
   "source": [
    "### 1.2 Sanity-check\n",
    "\n",
    "As the first step, I compare general statistics from dataset with graphs from [US Climate Data](http://www.usclimatedata.com/). The graph below shows the daily minimum and maximum temperatures, as well as the total precipitation for each month in Minnesota.\n",
    "\n",
    "![US climate](./images/Minnesota.png)\n",
    "\n",
    "\n",
    "Min, max daily temperature and precipation from the site agree with ones calculated from dataset.\n",
    "\n",
    "![tmin_tmax](./images/mean_std_TMIN_TMAX.png)\n",
    "\n",
    "![tmin_tmax](./images/mean_std_rain.png)"
   ]
  },
  {
   "cell_type": "markdown",
   "metadata": {},
   "source": [
    "## 2. PCA Analysis\n",
    "For each of the six measurement, we compute the percentate of the variance explained as a function of the number of eigen-vectors used."
   ]
  },
  {
   "cell_type": "markdown",
   "metadata": {},
   "source": [
    "### 2.1 Variance Explained\n",
    "\n",
    "![variance explained 1](./images/variance_explained_1.png)\n",
    "\n",
    "The top 5 eigen-vectors respectively explain 6% variance for TMIN, 30% for TOBS and 18% for TMAX.\n",
    "In conclusion, TOBS is best explained of the three by top 5 eigenvectors. Actually, the first eigen-vector alone can explain up to 18% of the variance. \n",
    "\n",
    "It makes sense since TOBS is the average temperature through each day, therefore more stable. \n",
    "\n",
    "A wierd phonomenon worth mentioning is that cumulative variance explained shows a zigzag shape. It donesn't make sense since convariance matrix is positive semi-definite. According to [Not Positive Definite Matrices--Causes and Cures](http://www2.gsu.edu/~mkteer/npdmatri.html), a possible explaination is missing data.\n",
    "\n",
    "![variance explained 2](./images/variance_explained_2.png)\n",
    "\n",
    "The top 5 eigenvectors of PRCP and SNOW, which respectively explain 7% and 12% variance, don't reveal much information. By contrast, the top 5 eigenvectors explain up to 90% of the variance for SNWD! This means that these top 5 eigenvectors capture almost all the variation in the snow signals. \n",
    "\n",
    "It makes sense that SNWD is less noisy. SNWD is a decaying integral of SNOW and, as such, varies less between days and between the same date on diffferent years."
   ]
  },
  {
   "cell_type": "markdown",
   "metadata": {},
   "source": [
    "### 2.2 Eigenvectors\n",
    "\n",
    "Based on variance graphs above, I will dig deeper into the PCA analysis for snow-depth. In specific, I will focus on eigen-decomposition since top 3 eigenvectors explain over 80% of the variance.\n",
    "\n",
    "Firstly, I plot the functions of mean and top 3 eigenvectors. It can be observed that the snow season is roughly from November to April. The peak of snow depth appears in February and March and there is no snow at all from April to October. \n",
    "\n",
    "![eigen_snow](./images/eigen_snow.png)\n",
    "\n",
    "Secondly, I try to interpret these eigenfunctions by comparing their shapes. The first eigenfunction (eig1) looks similar to the mean function, but it  close to zero from November to January while the mean is not. I think eig1 represents the amount of snow above/below the mean during the second part of snow season. In comparison, the second eigenfunction (eig2) is close to zero from January to April, but highly above zero from November to December. Therefore I think it represents the amount of snow above/below the mean during the first half of snow season. The third eigenfunction has a steeper shape from January to April, so I think it represents the amount of snow above/below the mean during a \"compressed\" snow season. \n",
    "\n",
    "In conclusion, they can be interpreted as follows:\n",
    "\n",
    "- eig1: second half of snow season\n",
    "- eig2: first half of snow season\n",
    "- eig3: compressed snow season"
   ]
  },
  {
   "cell_type": "markdown",
   "metadata": {},
   "source": [
    "### 2.3 Reconstruction\n",
    "\n",
    "#### Coeff1\n",
    "\n",
    "**most positive**\n",
    "![pos_coeff1](./images/snow_coeff1_1.png)\n",
    "\n",
    "**most negative**\n",
    "![neg_coeff1](./images/snow_coeff1_2.png)\n",
    "\n",
    "Large positive values of coeff1 suggests more than average snow in second half of the snow season. Large negative values suggests less than average snow in second half of the snow season.\n",
    "\n",
    "#### Coeff2\n",
    "\n",
    "**most positive**\n",
    "![pos_coeff2](./images/snow_coeff2_1.png)\n",
    "\n",
    "**most negative**\n",
    "![neg_coeff2](./images/snow_coeff2_2.png)\n",
    "\n",
    "Large positive values of coeff2 suggests more than average snow in first half of the snow season. Large negative values suggests less than average snow in first half of the snow season.\n",
    "\n",
    "#### Coeff3\n",
    "\n",
    "**most positive**\n",
    "![pos_coeff3](./images/snow_coeff3_1.png)\n",
    "\n",
    "**most negative**\n",
    "![neg_coeff3](./images/snow_coeff3_2.png)\n",
    "\n",
    "Large positive values of coeff3 suggests snow season compressed in the period from January to March. Large negative values suggests snow season compressed in the period from November to December."
   ]
  },
  {
   "cell_type": "markdown",
   "metadata": {},
   "source": [
    "## 3.Variation in the Timing of Snow"
   ]
  },
  {
   "cell_type": "markdown",
   "metadata": {},
   "source": [
    "To estimate the effect of location-to-location variation against year-by-year variation, we can subtract from each station/year entry the average-per-year or the average-per-station respectively. Here are the results:\n",
    "\n",
    "```\n",
    "total RMS                   =  750.23614434\n",
    "RMS removing mean-by-station=  732.635844818\n",
    "RMS removing mean-by-year   =  396.294511574\n",
    "```\n",
    "\n",
    "Since RMS removing mean-by-station is larger tan RMS removing mean-by-year, therefore the variation by year explains more than the variation by station. "
   ]
  }
 ],
 "metadata": {
  "kernelspec": {
   "display_name": "Python 3",
   "language": "python",
   "name": "python3"
  },
  "language_info": {
   "codemirror_mode": {
    "name": "ipython",
    "version": 3
   },
   "file_extension": ".py",
   "mimetype": "text/x-python",
   "name": "python",
   "nbconvert_exporter": "python",
   "pygments_lexer": "ipython3",
   "version": "3.5.4"
  }
 },
 "nbformat": 4,
 "nbformat_minor": 2
}
