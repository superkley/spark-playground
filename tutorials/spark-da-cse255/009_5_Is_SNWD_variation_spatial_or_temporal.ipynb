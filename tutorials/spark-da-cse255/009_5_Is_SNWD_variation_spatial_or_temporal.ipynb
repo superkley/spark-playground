{
 "cells": [
  {
   "cell_type": "markdown",
   "metadata": {
    "run_control": {
     "frozen": false,
     "read_only": false
    }
   },
   "source": [
    "## Analyze whether SNWD varies more from year to year or from place to place."
   ]
  },
  {
   "cell_type": "code",
   "execution_count": 1,
   "metadata": {
    "collapsed": true,
    "run_control": {
     "frozen": false,
     "read_only": false
    }
   },
   "outputs": [],
   "source": [
    "import pandas as pd\n",
    "import numpy as np\n",
    "import urllib\n",
    "import math"
   ]
  },
  {
   "cell_type": "code",
   "execution_count": 2,
   "metadata": {
    "collapsed": true,
    "run_control": {
     "frozen": false,
     "read_only": false
    }
   },
   "outputs": [],
   "source": [
    "import findspark\n",
    "findspark.init()\n",
    "\n",
    "from pyspark import SparkContext\n",
    "#sc.stop()\n",
    "sc = SparkContext(master=\"local[3]\",pyFiles=['lib/numpy_pack.py','lib/spark_PCA.py','lib/computeStats.py'])\n",
    "\n",
    "from pyspark import SparkContext\n",
    "from pyspark.sql import *\n",
    "sqlContext = SQLContext(sc)"
   ]
  },
  {
   "cell_type": "code",
   "execution_count": 3,
   "metadata": {
    "collapsed": true,
    "run_control": {
     "frozen": false,
     "read_only": false
    }
   },
   "outputs": [],
   "source": [
    "import sys\n",
    "sys.path.append('./lib')\n",
    "\n",
    "import numpy as np\n",
    "from numpy_pack import packArray,unpackArray\n",
    "from spark_PCA import computeCov\n",
    "from computeStats import computeOverAllDist, STAT_Descriptions"
   ]
  },
  {
   "cell_type": "code",
   "execution_count": 5,
   "metadata": {
    "run_control": {
     "frozen": false,
     "read_only": false
    },
    "scrolled": true
   },
   "outputs": [
    {
     "name": "stdout",
     "output_type": "stream",
     "text": [
      "('keys from STAT=', ['TMIN', 'TOBS', 'TMAX', 'SNOW', 'SNWD', 'PRCP'])\n",
      "953\n",
      "+-----------------+-------------------+-------------------+---------+--------+--------+---------+-----------+-------------------+-------------------+-------------------+-------------------+-----------+-----------+------+--------------------+------+\n",
      "|          coeff_1|            coeff_2|            coeff_3|elevation|   label|latitude|longitude|measurement|              res_1|              res_2|              res_3|           res_mean|    station|  total_var|undefs|              vector|  year|\n",
      "+-----------------+-------------------+-------------------+---------+--------+--------+---------+-----------+-------------------+-------------------+-------------------+-------------------+-----------+-----------+------+--------------------+------+\n",
      "|2840.872029540231|-1025.2231097807985|-345.80720543419574|    412.1|BBSBSBSB| 47.3864| -92.8389|       SNWD|0.23536631597571672|0.13578293696097912|0.12445324347418099|0.27092159257379306|USW00094931|3.8958865E7|     0|[C4 60 C4 60 28 6...|1989.0|\n",
      "|2514.263169873317|  783.4583864259246|  438.2467120489649|    396.8|BBSBSBSB| 47.2467| -94.2228|       SNWD|0.22352087982872948| 0.1481262901360759| 0.1245353283293502|0.23205378083318356|USC00214652| 3.508351E7|     0|[58 5E 58 5E 58 5...|1996.0|\n",
      "+-----------------+-------------------+-------------------+---------+--------+--------+---------+-----------+-------------------+-------------------+-------------------+-------------------+-----------+-----------+------+--------------------+------+\n",
      "only showing top 2 rows\n",
      "\n"
     ]
    }
   ],
   "source": [
    "### Read the data frame from pickle file\n",
    "\n",
    "data_dir='../../Data/Weather'\n",
    "file_index='BBSBSBSB'\n",
    "meas='SNWD'\n",
    "\n",
    "from pickle import load\n",
    "\n",
    "#read statistics\n",
    "filename=data_dir+'/STAT_%s.pickle'%file_index\n",
    "STAT,STAT_Descriptions = load(open(filename,'rb'))\n",
    "print('keys from STAT=',STAT.keys())\n",
    "\n",
    "#!ls -ld $data_dir/*.parquet\n",
    "\n",
    "#read data\n",
    "filename=data_dir+'/decon_%s_%s.parquet'%(file_index,meas)\n",
    "\n",
    "df=sqlContext.read.parquet(filename)\n",
    "print(df.count())\n",
    "df.show(2)"
   ]
  },
  {
   "cell_type": "code",
   "execution_count": 16,
   "metadata": {
    "run_control": {
     "frozen": false,
     "read_only": false
    }
   },
   "outputs": [
    {
     "name": "stdout",
     "output_type": "stream",
     "text": [
      "['coeff_1', 'coeff_2', 'coeff_3', 'elevation', 'label', 'latitude', 'longitude', 'measurement', 'res_1', 'res_2', 'res_3', 'res_mean', 'station', 'total_var', 'undefs', 'vector', 'year']\n"
     ]
    }
   ],
   "source": [
    "print df.columns"
   ]
  },
  {
   "cell_type": "code",
   "execution_count": 17,
   "metadata": {
    "run_control": {
     "frozen": false,
     "read_only": false
    },
    "scrolled": true
   },
   "outputs": [
    {
     "name": "stdout",
     "output_type": "stream",
     "text": [
      "SELECT station, year, coeff_2 FROM weather\n"
     ]
    },
    {
     "data": {
      "text/html": [
       "<div>\n",
       "<style>\n",
       "    .dataframe thead tr:only-child th {\n",
       "        text-align: right;\n",
       "    }\n",
       "\n",
       "    .dataframe thead th {\n",
       "        text-align: left;\n",
       "    }\n",
       "\n",
       "    .dataframe tbody tr th {\n",
       "        vertical-align: top;\n",
       "    }\n",
       "</style>\n",
       "<table border=\"1\" class=\"dataframe\">\n",
       "  <thead>\n",
       "    <tr style=\"text-align: right;\">\n",
       "      <th></th>\n",
       "      <th>station</th>\n",
       "      <th>year</th>\n",
       "      <th>coeff_2</th>\n",
       "    </tr>\n",
       "  </thead>\n",
       "  <tbody>\n",
       "    <tr>\n",
       "      <th>0</th>\n",
       "      <td>USW00094931</td>\n",
       "      <td>1989.0</td>\n",
       "      <td>-1025.223110</td>\n",
       "    </tr>\n",
       "    <tr>\n",
       "      <th>1</th>\n",
       "      <td>USC00214652</td>\n",
       "      <td>1996.0</td>\n",
       "      <td>783.458386</td>\n",
       "    </tr>\n",
       "    <tr>\n",
       "      <th>2</th>\n",
       "      <td>USW00014918</td>\n",
       "      <td>1989.0</td>\n",
       "      <td>-879.984282</td>\n",
       "    </tr>\n",
       "    <tr>\n",
       "      <th>3</th>\n",
       "      <td>USC00218543</td>\n",
       "      <td>1975.0</td>\n",
       "      <td>-26.949997</td>\n",
       "    </tr>\n",
       "    <tr>\n",
       "      <th>4</th>\n",
       "      <td>USC00218543</td>\n",
       "      <td>1969.0</td>\n",
       "      <td>342.332914</td>\n",
       "    </tr>\n",
       "  </tbody>\n",
       "</table>\n",
       "</div>"
      ],
      "text/plain": [
       "       station    year      coeff_2\n",
       "0  USW00094931  1989.0 -1025.223110\n",
       "1  USC00214652  1996.0   783.458386\n",
       "2  USW00014918  1989.0  -879.984282\n",
       "3  USC00218543  1975.0   -26.949997\n",
       "4  USC00218543  1969.0   342.332914"
      ]
     },
     "execution_count": 17,
     "metadata": {},
     "output_type": "execute_result"
    }
   ],
   "source": [
    "#extract longitude and latitude for each station\n",
    "feature='coeff_1'\n",
    "sqlContext.registerDataFrameAsTable(df,'weather')\n",
    "#Features=', '.join(['coeff_1', 'coeff_2', 'coeff_3', 'elevation', 'latitude', 'longitude',\\\n",
    "#          'res_1', 'res_2', 'res_3', 'res_mean', 'year'])\n",
    "Features='station, year, coeff_2'\n",
    "Query=\"SELECT %s FROM weather\"%Features\n",
    "print(Query)\n",
    "pdf = sqlContext.sql(Query).toPandas()\n",
    "pdf.head()"
   ]
  },
  {
   "cell_type": "code",
   "execution_count": 18,
   "metadata": {
    "run_control": {
     "frozen": false,
     "read_only": false
    }
   },
   "outputs": [
    {
     "data": {
      "text/html": [
       "<div>\n",
       "<style>\n",
       "    .dataframe thead tr:only-child th {\n",
       "        text-align: right;\n",
       "    }\n",
       "\n",
       "    .dataframe thead th {\n",
       "        text-align: left;\n",
       "    }\n",
       "\n",
       "    .dataframe tbody tr th {\n",
       "        vertical-align: top;\n",
       "    }\n",
       "</style>\n",
       "<table border=\"1\" class=\"dataframe\">\n",
       "  <thead>\n",
       "    <tr style=\"text-align: right;\">\n",
       "      <th>station</th>\n",
       "      <th>CA006020559</th>\n",
       "      <th>CA006025203</th>\n",
       "      <th>CA006025205</th>\n",
       "      <th>CA006032119</th>\n",
       "      <th>CA006034075</th>\n",
       "      <th>CA006036904</th>\n",
       "      <th>USC00210059</th>\n",
       "      <th>USC00210515</th>\n",
       "      <th>USC00210520</th>\n",
       "      <th>USC00210643</th>\n",
       "      <th>...</th>\n",
       "      <th>USC00217460</th>\n",
       "      <th>USC00218543</th>\n",
       "      <th>USC00218618</th>\n",
       "      <th>USC00218621</th>\n",
       "      <th>USC00218700</th>\n",
       "      <th>USC00218763</th>\n",
       "      <th>USC00219059</th>\n",
       "      <th>USC00219173</th>\n",
       "      <th>USW00014918</th>\n",
       "      <th>USW00094931</th>\n",
       "    </tr>\n",
       "    <tr>\n",
       "      <th>year</th>\n",
       "      <th></th>\n",
       "      <th></th>\n",
       "      <th></th>\n",
       "      <th></th>\n",
       "      <th></th>\n",
       "      <th></th>\n",
       "      <th></th>\n",
       "      <th></th>\n",
       "      <th></th>\n",
       "      <th></th>\n",
       "      <th></th>\n",
       "      <th></th>\n",
       "      <th></th>\n",
       "      <th></th>\n",
       "      <th></th>\n",
       "      <th></th>\n",
       "      <th></th>\n",
       "      <th></th>\n",
       "      <th></th>\n",
       "      <th></th>\n",
       "      <th></th>\n",
       "    </tr>\n",
       "  </thead>\n",
       "  <tbody>\n",
       "    <tr>\n",
       "      <th>1948.0</th>\n",
       "      <td>NaN</td>\n",
       "      <td>NaN</td>\n",
       "      <td>NaN</td>\n",
       "      <td>NaN</td>\n",
       "      <td>NaN</td>\n",
       "      <td>NaN</td>\n",
       "      <td>NaN</td>\n",
       "      <td>NaN</td>\n",
       "      <td>NaN</td>\n",
       "      <td>379.492536</td>\n",
       "      <td>...</td>\n",
       "      <td>NaN</td>\n",
       "      <td>NaN</td>\n",
       "      <td>NaN</td>\n",
       "      <td>NaN</td>\n",
       "      <td>NaN</td>\n",
       "      <td>NaN</td>\n",
       "      <td>NaN</td>\n",
       "      <td>NaN</td>\n",
       "      <td>-267.672193</td>\n",
       "      <td>NaN</td>\n",
       "    </tr>\n",
       "    <tr>\n",
       "      <th>1949.0</th>\n",
       "      <td>NaN</td>\n",
       "      <td>NaN</td>\n",
       "      <td>NaN</td>\n",
       "      <td>NaN</td>\n",
       "      <td>NaN</td>\n",
       "      <td>NaN</td>\n",
       "      <td>NaN</td>\n",
       "      <td>NaN</td>\n",
       "      <td>NaN</td>\n",
       "      <td>-631.805673</td>\n",
       "      <td>...</td>\n",
       "      <td>NaN</td>\n",
       "      <td>NaN</td>\n",
       "      <td>-657.055541</td>\n",
       "      <td>NaN</td>\n",
       "      <td>NaN</td>\n",
       "      <td>-195.287381</td>\n",
       "      <td>-280.933221</td>\n",
       "      <td>NaN</td>\n",
       "      <td>-396.982395</td>\n",
       "      <td>NaN</td>\n",
       "    </tr>\n",
       "    <tr>\n",
       "      <th>1950.0</th>\n",
       "      <td>NaN</td>\n",
       "      <td>NaN</td>\n",
       "      <td>NaN</td>\n",
       "      <td>NaN</td>\n",
       "      <td>NaN</td>\n",
       "      <td>NaN</td>\n",
       "      <td>NaN</td>\n",
       "      <td>NaN</td>\n",
       "      <td>NaN</td>\n",
       "      <td>455.833139</td>\n",
       "      <td>...</td>\n",
       "      <td>1065.490027</td>\n",
       "      <td>NaN</td>\n",
       "      <td>1443.947629</td>\n",
       "      <td>NaN</td>\n",
       "      <td>NaN</td>\n",
       "      <td>NaN</td>\n",
       "      <td>1015.733314</td>\n",
       "      <td>NaN</td>\n",
       "      <td>1170.047261</td>\n",
       "      <td>NaN</td>\n",
       "    </tr>\n",
       "    <tr>\n",
       "      <th>1951.0</th>\n",
       "      <td>NaN</td>\n",
       "      <td>NaN</td>\n",
       "      <td>NaN</td>\n",
       "      <td>NaN</td>\n",
       "      <td>NaN</td>\n",
       "      <td>NaN</td>\n",
       "      <td>NaN</td>\n",
       "      <td>-472.122958</td>\n",
       "      <td>NaN</td>\n",
       "      <td>219.677267</td>\n",
       "      <td>...</td>\n",
       "      <td>-232.848139</td>\n",
       "      <td>NaN</td>\n",
       "      <td>314.853196</td>\n",
       "      <td>NaN</td>\n",
       "      <td>NaN</td>\n",
       "      <td>297.738323</td>\n",
       "      <td>51.828738</td>\n",
       "      <td>NaN</td>\n",
       "      <td>-26.894272</td>\n",
       "      <td>NaN</td>\n",
       "    </tr>\n",
       "    <tr>\n",
       "      <th>1952.0</th>\n",
       "      <td>NaN</td>\n",
       "      <td>NaN</td>\n",
       "      <td>NaN</td>\n",
       "      <td>NaN</td>\n",
       "      <td>NaN</td>\n",
       "      <td>NaN</td>\n",
       "      <td>-573.669596</td>\n",
       "      <td>NaN</td>\n",
       "      <td>NaN</td>\n",
       "      <td>-541.564921</td>\n",
       "      <td>...</td>\n",
       "      <td>-283.664970</td>\n",
       "      <td>NaN</td>\n",
       "      <td>-802.369107</td>\n",
       "      <td>NaN</td>\n",
       "      <td>NaN</td>\n",
       "      <td>-67.647584</td>\n",
       "      <td>-692.764932</td>\n",
       "      <td>NaN</td>\n",
       "      <td>-570.166606</td>\n",
       "      <td>NaN</td>\n",
       "    </tr>\n",
       "    <tr>\n",
       "      <th>1953.0</th>\n",
       "      <td>NaN</td>\n",
       "      <td>NaN</td>\n",
       "      <td>NaN</td>\n",
       "      <td>NaN</td>\n",
       "      <td>NaN</td>\n",
       "      <td>NaN</td>\n",
       "      <td>-642.653479</td>\n",
       "      <td>-221.754564</td>\n",
       "      <td>NaN</td>\n",
       "      <td>634.742811</td>\n",
       "      <td>...</td>\n",
       "      <td>-154.036566</td>\n",
       "      <td>NaN</td>\n",
       "      <td>750.281189</td>\n",
       "      <td>NaN</td>\n",
       "      <td>NaN</td>\n",
       "      <td>251.853724</td>\n",
       "      <td>941.669672</td>\n",
       "      <td>NaN</td>\n",
       "      <td>449.744332</td>\n",
       "      <td>NaN</td>\n",
       "    </tr>\n",
       "    <tr>\n",
       "      <th>1954.0</th>\n",
       "      <td>NaN</td>\n",
       "      <td>NaN</td>\n",
       "      <td>NaN</td>\n",
       "      <td>NaN</td>\n",
       "      <td>NaN</td>\n",
       "      <td>NaN</td>\n",
       "      <td>-612.621530</td>\n",
       "      <td>-519.332870</td>\n",
       "      <td>NaN</td>\n",
       "      <td>-852.850814</td>\n",
       "      <td>...</td>\n",
       "      <td>-724.819228</td>\n",
       "      <td>NaN</td>\n",
       "      <td>-974.189487</td>\n",
       "      <td>NaN</td>\n",
       "      <td>NaN</td>\n",
       "      <td>-336.898829</td>\n",
       "      <td>-832.939832</td>\n",
       "      <td>NaN</td>\n",
       "      <td>-311.210730</td>\n",
       "      <td>NaN</td>\n",
       "    </tr>\n",
       "    <tr>\n",
       "      <th>1955.0</th>\n",
       "      <td>NaN</td>\n",
       "      <td>NaN</td>\n",
       "      <td>NaN</td>\n",
       "      <td>NaN</td>\n",
       "      <td>NaN</td>\n",
       "      <td>NaN</td>\n",
       "      <td>1539.705690</td>\n",
       "      <td>1457.654520</td>\n",
       "      <td>NaN</td>\n",
       "      <td>1531.029160</td>\n",
       "      <td>...</td>\n",
       "      <td>1619.573851</td>\n",
       "      <td>NaN</td>\n",
       "      <td>1083.517848</td>\n",
       "      <td>NaN</td>\n",
       "      <td>NaN</td>\n",
       "      <td>1787.632842</td>\n",
       "      <td>1451.726394</td>\n",
       "      <td>NaN</td>\n",
       "      <td>1340.746030</td>\n",
       "      <td>NaN</td>\n",
       "    </tr>\n",
       "    <tr>\n",
       "      <th>1956.0</th>\n",
       "      <td>NaN</td>\n",
       "      <td>NaN</td>\n",
       "      <td>NaN</td>\n",
       "      <td>NaN</td>\n",
       "      <td>NaN</td>\n",
       "      <td>NaN</td>\n",
       "      <td>-299.340905</td>\n",
       "      <td>-1253.749505</td>\n",
       "      <td>NaN</td>\n",
       "      <td>-1027.503271</td>\n",
       "      <td>...</td>\n",
       "      <td>58.554731</td>\n",
       "      <td>NaN</td>\n",
       "      <td>-287.312554</td>\n",
       "      <td>NaN</td>\n",
       "      <td>NaN</td>\n",
       "      <td>-314.922014</td>\n",
       "      <td>-228.154883</td>\n",
       "      <td>NaN</td>\n",
       "      <td>-82.068325</td>\n",
       "      <td>NaN</td>\n",
       "    </tr>\n",
       "    <tr>\n",
       "      <th>1957.0</th>\n",
       "      <td>NaN</td>\n",
       "      <td>NaN</td>\n",
       "      <td>NaN</td>\n",
       "      <td>NaN</td>\n",
       "      <td>NaN</td>\n",
       "      <td>NaN</td>\n",
       "      <td>-544.195769</td>\n",
       "      <td>NaN</td>\n",
       "      <td>NaN</td>\n",
       "      <td>-840.542794</td>\n",
       "      <td>...</td>\n",
       "      <td>-541.621745</td>\n",
       "      <td>NaN</td>\n",
       "      <td>-680.943419</td>\n",
       "      <td>NaN</td>\n",
       "      <td>NaN</td>\n",
       "      <td>-609.940731</td>\n",
       "      <td>-350.160637</td>\n",
       "      <td>NaN</td>\n",
       "      <td>-623.213059</td>\n",
       "      <td>NaN</td>\n",
       "    </tr>\n",
       "  </tbody>\n",
       "</table>\n",
       "<p>10 rows × 56 columns</p>\n",
       "</div>"
      ],
      "text/plain": [
       "station  CA006020559  CA006025203  CA006025205  CA006032119  CA006034075  \\\n",
       "year                                                                       \n",
       "1948.0           NaN          NaN          NaN          NaN          NaN   \n",
       "1949.0           NaN          NaN          NaN          NaN          NaN   \n",
       "1950.0           NaN          NaN          NaN          NaN          NaN   \n",
       "1951.0           NaN          NaN          NaN          NaN          NaN   \n",
       "1952.0           NaN          NaN          NaN          NaN          NaN   \n",
       "1953.0           NaN          NaN          NaN          NaN          NaN   \n",
       "1954.0           NaN          NaN          NaN          NaN          NaN   \n",
       "1955.0           NaN          NaN          NaN          NaN          NaN   \n",
       "1956.0           NaN          NaN          NaN          NaN          NaN   \n",
       "1957.0           NaN          NaN          NaN          NaN          NaN   \n",
       "\n",
       "station  CA006036904  USC00210059  USC00210515  USC00210520  USC00210643  \\\n",
       "year                                                                       \n",
       "1948.0           NaN          NaN          NaN          NaN   379.492536   \n",
       "1949.0           NaN          NaN          NaN          NaN  -631.805673   \n",
       "1950.0           NaN          NaN          NaN          NaN   455.833139   \n",
       "1951.0           NaN          NaN  -472.122958          NaN   219.677267   \n",
       "1952.0           NaN  -573.669596          NaN          NaN  -541.564921   \n",
       "1953.0           NaN  -642.653479  -221.754564          NaN   634.742811   \n",
       "1954.0           NaN  -612.621530  -519.332870          NaN  -852.850814   \n",
       "1955.0           NaN  1539.705690  1457.654520          NaN  1531.029160   \n",
       "1956.0           NaN  -299.340905 -1253.749505          NaN -1027.503271   \n",
       "1957.0           NaN  -544.195769          NaN          NaN  -840.542794   \n",
       "\n",
       "station     ...       USC00217460  USC00218543  USC00218618  USC00218621  \\\n",
       "year        ...                                                            \n",
       "1948.0      ...               NaN          NaN          NaN          NaN   \n",
       "1949.0      ...               NaN          NaN  -657.055541          NaN   \n",
       "1950.0      ...       1065.490027          NaN  1443.947629          NaN   \n",
       "1951.0      ...       -232.848139          NaN   314.853196          NaN   \n",
       "1952.0      ...       -283.664970          NaN  -802.369107          NaN   \n",
       "1953.0      ...       -154.036566          NaN   750.281189          NaN   \n",
       "1954.0      ...       -724.819228          NaN  -974.189487          NaN   \n",
       "1955.0      ...       1619.573851          NaN  1083.517848          NaN   \n",
       "1956.0      ...         58.554731          NaN  -287.312554          NaN   \n",
       "1957.0      ...       -541.621745          NaN  -680.943419          NaN   \n",
       "\n",
       "station  USC00218700  USC00218763  USC00219059  USC00219173  USW00014918  \\\n",
       "year                                                                       \n",
       "1948.0           NaN          NaN          NaN          NaN  -267.672193   \n",
       "1949.0           NaN  -195.287381  -280.933221          NaN  -396.982395   \n",
       "1950.0           NaN          NaN  1015.733314          NaN  1170.047261   \n",
       "1951.0           NaN   297.738323    51.828738          NaN   -26.894272   \n",
       "1952.0           NaN   -67.647584  -692.764932          NaN  -570.166606   \n",
       "1953.0           NaN   251.853724   941.669672          NaN   449.744332   \n",
       "1954.0           NaN  -336.898829  -832.939832          NaN  -311.210730   \n",
       "1955.0           NaN  1787.632842  1451.726394          NaN  1340.746030   \n",
       "1956.0           NaN  -314.922014  -228.154883          NaN   -82.068325   \n",
       "1957.0           NaN  -609.940731  -350.160637          NaN  -623.213059   \n",
       "\n",
       "station  USW00094931  \n",
       "year                  \n",
       "1948.0           NaN  \n",
       "1949.0           NaN  \n",
       "1950.0           NaN  \n",
       "1951.0           NaN  \n",
       "1952.0           NaN  \n",
       "1953.0           NaN  \n",
       "1954.0           NaN  \n",
       "1955.0           NaN  \n",
       "1956.0           NaN  \n",
       "1957.0           NaN  \n",
       "\n",
       "[10 rows x 56 columns]"
      ]
     },
     "execution_count": 18,
     "metadata": {},
     "output_type": "execute_result"
    }
   ],
   "source": [
    "year_station_table=pdf.pivot(index='year', columns='station', values='coeff_2')\n",
    "year_station_table.head(10)"
   ]
  },
  {
   "cell_type": "markdown",
   "metadata": {
    "run_control": {
     "frozen": false,
     "read_only": false
    }
   },
   "source": [
    "### Estimating the effect of the year vs the effect of the station\n",
    "\n",
    "To estimate the effect of time vs. location on the first eigenvector coefficient we\n",
    "compute:\n",
    "\n",
    "* The average row: `mean-by-station`\n",
    "* The average column: `mean-by-year`\n",
    "\n",
    "We then compute the RMS before and after subtracting either  the row or the column vector."
   ]
  },
  {
   "cell_type": "code",
   "execution_count": 19,
   "metadata": {
    "run_control": {
     "frozen": false,
     "read_only": false
    }
   },
   "outputs": [
    {
     "name": "stdout",
     "output_type": "stream",
     "text": [
      "total RMS                   =  750.23614434\n",
      "RMS removing mean-by-station=  732.635844818\n",
      "RMS removing mean-by-year   =  396.294511574\n"
     ]
    }
   ],
   "source": [
    "def RMS(Mat):\n",
    "    return np.sqrt(np.nanmean(Mat**2))\n",
    "\n",
    "mean_by_year=np.nanmean(year_station_table,axis=1)\n",
    "mean_by_station=np.nanmean(year_station_table,axis=0)\n",
    "tbl_minus_year = (year_station_table.transpose()-mean_by_year).transpose()\n",
    "tbl_minus_station = year_station_table-mean_by_station\n",
    "\n",
    "print 'total RMS                   = ',RMS(year_station_table)\n",
    "print 'RMS removing mean-by-station= ',RMS(tbl_minus_station)\n",
    "print 'RMS removing mean-by-year   = ',RMS(tbl_minus_year)"
   ]
  },
  {
   "cell_type": "code",
   "execution_count": 20,
   "metadata": {
    "run_control": {
     "frozen": false,
     "read_only": false
    }
   },
   "outputs": [
    {
     "name": "stdout",
     "output_type": "stream",
     "text": [
      "initial RMS= 750.23614434\n",
      "0 after removing mean by year    = 396.294511574\n",
      "0 after removing mean by stations= 362.368374542\n",
      "1 after removing mean by year    = 359.504958806\n",
      "1 after removing mean by stations= 358.962901172\n",
      "2 after removing mean by year    = 358.77208431\n",
      "2 after removing mean by stations= 358.680860668\n",
      "3 after removing mean by year    = 358.632674085\n",
      "3 after removing mean by stations= 358.606438396\n",
      "4 after removing mean by year    = 358.592008355\n",
      "4 after removing mean by stations= 358.584041122\n"
     ]
    }
   ],
   "source": [
    "T=year_station_table\n",
    "print 'initial RMS=',RMS(T)\n",
    "for i in range(5):\n",
    "    mean_by_year=np.nanmean(T,axis=1)\n",
    "    T=(T.transpose()-mean_by_year).transpose()\n",
    "    print i,'after removing mean by year    =',RMS(T)\n",
    "    mean_by_station=np.nanmean(T,axis=0)\n",
    "    T=T-mean_by_station\n",
    "    print i,'after removing mean by stations=',RMS(T)"
   ]
  },
  {
   "cell_type": "code",
   "execution_count": null,
   "metadata": {
    "collapsed": true,
    "run_control": {
     "frozen": false,
     "read_only": false
    }
   },
   "outputs": [],
   "source": []
  }
 ],
 "metadata": {
  "anaconda-cloud": {},
  "hide_input": false,
  "kernelspec": {
   "display_name": "Python 3",
   "language": "python",
   "name": "python3"
  },
  "language_info": {
   "codemirror_mode": {
    "name": "ipython",
    "version": 3
   },
   "file_extension": ".py",
   "mimetype": "text/x-python",
   "name": "python",
   "nbconvert_exporter": "python",
   "pygments_lexer": "ipython3",
   "version": "3.5.4"
  },
  "toc": {
   "colors": {
    "hover_highlight": "#DAA520",
    "running_highlight": "#FF0000",
    "selected_highlight": "#FFD700"
   },
   "moveMenuLeft": true,
   "nav_menu": {
    "height": "174px",
    "width": "252px"
   },
   "navigate_menu": true,
   "number_sections": true,
   "sideBar": true,
   "threshold": 4,
   "toc_cell": false,
   "toc_section_display": "block",
   "toc_window_display": false
  },
  "widgets": {
   "state": {},
   "version": "1.0.0"
  }
 },
 "nbformat": 4,
 "nbformat_minor": 1
}
