{
 "cells": [
  {
   "cell_type": "markdown",
   "metadata": {},
   "source": [
    "## Overview\n",
    "\n",
    "This notebook loads the movie rating data from DSX's local storage then it trains an *alternating least square* (ALS) model using Spark's Machine Learning library (MLlib).<br>\n",
    "For more information on Spark ALS, see here:\n",
    "- http://spark.apache.org/docs/latest/mllib-collaborative-filtering.html#collaborative-filtering\n",
    "- https://github.com/jadianes/spark-movie-lens"
   ]
  },
  {
   "cell_type": "markdown",
   "metadata": {},
   "source": [
    "## Load the data"
   ]
  },
  {
   "cell_type": "code",
   "execution_count": 1,
   "metadata": {},
   "outputs": [],
   "source": [
    "from pyspark.mllib.recommendation import Rating\n",
    "\n",
    "ratingsRDD = sc.textFile('ratings.dat') \\\n",
    "               .map(lambda l: l.split(\"::\")) \\\n",
    "               .map(lambda p: Rating(\n",
    "                                  user = int(p[0]), \n",
    "                                  product = int(p[1]),\n",
    "                                  rating = float(p[2]), \n",
    "                                  )).cache()"
   ]
  },
  {
   "cell_type": "markdown",
   "metadata": {
    "collapsed": true
   },
   "source": [
    "## Split into training and testing"
   ]
  },
  {
   "cell_type": "markdown",
   "metadata": {},
   "source": [
    "Next we split the data into training and testing data sets"
   ]
  },
  {
   "cell_type": "code",
   "execution_count": 2,
   "metadata": {},
   "outputs": [
    {
     "name": "stdout",
     "output_type": "stream",
     "text": [
      "Total: 1000209, Training: 800305, test: 199904\n"
     ]
    }
   ],
   "source": [
    "(training, test) = ratingsRDD.randomSplit([0.8, 0.2])\n",
    "\n",
    "numTraining = training.count()\n",
    "numTest = test.count()\n",
    "\n",
    "# verify row counts for each dataset\n",
    "print(\"Total: {0}, Training: {1}, test: {2}\".format(ratingsRDD.count(), numTraining, numTest))"
   ]
  },
  {
   "cell_type": "markdown",
   "metadata": {},
   "source": [
    "## Build the recommendation model using ALS on the training data"
   ]
  },
  {
   "cell_type": "markdown",
   "metadata": {},
   "source": [
    "I've chosen some values for the ALS parameters.  You should probaly experiment with different values."
   ]
  },
  {
   "cell_type": "code",
   "execution_count": 3,
   "metadata": {},
   "outputs": [],
   "source": [
    "from pyspark.mllib.recommendation import ALS\n",
    "\n",
    "rank = 50\n",
    "numIterations = 20\n",
    "lambdaParam = 0.1\n",
    "model = ALS.train(training, rank, numIterations, lambdaParam)"
   ]
  },
  {
   "cell_type": "markdown",
   "metadata": {},
   "source": [
    "Extract the product (movie) features"
   ]
  },
  {
   "cell_type": "code",
   "execution_count": 8,
   "metadata": {},
   "outputs": [],
   "source": [
    "import numpy as np\n",
    "\n",
    "pf = model.productFeatures().cache()\n",
    "\n",
    "pf_keys = pf.sortByKey().keys().collect()\n",
    "pf_vals = pf.sortByKey().map(lambda x: list(x[1])).collect()             \n",
    "        \n",
    "Vt = np.matrix(np.asarray(pf.values().collect()))"
   ]
  },
  {
   "cell_type": "markdown",
   "metadata": {},
   "source": [
    "Simulate a new user rating a movie"
   ]
  },
  {
   "cell_type": "code",
   "execution_count": 10,
   "metadata": {},
   "outputs": [
    {
     "name": "stdout",
     "output_type": "stream",
     "text": [
      "('predicted rating value', matrix([[ 14.65959505,  14.66570107,  14.68154852,  14.69836509,\n",
      "          14.74948512,  14.95311132,  14.96458764,  14.99105236,\n",
      "          16.78346608,  16.86513511]]))\n",
      "('predict rating prod_id', 'array([ 282,  673, 1735, 2086, 2262, 2513, 2625, 2666, 2839, 3333])')\n"
     ]
    }
   ],
   "source": [
    "full_u = np.zeros(len(pf_keys))\n",
    "full_u.itemset(1, 5) # user has rated product_id:1 = 5\n",
    "recommendations = full_u*Vt*Vt.T\n",
    "\n",
    "print(\"predicted rating value\", np.sort(recommendations)[:,-10:])\n",
    "\n",
    "top_ten_recommended_product_ids = np.where(recommendations >= np.sort(recommendations)[:,-10:].min())[1]\n",
    "\n",
    "print(\"predict rating prod_id\", np.array_repr(top_ten_recommended_product_ids))"
   ]
  },
  {
   "cell_type": "code",
   "execution_count": null,
   "metadata": {
    "collapsed": true
   },
   "outputs": [],
   "source": []
  }
 ],
 "metadata": {
  "kernelspec": {
   "display_name": "Python 3",
   "language": "python",
   "name": "python3"
  },
  "language_info": {
   "codemirror_mode": {
    "name": "ipython",
    "version": 3
   },
   "file_extension": ".py",
   "mimetype": "text/x-python",
   "name": "python",
   "nbconvert_exporter": "python",
   "pygments_lexer": "ipython3",
   "version": "3.5.4"
  }
 },
 "nbformat": 4,
 "nbformat_minor": 1
}
